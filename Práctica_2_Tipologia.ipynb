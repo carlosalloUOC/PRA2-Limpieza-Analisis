{
  "nbformat": 4,
  "nbformat_minor": 0,
  "metadata": {
    "colab": {
      "name": "Práctica_2_Tipologia (1).ipynb",
      "provenance": [],
      "collapsed_sections": [],
      "toc_visible": true
    },
    "kernelspec": {
      "name": "python3",
      "display_name": "Python 3"
    },
    "language_info": {
      "name": "python"
    }
  },
  "cells": [
    {
      "cell_type": "markdown",
      "metadata": {
        "id": "J-UHRt95zhIA"
      },
      "source": [
        "## PRÁCTICA 2"
      ]
    },
    {
      "cell_type": "markdown",
      "metadata": {
        "id": "rSfcuwFMV4ai"
      },
      "source": [
        "En primer lugar, como es común en Jupyter Notebook, se procede a importar todas las librerias y que se usarán durante la práctica"
      ]
    },
    {
      "cell_type": "code",
      "metadata": {
        "id": "PGy_duPqW6cz"
      },
      "source": [
        "import pandas\n",
        "import numpy as np\n",
        "import seaborn as sns\n",
        "import matplotlib.pyplot as plt\n",
        "from scipy.stats import norm, shapiro, mannwhitneyu\n",
        "from sklearn import preprocessing\n",
        "from scipy import stats\n",
        "import re\n",
        "import statistics as st"
      ],
      "execution_count": 1,
      "outputs": []
    },
    {
      "cell_type": "markdown",
      "metadata": {
        "id": "p085fYeqdVFt"
      },
      "source": [
        "# **1. Descripción del dataset**\n"
      ]
    },
    {
      "cell_type": "markdown",
      "metadata": {
        "id": "LjPrFHYZd2-m"
      },
      "source": [
        "## **Carga del DataSet**"
      ]
    },
    {
      "cell_type": "markdown",
      "metadata": {
        "id": "YpA8Tfc7zmxY"
      },
      "source": [
        "A continuación, procedemos a cargar el dataset extraído de Kaggle, del link: https://www.kaggle.com/ionaskel/laptop-prices. Se ha creado un enlace al link de la práctica para proceder a la carga del archibo. "
      ]
    },
    {
      "cell_type": "code",
      "metadata": {
        "colab": {
          "base_uri": "https://localhost:8080/"
        },
        "id": "hvn6MpdTzfTo",
        "outputId": "387d0f70-ea83-4bdc-a6d7-41995023f438"
      },
      "source": [
        "#Se carga el archivo con referencia al gitHub donde se encuentra el mismo\n",
        "laptops_file = 'https://raw.githubusercontent.com/carlosalloUOC/PRA2-Limpieza-Analisis/main/laptops.csv'\n",
        "#Se lee el fichero anterior, para transformarlo en un dataframe indicándole que en la primera línea\n",
        "#se encuentran las cabecera\n",
        "laptops_initial = pandas.read_csv(laptops_file, header=0, encoding='latin-1')\n",
        "#Finalmente, comprobamos que tiene las dimensiones correctas\n",
        "print(laptops_initial.shape)\n"
      ],
      "execution_count": 2,
      "outputs": [
        {
          "output_type": "stream",
          "text": [
            "(1303, 13)\n"
          ],
          "name": "stdout"
        }
      ]
    },
    {
      "cell_type": "markdown",
      "metadata": {
        "id": "62vn_AusG2_j"
      },
      "source": [
        "Se aprecia como se ha importado un dataset de 1303 filas y 13 columnas. Se puede comprabar que este hecho es correcto, ya que en la web mencionada donde se han descargado los datos se proporciona esta información. A continuación, se procede a imprimir las 5 primeras filas del dataframe, para entender el tipo de datos con el que se va a trabajar:"
      ]
    },
    {
      "cell_type": "code",
      "metadata": {
        "colab": {
          "base_uri": "https://localhost:8080/",
          "height": 462
        },
        "id": "f2z9yPuq2Qgp",
        "outputId": "3a334e5a-390d-40a6-9147-15f8f8894d9f"
      },
      "source": [
        "laptops_initial.head(5)"
      ],
      "execution_count": 3,
      "outputs": [
        {
          "output_type": "execute_result",
          "data": {
            "text/html": [
              "<div>\n",
              "<style scoped>\n",
              "    .dataframe tbody tr th:only-of-type {\n",
              "        vertical-align: middle;\n",
              "    }\n",
              "\n",
              "    .dataframe tbody tr th {\n",
              "        vertical-align: top;\n",
              "    }\n",
              "\n",
              "    .dataframe thead th {\n",
              "        text-align: right;\n",
              "    }\n",
              "</style>\n",
              "<table border=\"1\" class=\"dataframe\">\n",
              "  <thead>\n",
              "    <tr style=\"text-align: right;\">\n",
              "      <th></th>\n",
              "      <th>Unnamed: 0</th>\n",
              "      <th>Company</th>\n",
              "      <th>Product</th>\n",
              "      <th>TypeName</th>\n",
              "      <th>Inches</th>\n",
              "      <th>ScreenResolution</th>\n",
              "      <th>Cpu</th>\n",
              "      <th>Ram</th>\n",
              "      <th>Memory</th>\n",
              "      <th>Gpu</th>\n",
              "      <th>OpSys</th>\n",
              "      <th>Weight</th>\n",
              "      <th>Price_euros</th>\n",
              "    </tr>\n",
              "  </thead>\n",
              "  <tbody>\n",
              "    <tr>\n",
              "      <th>0</th>\n",
              "      <td>1</td>\n",
              "      <td>Apple</td>\n",
              "      <td>MacBook Pro</td>\n",
              "      <td>Ultrabook</td>\n",
              "      <td>13.3</td>\n",
              "      <td>IPS Panel Retina Display 2560x1600</td>\n",
              "      <td>Intel Core i5 2.3GHz</td>\n",
              "      <td>8GB</td>\n",
              "      <td>128GB SSD</td>\n",
              "      <td>Intel Iris Plus Graphics 640</td>\n",
              "      <td>macOS</td>\n",
              "      <td>1.37kg</td>\n",
              "      <td>1339.69</td>\n",
              "    </tr>\n",
              "    <tr>\n",
              "      <th>1</th>\n",
              "      <td>2</td>\n",
              "      <td>Apple</td>\n",
              "      <td>Macbook Air</td>\n",
              "      <td>Ultrabook</td>\n",
              "      <td>13.3</td>\n",
              "      <td>1440x900</td>\n",
              "      <td>Intel Core i5 1.8GHz</td>\n",
              "      <td>8GB</td>\n",
              "      <td>128GB Flash Storage</td>\n",
              "      <td>Intel HD Graphics 6000</td>\n",
              "      <td>macOS</td>\n",
              "      <td>1.34kg</td>\n",
              "      <td>898.94</td>\n",
              "    </tr>\n",
              "    <tr>\n",
              "      <th>2</th>\n",
              "      <td>3</td>\n",
              "      <td>HP</td>\n",
              "      <td>250 G6</td>\n",
              "      <td>Notebook</td>\n",
              "      <td>15.6</td>\n",
              "      <td>Full HD 1920x1080</td>\n",
              "      <td>Intel Core i5 7200U 2.5GHz</td>\n",
              "      <td>8GB</td>\n",
              "      <td>256GB SSD</td>\n",
              "      <td>Intel HD Graphics 620</td>\n",
              "      <td>No OS</td>\n",
              "      <td>1.86kg</td>\n",
              "      <td>575.00</td>\n",
              "    </tr>\n",
              "    <tr>\n",
              "      <th>3</th>\n",
              "      <td>4</td>\n",
              "      <td>Apple</td>\n",
              "      <td>MacBook Pro</td>\n",
              "      <td>Ultrabook</td>\n",
              "      <td>15.4</td>\n",
              "      <td>IPS Panel Retina Display 2880x1800</td>\n",
              "      <td>Intel Core i7 2.7GHz</td>\n",
              "      <td>16GB</td>\n",
              "      <td>512GB SSD</td>\n",
              "      <td>AMD Radeon Pro 455</td>\n",
              "      <td>macOS</td>\n",
              "      <td>1.83kg</td>\n",
              "      <td>2537.45</td>\n",
              "    </tr>\n",
              "    <tr>\n",
              "      <th>4</th>\n",
              "      <td>5</td>\n",
              "      <td>Apple</td>\n",
              "      <td>MacBook Pro</td>\n",
              "      <td>Ultrabook</td>\n",
              "      <td>13.3</td>\n",
              "      <td>IPS Panel Retina Display 2560x1600</td>\n",
              "      <td>Intel Core i5 3.1GHz</td>\n",
              "      <td>8GB</td>\n",
              "      <td>256GB SSD</td>\n",
              "      <td>Intel Iris Plus Graphics 650</td>\n",
              "      <td>macOS</td>\n",
              "      <td>1.37kg</td>\n",
              "      <td>1803.60</td>\n",
              "    </tr>\n",
              "  </tbody>\n",
              "</table>\n",
              "</div>"
            ],
            "text/plain": [
              "   Unnamed: 0 Company      Product  ...  OpSys  Weight Price_euros\n",
              "0           1   Apple  MacBook Pro  ...  macOS  1.37kg     1339.69\n",
              "1           2   Apple  Macbook Air  ...  macOS  1.34kg      898.94\n",
              "2           3      HP       250 G6  ...  No OS  1.86kg      575.00\n",
              "3           4   Apple  MacBook Pro  ...  macOS  1.83kg     2537.45\n",
              "4           5   Apple  MacBook Pro  ...  macOS  1.37kg     1803.60\n",
              "\n",
              "[5 rows x 13 columns]"
            ]
          },
          "metadata": {
            "tags": []
          },
          "execution_count": 3
        }
      ]
    },
    {
      "cell_type": "markdown",
      "metadata": {
        "id": "CjGrNWk4d8OJ"
      },
      "source": [
        "## **Descripción de variables**"
      ]
    },
    {
      "cell_type": "markdown",
      "metadata": {
        "id": "Ij_BNsIxG7fm"
      },
      "source": [
        "Se aprecia que se cuentan con las siguientes columnas:\n",
        "* Unnamed: 0\t\n",
        "* Company\t\n",
        "* Product\t\n",
        "* TypeName\t\n",
        "* Inches\t\n",
        "* ScreenResolution\t\n",
        "* Cpu\t\n",
        "* Ram\t\n",
        "* Memory\t\n",
        "* Gpu\t\n",
        "* OpSys\t\n",
        "* Weight\t\n",
        "* Price_euros\n",
        "\n",
        "En donde, aunque su nombre es bastante descriptivo, en la documentación se muestra la siguente información sobre estas columnas:\n",
        "* Unnamed: 0\t--> No da información, pero por su estructura en los datos, se aprecia que tiene tiene la mera función de ID_descendente para cada una de las columnas\n",
        "* Company\t--> Company Name\n",
        "* Product\t--> Product Name\n",
        "* TypeName\t--> Laptop Type\n",
        "* Inches\t--> Screen Inches\n",
        "* ScreenResolution\t--> Screen Resolution\n",
        "* Cpu\t--> CPU Model\n",
        "* Ram\t--> RAM Characteristics\n",
        "* Memory\t--> Memory\n",
        "* Gpu\t--> GPU Characteristics\n",
        "* OpSys\t--> Operating System\n",
        "* Weight\t--> Laptop's Weight\n",
        "* Price_euros --> Laptop's Price\n",
        "\n",
        "Además, se aprecia que para valores numéricos, tan solo se presentan sin unidades de medida en los propios datos para el caso del precio (en donde se indica que son euros en el propio nombre de la variable (Price_euros)), al igual que ocurre con el tamaño que ya se da en pulgadas. Para otros casos, como el caso del peso, la memoria o la RAM no ocurre este hecho al proporcionarse junto la unidad la unidad de medida. Esto, como se verá en pasos posteriores, será objeto de tratamiento para poder hacer de esta manera el estudio de homegeneidad, realizar representaciones o por si se quieren construir modelos a partir de los datos. "
      ]
    },
    {
      "cell_type": "markdown",
      "metadata": {
        "id": "xjmNMUkNeKsC"
      },
      "source": [
        "## **Respuesta a encontrar**"
      ]
    },
    {
      "cell_type": "markdown",
      "metadata": {
        "id": "2jhNoIP9eUgS"
      },
      "source": [
        "# **2. Integración y selección**\n"
      ]
    },
    {
      "cell_type": "markdown",
      "metadata": {
        "id": "EiBRKKyif3b3"
      },
      "source": [
        "En esta sección, los datos con los que se van a trabajar vienen todos en un mismo dataSet, por lo que no requiere ninguna integración adicional a la importación realizada. Adicionalmente, cabe decir que si se quisieran usar dos dataSet diferentes con las mismas características, se debería de realizar una integración de los mismos en donde habría que tener en cuenta posibles repeticiones de objetos, que las propiedades se presenten en las mismas unidades... Este proceso se realizó en la práctica 1, en el momento en el que se integraban dos dataSets diferentes (uno de cada web en donde se realizó WebScraping), en uno sólo."
      ]
    },
    {
      "cell_type": "markdown",
      "metadata": {
        "id": "FEI0wrbALWBA"
      },
      "source": [
        "Respecto a la selección de los datos, nos quedaremos con todas las filas, ya que cada una de ellas corresponde a un ordenador diferente y aporta información al estudio que se está realizando. Ademas, nos encontramos ante un número de ordenadores (1003) no tan grande como para tener que hacer reducción de la cantidad. Sin embargo, para el caso de tener que realizar el mismo, consideramos que las dos mejores formas de hacerlo serían el método de muestra aleatoria simple sin sustitución (para no tener repeticiones de ordenadores en el dataSet resultante), o muestra de clústeres, en donde cada cluster podría estar correspondido por la marca o por intervalos de precio para asegurar que tenemos muestras de todos los precios. \n",
        "\n",
        "Si que en este apartado sería interesante hacer una división de los datos en muestra y test para por si posteriormente se usaran datos para realizar modelos. Sin embargo, este paso se realizará más adelante cuando se haya hecho el proceso de limpieza completo de los datos, ya que sino habría que realizar el proceso dos veces. \n",
        "\n",
        "A diferencia, sobre las columnas, encontramos la primera que no nos da ninguna información útil para el estudio y ser un simple id ascendente.\n"
      ]
    },
    {
      "cell_type": "code",
      "metadata": {
        "colab": {
          "base_uri": "https://localhost:8080/",
          "height": 408
        },
        "id": "F_oeNlbDLdSR",
        "outputId": "1e45bbfb-1b6f-4d0c-96fe-76272e792ebd"
      },
      "source": [
        "#La columna en donde está presente el id tiene el nombre de del Unnamed: 0 -->\n",
        "del laptops_initial[\"Unnamed: 0\"]\n",
        "#Imprimimos los datos para comprobar la correcta eliminación\n",
        "laptops_initial.head(5)"
      ],
      "execution_count": 4,
      "outputs": [
        {
          "output_type": "execute_result",
          "data": {
            "text/html": [
              "<div>\n",
              "<style scoped>\n",
              "    .dataframe tbody tr th:only-of-type {\n",
              "        vertical-align: middle;\n",
              "    }\n",
              "\n",
              "    .dataframe tbody tr th {\n",
              "        vertical-align: top;\n",
              "    }\n",
              "\n",
              "    .dataframe thead th {\n",
              "        text-align: right;\n",
              "    }\n",
              "</style>\n",
              "<table border=\"1\" class=\"dataframe\">\n",
              "  <thead>\n",
              "    <tr style=\"text-align: right;\">\n",
              "      <th></th>\n",
              "      <th>Company</th>\n",
              "      <th>Product</th>\n",
              "      <th>TypeName</th>\n",
              "      <th>Inches</th>\n",
              "      <th>ScreenResolution</th>\n",
              "      <th>Cpu</th>\n",
              "      <th>Ram</th>\n",
              "      <th>Memory</th>\n",
              "      <th>Gpu</th>\n",
              "      <th>OpSys</th>\n",
              "      <th>Weight</th>\n",
              "      <th>Price_euros</th>\n",
              "    </tr>\n",
              "  </thead>\n",
              "  <tbody>\n",
              "    <tr>\n",
              "      <th>0</th>\n",
              "      <td>Apple</td>\n",
              "      <td>MacBook Pro</td>\n",
              "      <td>Ultrabook</td>\n",
              "      <td>13.3</td>\n",
              "      <td>IPS Panel Retina Display 2560x1600</td>\n",
              "      <td>Intel Core i5 2.3GHz</td>\n",
              "      <td>8GB</td>\n",
              "      <td>128GB SSD</td>\n",
              "      <td>Intel Iris Plus Graphics 640</td>\n",
              "      <td>macOS</td>\n",
              "      <td>1.37kg</td>\n",
              "      <td>1339.69</td>\n",
              "    </tr>\n",
              "    <tr>\n",
              "      <th>1</th>\n",
              "      <td>Apple</td>\n",
              "      <td>Macbook Air</td>\n",
              "      <td>Ultrabook</td>\n",
              "      <td>13.3</td>\n",
              "      <td>1440x900</td>\n",
              "      <td>Intel Core i5 1.8GHz</td>\n",
              "      <td>8GB</td>\n",
              "      <td>128GB Flash Storage</td>\n",
              "      <td>Intel HD Graphics 6000</td>\n",
              "      <td>macOS</td>\n",
              "      <td>1.34kg</td>\n",
              "      <td>898.94</td>\n",
              "    </tr>\n",
              "    <tr>\n",
              "      <th>2</th>\n",
              "      <td>HP</td>\n",
              "      <td>250 G6</td>\n",
              "      <td>Notebook</td>\n",
              "      <td>15.6</td>\n",
              "      <td>Full HD 1920x1080</td>\n",
              "      <td>Intel Core i5 7200U 2.5GHz</td>\n",
              "      <td>8GB</td>\n",
              "      <td>256GB SSD</td>\n",
              "      <td>Intel HD Graphics 620</td>\n",
              "      <td>No OS</td>\n",
              "      <td>1.86kg</td>\n",
              "      <td>575.00</td>\n",
              "    </tr>\n",
              "    <tr>\n",
              "      <th>3</th>\n",
              "      <td>Apple</td>\n",
              "      <td>MacBook Pro</td>\n",
              "      <td>Ultrabook</td>\n",
              "      <td>15.4</td>\n",
              "      <td>IPS Panel Retina Display 2880x1800</td>\n",
              "      <td>Intel Core i7 2.7GHz</td>\n",
              "      <td>16GB</td>\n",
              "      <td>512GB SSD</td>\n",
              "      <td>AMD Radeon Pro 455</td>\n",
              "      <td>macOS</td>\n",
              "      <td>1.83kg</td>\n",
              "      <td>2537.45</td>\n",
              "    </tr>\n",
              "    <tr>\n",
              "      <th>4</th>\n",
              "      <td>Apple</td>\n",
              "      <td>MacBook Pro</td>\n",
              "      <td>Ultrabook</td>\n",
              "      <td>13.3</td>\n",
              "      <td>IPS Panel Retina Display 2560x1600</td>\n",
              "      <td>Intel Core i5 3.1GHz</td>\n",
              "      <td>8GB</td>\n",
              "      <td>256GB SSD</td>\n",
              "      <td>Intel Iris Plus Graphics 650</td>\n",
              "      <td>macOS</td>\n",
              "      <td>1.37kg</td>\n",
              "      <td>1803.60</td>\n",
              "    </tr>\n",
              "  </tbody>\n",
              "</table>\n",
              "</div>"
            ],
            "text/plain": [
              "  Company      Product   TypeName  ...  OpSys  Weight Price_euros\n",
              "0   Apple  MacBook Pro  Ultrabook  ...  macOS  1.37kg     1339.69\n",
              "1   Apple  Macbook Air  Ultrabook  ...  macOS  1.34kg      898.94\n",
              "2      HP       250 G6   Notebook  ...  No OS  1.86kg      575.00\n",
              "3   Apple  MacBook Pro  Ultrabook  ...  macOS  1.83kg     2537.45\n",
              "4   Apple  MacBook Pro  Ultrabook  ...  macOS  1.37kg     1803.60\n",
              "\n",
              "[5 rows x 12 columns]"
            ]
          },
          "metadata": {
            "tags": []
          },
          "execution_count": 4
        }
      ]
    },
    {
      "cell_type": "markdown",
      "metadata": {
        "id": "5a6GfDRygyyg"
      },
      "source": [
        "El resto de columnas se dejarán, debido a que todas ellas pueden ser determinantes en el precio de cada ordenador, pregunta principal que se espera responder."
      ]
    },
    {
      "cell_type": "markdown",
      "metadata": {
        "id": "M-mAiT7xhC8X"
      },
      "source": [
        "# **3. Limpieza de los datos**\n"
      ]
    },
    {
      "cell_type": "markdown",
      "metadata": {
        "id": "7I_rQP0PjPvL"
      },
      "source": [
        "## **Elementos vacíos I**"
      ]
    },
    {
      "cell_type": "markdown",
      "metadata": {
        "id": "ibUNzsWSjcIM"
      },
      "source": [
        "En este apartado se prestará atención a los valores que se presentan como nulos o incluso a los que, sin ser nulos, presentan valores anormales que indicarían que nos encontramos ante un caso de elemento vacío o perdido (por ejemplo, el hecho de que en pulgadas se encuentre un 0)"
      ]
    },
    {
      "cell_type": "markdown",
      "metadata": {
        "id": "OVadKPC-LrTr"
      },
      "source": [
        "Se comenzará con los valores nulos del dataFrame. Para ello, en primer lugar se hará un resumen de valores nulos por culumna:"
      ]
    },
    {
      "cell_type": "code",
      "metadata": {
        "colab": {
          "base_uri": "https://localhost:8080/"
        },
        "id": "2bAHvykLLwE7",
        "outputId": "e86885af-9f68-482a-b58c-c00bd38ea1fc"
      },
      "source": [
        "laptops_initial.isnull().sum()"
      ],
      "execution_count": 5,
      "outputs": [
        {
          "output_type": "execute_result",
          "data": {
            "text/plain": [
              "Company             0\n",
              "Product             0\n",
              "TypeName            0\n",
              "Inches              0\n",
              "ScreenResolution    0\n",
              "Cpu                 0\n",
              "Ram                 0\n",
              "Memory              0\n",
              "Gpu                 0\n",
              "OpSys               0\n",
              "Weight              0\n",
              "Price_euros         0\n",
              "dtype: int64"
            ]
          },
          "metadata": {
            "tags": []
          },
          "execution_count": 5
        }
      ]
    },
    {
      "cell_type": "markdown",
      "metadata": {
        "id": "00lqzmHsLx4u"
      },
      "source": [
        "Vemos como no hay ningún valor nulo. Para datasets con más columnas es más útil ver si hay algún valor nulo por medio del booleano, para que si este resulta verdadero, mirar dónde está el mismo"
      ]
    },
    {
      "cell_type": "code",
      "metadata": {
        "colab": {
          "base_uri": "https://localhost:8080/"
        },
        "id": "JMzpfrv8K31t",
        "outputId": "6ee223bc-834b-445d-d8ee-b7936853fe28"
      },
      "source": [
        "laptops_initial.isnull().values.any()"
      ],
      "execution_count": 6,
      "outputs": [
        {
          "output_type": "execute_result",
          "data": {
            "text/plain": [
              "False"
            ]
          },
          "metadata": {
            "tags": []
          },
          "execution_count": 6
        }
      ]
    },
    {
      "cell_type": "markdown",
      "metadata": {
        "id": "8J3-akXQR6sW"
      },
      "source": [
        "Aunque no se han encontrado datos vacíos, se ha de prestar atención a que no se presenten en forma de string del tipo \"No available\". Esto se realizará en el apartado \"Elementos vacíos II\", una vez los datos hayan sido sido preparados para el estudio"
      ]
    },
    {
      "cell_type": "markdown",
      "metadata": {
        "id": "0E6UGyyL3sG0"
      },
      "source": [
        "## **Preparación datos**"
      ]
    },
    {
      "cell_type": "markdown",
      "metadata": {
        "id": "RKbNMbpDLtFH"
      },
      "source": [
        "Es interesante realizar una limpieza de las variables para su posterior tratamiento.\n",
        "\n",
        "En primer lugar, centraremos la atención para que las variables que puedan ser consideradas como numéricas (Inches, Ram, Weight o Price_euros), sean tratadas así. Para el caso de Inches o Price_euros esto ya ocurre, pero para Ram o Weight no ocurre al aparecer sus unidades de medida como son GB o Kg. \n",
        "\n",
        "Aunque parece que en el dataSet todas las medidas están dadas en GB y Kg, lo primero que se realizará será ver si para todas las columnas se cumple este hecho. Comenzamos por la Ram:"
      ]
    },
    {
      "cell_type": "code",
      "metadata": {
        "colab": {
          "base_uri": "https://localhost:8080/"
        },
        "id": "6Z7fsga2LE7X",
        "outputId": "5dc10ffd-6a1d-46a1-8db1-5ee9657ee987"
      },
      "source": [
        "#Se realiza un splitado en base a 'GB'\n",
        "split_ram_value = laptops_initial['Ram'].str.split('GB', 0, expand=True)\n",
        "#Se comprueba que todos los valores son numericos (no lo serían si hubiera otra medida)\n",
        "split_ram_value[0].str.isnumeric().unique()"
      ],
      "execution_count": 7,
      "outputs": [
        {
          "output_type": "execute_result",
          "data": {
            "text/plain": [
              "array([ True])"
            ]
          },
          "metadata": {
            "tags": []
          },
          "execution_count": 7
        }
      ]
    },
    {
      "cell_type": "markdown",
      "metadata": {
        "id": "wfBsylhESRXT"
      },
      "source": [
        "Se aprecia que todos los valores que se encuentran en la variable RAM vienen dados en GB, ya que al realizar el splitado se ha comprobado que en la primera posición del resultado se encuentran todo numeros enteros, por lo que será usaran estos valores numéricos posteriormente (almacenados en split_ram_value[0]).\n",
        "\n",
        "De forma similar, se realizará el mismo estudio para la columna peso, peso con su unidad de Kg \n"
      ]
    },
    {
      "cell_type": "code",
      "metadata": {
        "id": "oGXDMGR9X517",
        "colab": {
          "base_uri": "https://localhost:8080/"
        },
        "outputId": "d4799ba3-51fb-4ac0-d401-11329ebc9905"
      },
      "source": [
        "#Se realiza un splitado en base a 'kg'\n",
        "split_weight_value = laptops_initial['Weight'].str.split('kg', 0, expand=True)\n",
        "#Se comprueba que todos los valores son enteros como en el caso anterior o float. Para ello, se define la función is_valid_decimal que\n",
        "# indicará si un numero es dicimal (True) o no lo es:\n",
        "def is_valid_decimal(string):\n",
        "    try:\n",
        "        float(string)\n",
        "        return True\n",
        "    except ValueError:\n",
        "        return False\n",
        "#Se crea un objeto serie para almacenar los resultados\n",
        "is_weight_decimal = pandas.Series([])\n",
        "#Se recorre la serie con los posibles números resultantes del splitado, y se van añadiendo a la serie creada\n",
        "for index, value in split_weight_value[0].items():\n",
        "    is_weight_decimal[index] = is_valid_decimal(value)\n",
        "#Vemos los diferentes valores que contiene le vector (si todos son true, todos serán valores float por lo que todos serán kg)\n",
        "is_weight_decimal.unique()"
      ],
      "execution_count": 8,
      "outputs": [
        {
          "output_type": "stream",
          "text": [
            "/usr/local/lib/python3.7/dist-packages/ipykernel_launcher.py:12: DeprecationWarning: The default dtype for empty Series will be 'object' instead of 'float64' in a future version. Specify a dtype explicitly to silence this warning.\n",
            "  if sys.path[0] == '':\n"
          ],
          "name": "stderr"
        },
        {
          "output_type": "execute_result",
          "data": {
            "text/plain": [
              "array([ True])"
            ]
          },
          "metadata": {
            "tags": []
          },
          "execution_count": 8
        }
      ]
    },
    {
      "cell_type": "markdown",
      "metadata": {
        "id": "QF0bvCVHX1gF"
      },
      "source": [
        "Por lo tanto, una vez se ha comprobado que ambas columnas eliminando la medida tiene un valor numérico, se procede a transformar estas columnas a numericas. Para ello, la unidad de medida, al ser en todas ellas la misma se incluirá en la columna a la que corresponde:"
      ]
    },
    {
      "cell_type": "code",
      "metadata": {
        "colab": {
          "base_uri": "https://localhost:8080/",
          "height": 445
        },
        "id": "VO8lmvomX0PP",
        "outputId": "f95789e7-afbf-4176-a920-7705527e3129"
      },
      "source": [
        "#Se renombran las columnas, añadiendo los GB a la RAM y los KG al peso\n",
        "laptops_initial=laptops_initial.rename(columns={'Ram': 'Ram(GB)', 'Weight': 'Weight(Kg)'})\n",
        "#Se hace el camnio en estas columnas por los números extraídos\n",
        "laptops_initial[\"Ram(GB)\"] = split_ram_value[0]\n",
        "laptops_initial[\"Weight(Kg)\"] = split_weight_value[0]\n",
        "#Se imprime la cabecera\n",
        "laptops_initial.head(5)"
      ],
      "execution_count": 9,
      "outputs": [
        {
          "output_type": "execute_result",
          "data": {
            "text/html": [
              "<div>\n",
              "<style scoped>\n",
              "    .dataframe tbody tr th:only-of-type {\n",
              "        vertical-align: middle;\n",
              "    }\n",
              "\n",
              "    .dataframe tbody tr th {\n",
              "        vertical-align: top;\n",
              "    }\n",
              "\n",
              "    .dataframe thead th {\n",
              "        text-align: right;\n",
              "    }\n",
              "</style>\n",
              "<table border=\"1\" class=\"dataframe\">\n",
              "  <thead>\n",
              "    <tr style=\"text-align: right;\">\n",
              "      <th></th>\n",
              "      <th>Company</th>\n",
              "      <th>Product</th>\n",
              "      <th>TypeName</th>\n",
              "      <th>Inches</th>\n",
              "      <th>ScreenResolution</th>\n",
              "      <th>Cpu</th>\n",
              "      <th>Ram(GB)</th>\n",
              "      <th>Memory</th>\n",
              "      <th>Gpu</th>\n",
              "      <th>OpSys</th>\n",
              "      <th>Weight(Kg)</th>\n",
              "      <th>Price_euros</th>\n",
              "    </tr>\n",
              "  </thead>\n",
              "  <tbody>\n",
              "    <tr>\n",
              "      <th>0</th>\n",
              "      <td>Apple</td>\n",
              "      <td>MacBook Pro</td>\n",
              "      <td>Ultrabook</td>\n",
              "      <td>13.3</td>\n",
              "      <td>IPS Panel Retina Display 2560x1600</td>\n",
              "      <td>Intel Core i5 2.3GHz</td>\n",
              "      <td>8</td>\n",
              "      <td>128GB SSD</td>\n",
              "      <td>Intel Iris Plus Graphics 640</td>\n",
              "      <td>macOS</td>\n",
              "      <td>1.37</td>\n",
              "      <td>1339.69</td>\n",
              "    </tr>\n",
              "    <tr>\n",
              "      <th>1</th>\n",
              "      <td>Apple</td>\n",
              "      <td>Macbook Air</td>\n",
              "      <td>Ultrabook</td>\n",
              "      <td>13.3</td>\n",
              "      <td>1440x900</td>\n",
              "      <td>Intel Core i5 1.8GHz</td>\n",
              "      <td>8</td>\n",
              "      <td>128GB Flash Storage</td>\n",
              "      <td>Intel HD Graphics 6000</td>\n",
              "      <td>macOS</td>\n",
              "      <td>1.34</td>\n",
              "      <td>898.94</td>\n",
              "    </tr>\n",
              "    <tr>\n",
              "      <th>2</th>\n",
              "      <td>HP</td>\n",
              "      <td>250 G6</td>\n",
              "      <td>Notebook</td>\n",
              "      <td>15.6</td>\n",
              "      <td>Full HD 1920x1080</td>\n",
              "      <td>Intel Core i5 7200U 2.5GHz</td>\n",
              "      <td>8</td>\n",
              "      <td>256GB SSD</td>\n",
              "      <td>Intel HD Graphics 620</td>\n",
              "      <td>No OS</td>\n",
              "      <td>1.86</td>\n",
              "      <td>575.00</td>\n",
              "    </tr>\n",
              "    <tr>\n",
              "      <th>3</th>\n",
              "      <td>Apple</td>\n",
              "      <td>MacBook Pro</td>\n",
              "      <td>Ultrabook</td>\n",
              "      <td>15.4</td>\n",
              "      <td>IPS Panel Retina Display 2880x1800</td>\n",
              "      <td>Intel Core i7 2.7GHz</td>\n",
              "      <td>16</td>\n",
              "      <td>512GB SSD</td>\n",
              "      <td>AMD Radeon Pro 455</td>\n",
              "      <td>macOS</td>\n",
              "      <td>1.83</td>\n",
              "      <td>2537.45</td>\n",
              "    </tr>\n",
              "    <tr>\n",
              "      <th>4</th>\n",
              "      <td>Apple</td>\n",
              "      <td>MacBook Pro</td>\n",
              "      <td>Ultrabook</td>\n",
              "      <td>13.3</td>\n",
              "      <td>IPS Panel Retina Display 2560x1600</td>\n",
              "      <td>Intel Core i5 3.1GHz</td>\n",
              "      <td>8</td>\n",
              "      <td>256GB SSD</td>\n",
              "      <td>Intel Iris Plus Graphics 650</td>\n",
              "      <td>macOS</td>\n",
              "      <td>1.37</td>\n",
              "      <td>1803.60</td>\n",
              "    </tr>\n",
              "  </tbody>\n",
              "</table>\n",
              "</div>"
            ],
            "text/plain": [
              "  Company      Product   TypeName  ...  OpSys Weight(Kg) Price_euros\n",
              "0   Apple  MacBook Pro  Ultrabook  ...  macOS       1.37     1339.69\n",
              "1   Apple  Macbook Air  Ultrabook  ...  macOS       1.34      898.94\n",
              "2      HP       250 G6   Notebook  ...  No OS       1.86      575.00\n",
              "3   Apple  MacBook Pro  Ultrabook  ...  macOS       1.83     2537.45\n",
              "4   Apple  MacBook Pro  Ultrabook  ...  macOS       1.37     1803.60\n",
              "\n",
              "[5 rows x 12 columns]"
            ]
          },
          "metadata": {
            "tags": []
          },
          "execution_count": 9
        }
      ]
    },
    {
      "cell_type": "markdown",
      "metadata": {
        "id": "DERMEiVjZiod"
      },
      "source": [
        "Una vez se tienen estos datos correctamente transformados, se ponen de tipo numérico las columnas mencionadas"
      ]
    },
    {
      "cell_type": "code",
      "metadata": {
        "colab": {
          "base_uri": "https://localhost:8080/",
          "height": 445
        },
        "id": "qZdyNGK5ZB9k",
        "outputId": "9a3811cc-cdab-43ed-e191-ea65da2269b3"
      },
      "source": [
        "#Transformamos esta columnas al tipo numérico mediante la función de pandas to numeric\n",
        "laptops_initial[\"Ram(GB)\"] = pandas.to_numeric(laptops_initial[\"Ram(GB)\"])\n",
        "laptops_initial[\"Weight(Kg)\"] = pandas.to_numeric(laptops_initial[\"Weight(Kg)\"])\n",
        "laptops_initial[\"Inches\"] = pandas.to_numeric(laptops_initial[\"Inches\"])\n",
        "laptops_initial[\"Price_euros\"] = pandas.to_numeric(laptops_initial[\"Price_euros\"])\n",
        "laptops_initial.head(5)"
      ],
      "execution_count": 10,
      "outputs": [
        {
          "output_type": "execute_result",
          "data": {
            "text/html": [
              "<div>\n",
              "<style scoped>\n",
              "    .dataframe tbody tr th:only-of-type {\n",
              "        vertical-align: middle;\n",
              "    }\n",
              "\n",
              "    .dataframe tbody tr th {\n",
              "        vertical-align: top;\n",
              "    }\n",
              "\n",
              "    .dataframe thead th {\n",
              "        text-align: right;\n",
              "    }\n",
              "</style>\n",
              "<table border=\"1\" class=\"dataframe\">\n",
              "  <thead>\n",
              "    <tr style=\"text-align: right;\">\n",
              "      <th></th>\n",
              "      <th>Company</th>\n",
              "      <th>Product</th>\n",
              "      <th>TypeName</th>\n",
              "      <th>Inches</th>\n",
              "      <th>ScreenResolution</th>\n",
              "      <th>Cpu</th>\n",
              "      <th>Ram(GB)</th>\n",
              "      <th>Memory</th>\n",
              "      <th>Gpu</th>\n",
              "      <th>OpSys</th>\n",
              "      <th>Weight(Kg)</th>\n",
              "      <th>Price_euros</th>\n",
              "    </tr>\n",
              "  </thead>\n",
              "  <tbody>\n",
              "    <tr>\n",
              "      <th>0</th>\n",
              "      <td>Apple</td>\n",
              "      <td>MacBook Pro</td>\n",
              "      <td>Ultrabook</td>\n",
              "      <td>13.3</td>\n",
              "      <td>IPS Panel Retina Display 2560x1600</td>\n",
              "      <td>Intel Core i5 2.3GHz</td>\n",
              "      <td>8</td>\n",
              "      <td>128GB SSD</td>\n",
              "      <td>Intel Iris Plus Graphics 640</td>\n",
              "      <td>macOS</td>\n",
              "      <td>1.37</td>\n",
              "      <td>1339.69</td>\n",
              "    </tr>\n",
              "    <tr>\n",
              "      <th>1</th>\n",
              "      <td>Apple</td>\n",
              "      <td>Macbook Air</td>\n",
              "      <td>Ultrabook</td>\n",
              "      <td>13.3</td>\n",
              "      <td>1440x900</td>\n",
              "      <td>Intel Core i5 1.8GHz</td>\n",
              "      <td>8</td>\n",
              "      <td>128GB Flash Storage</td>\n",
              "      <td>Intel HD Graphics 6000</td>\n",
              "      <td>macOS</td>\n",
              "      <td>1.34</td>\n",
              "      <td>898.94</td>\n",
              "    </tr>\n",
              "    <tr>\n",
              "      <th>2</th>\n",
              "      <td>HP</td>\n",
              "      <td>250 G6</td>\n",
              "      <td>Notebook</td>\n",
              "      <td>15.6</td>\n",
              "      <td>Full HD 1920x1080</td>\n",
              "      <td>Intel Core i5 7200U 2.5GHz</td>\n",
              "      <td>8</td>\n",
              "      <td>256GB SSD</td>\n",
              "      <td>Intel HD Graphics 620</td>\n",
              "      <td>No OS</td>\n",
              "      <td>1.86</td>\n",
              "      <td>575.00</td>\n",
              "    </tr>\n",
              "    <tr>\n",
              "      <th>3</th>\n",
              "      <td>Apple</td>\n",
              "      <td>MacBook Pro</td>\n",
              "      <td>Ultrabook</td>\n",
              "      <td>15.4</td>\n",
              "      <td>IPS Panel Retina Display 2880x1800</td>\n",
              "      <td>Intel Core i7 2.7GHz</td>\n",
              "      <td>16</td>\n",
              "      <td>512GB SSD</td>\n",
              "      <td>AMD Radeon Pro 455</td>\n",
              "      <td>macOS</td>\n",
              "      <td>1.83</td>\n",
              "      <td>2537.45</td>\n",
              "    </tr>\n",
              "    <tr>\n",
              "      <th>4</th>\n",
              "      <td>Apple</td>\n",
              "      <td>MacBook Pro</td>\n",
              "      <td>Ultrabook</td>\n",
              "      <td>13.3</td>\n",
              "      <td>IPS Panel Retina Display 2560x1600</td>\n",
              "      <td>Intel Core i5 3.1GHz</td>\n",
              "      <td>8</td>\n",
              "      <td>256GB SSD</td>\n",
              "      <td>Intel Iris Plus Graphics 650</td>\n",
              "      <td>macOS</td>\n",
              "      <td>1.37</td>\n",
              "      <td>1803.60</td>\n",
              "    </tr>\n",
              "  </tbody>\n",
              "</table>\n",
              "</div>"
            ],
            "text/plain": [
              "  Company      Product   TypeName  ...  OpSys Weight(Kg) Price_euros\n",
              "0   Apple  MacBook Pro  Ultrabook  ...  macOS       1.37     1339.69\n",
              "1   Apple  Macbook Air  Ultrabook  ...  macOS       1.34      898.94\n",
              "2      HP       250 G6   Notebook  ...  No OS       1.86      575.00\n",
              "3   Apple  MacBook Pro  Ultrabook  ...  macOS       1.83     2537.45\n",
              "4   Apple  MacBook Pro  Ultrabook  ...  macOS       1.37     1803.60\n",
              "\n",
              "[5 rows x 12 columns]"
            ]
          },
          "metadata": {
            "tags": []
          },
          "execution_count": 10
        }
      ]
    },
    {
      "cell_type": "markdown",
      "metadata": {
        "id": "lfitvd_gZiKY"
      },
      "source": [
        "//TODO: Borrar si te parece OK mi solucion\n",
        "\n"
      ]
    },
    {
      "cell_type": "code",
      "metadata": {
        "id": "dw1EfKMsgMdw"
      },
      "source": [
        "# Limpieza columna ScreenResolution (se dejan los valores que indican únicamente la resolución en píxeles)\n",
        "# laptops_initial[\"ScreenResolution\"] = laptops_initial.ScreenResolution.str.extract(\"(\\d+x\\d+)\", expand=False)\n",
        "# laptops_initial.ScreenResolution.isnull().sum()\n",
        "# laptops_initial.head(5)"
      ],
      "execution_count": 11,
      "outputs": []
    },
    {
      "cell_type": "markdown",
      "metadata": {
        "id": "R7l1l8SKtTSK"
      },
      "source": [
        "Prestando atención a la variable Memoria, vemos que hay dos partes bastante diferenciadas. Aparentemente, en un primer lugar encontramos la unidad de memoria (que sería un caso parecido al atratado con la RAM), y por otro, el tipo de memoria. Por lo tanto, en un primer lugar se analizarán los tipos de memoria de los que disponemos, haciendo el splitado en base al primer espacio:"
      ]
    },
    {
      "cell_type": "code",
      "metadata": {
        "colab": {
          "base_uri": "https://localhost:8080/"
        },
        "id": "UaIT-jkzt5s0",
        "outputId": "42e91af3-ccc4-4256-ef19-124f91d39de6"
      },
      "source": [
        "#Se realiza un splitado en base tan solo al primer espacio , ya que es lo aparentemente separa la cantidad de memoria y el tipo\n",
        "split_memory_value = laptops_initial['Memory'].str.split(' ', 1, expand=True)\n",
        "#Imprimos las segundas partes del splitado\n",
        "split_memory_value[1].unique()"
      ],
      "execution_count": 12,
      "outputs": [
        {
          "output_type": "execute_result",
          "data": {
            "text/plain": [
              "array(['SSD', 'Flash Storage', 'HDD', 'SSD +  1TB HDD',\n",
              "       'SSD +  256GB SSD', 'SSD +  2TB HDD', 'Hybrid', 'SSD +  500GB HDD',\n",
              "       'SSD +  512GB SSD', 'Flash Storage +  1TB HDD', 'HDD +  1TB HDD',\n",
              "       'SSD +  1.0TB Hybrid'], dtype=object)"
            ]
          },
          "metadata": {
            "tags": []
          },
          "execution_count": 12
        }
      ]
    },
    {
      "cell_type": "markdown",
      "metadata": {
        "id": "0EDpnv-89uOq"
      },
      "source": [
        "Vemos que nos encontramos ante un problema imprevisto. Al ser tantos datos, se acaba de comprobar que la estructura de cantidad de almacenamiento + tipo no siempre es así, pudiendo a veces combinarse combinaciones de varios tipos de memoria. Además, también con respecto a las unidades, parece que no todas son GB como en el caso anterior. Encontramos en este punto unidades tanto en GB como en TB. \n",
        "\n",
        "Haremos un primer estudio sobre a cuántos datos afecta este hecho de estar formado por más de un tipo de memoria.  "
      ]
    },
    {
      "cell_type": "code",
      "metadata": {
        "colab": {
          "base_uri": "https://localhost:8080/",
          "height": 949
        },
        "id": "vMPYNuH1vcz7",
        "outputId": "3571f118-c26a-4399-cc36-0f447c400914"
      },
      "source": [
        " laptops_initial[laptops_initial['Memory'].str.contains(' + ')]"
      ],
      "execution_count": 13,
      "outputs": [
        {
          "output_type": "execute_result",
          "data": {
            "text/html": [
              "<div>\n",
              "<style scoped>\n",
              "    .dataframe tbody tr th:only-of-type {\n",
              "        vertical-align: middle;\n",
              "    }\n",
              "\n",
              "    .dataframe tbody tr th {\n",
              "        vertical-align: top;\n",
              "    }\n",
              "\n",
              "    .dataframe thead th {\n",
              "        text-align: right;\n",
              "    }\n",
              "</style>\n",
              "<table border=\"1\" class=\"dataframe\">\n",
              "  <thead>\n",
              "    <tr style=\"text-align: right;\">\n",
              "      <th></th>\n",
              "      <th>Company</th>\n",
              "      <th>Product</th>\n",
              "      <th>TypeName</th>\n",
              "      <th>Inches</th>\n",
              "      <th>ScreenResolution</th>\n",
              "      <th>Cpu</th>\n",
              "      <th>Ram(GB)</th>\n",
              "      <th>Memory</th>\n",
              "      <th>Gpu</th>\n",
              "      <th>OpSys</th>\n",
              "      <th>Weight(Kg)</th>\n",
              "      <th>Price_euros</th>\n",
              "    </tr>\n",
              "  </thead>\n",
              "  <tbody>\n",
              "    <tr>\n",
              "      <th>21</th>\n",
              "      <td>Lenovo</td>\n",
              "      <td>Legion Y520-15IKBN</td>\n",
              "      <td>Gaming</td>\n",
              "      <td>15.6</td>\n",
              "      <td>IPS Panel Full HD 1920x1080</td>\n",
              "      <td>Intel Core i5 7300HQ 2.5GHz</td>\n",
              "      <td>8</td>\n",
              "      <td>128GB SSD +  1TB HDD</td>\n",
              "      <td>Nvidia GeForce GTX 1050</td>\n",
              "      <td>Windows 10</td>\n",
              "      <td>2.50</td>\n",
              "      <td>999.0</td>\n",
              "    </tr>\n",
              "    <tr>\n",
              "      <th>28</th>\n",
              "      <td>Dell</td>\n",
              "      <td>Latitude 5590</td>\n",
              "      <td>Ultrabook</td>\n",
              "      <td>15.6</td>\n",
              "      <td>Full HD 1920x1080</td>\n",
              "      <td>Intel Core i7 8650U 1.9GHz</td>\n",
              "      <td>8</td>\n",
              "      <td>256GB SSD +  256GB SSD</td>\n",
              "      <td>Intel UHD Graphics 620</td>\n",
              "      <td>Windows 10</td>\n",
              "      <td>1.88</td>\n",
              "      <td>1298.0</td>\n",
              "    </tr>\n",
              "    <tr>\n",
              "      <th>37</th>\n",
              "      <td>Dell</td>\n",
              "      <td>Inspiron 5770</td>\n",
              "      <td>Notebook</td>\n",
              "      <td>17.3</td>\n",
              "      <td>IPS Panel Full HD 1920x1080</td>\n",
              "      <td>Intel Core i5 8250U 1.6GHz</td>\n",
              "      <td>8</td>\n",
              "      <td>128GB SSD +  1TB HDD</td>\n",
              "      <td>AMD Radeon 530</td>\n",
              "      <td>Windows 10</td>\n",
              "      <td>2.80</td>\n",
              "      <td>979.0</td>\n",
              "    </tr>\n",
              "    <tr>\n",
              "      <th>41</th>\n",
              "      <td>Dell</td>\n",
              "      <td>Inspiron 7577</td>\n",
              "      <td>Gaming</td>\n",
              "      <td>15.6</td>\n",
              "      <td>IPS Panel Full HD 1920x1080</td>\n",
              "      <td>Intel Core i7 7700HQ 2.8GHz</td>\n",
              "      <td>16</td>\n",
              "      <td>256GB SSD +  1TB HDD</td>\n",
              "      <td>Nvidia GeForce GTX 1060</td>\n",
              "      <td>Windows 10</td>\n",
              "      <td>2.65</td>\n",
              "      <td>1499.0</td>\n",
              "    </tr>\n",
              "    <tr>\n",
              "      <th>47</th>\n",
              "      <td>Asus</td>\n",
              "      <td>Rog Strix</td>\n",
              "      <td>Gaming</td>\n",
              "      <td>17.3</td>\n",
              "      <td>Full HD 1920x1080</td>\n",
              "      <td>AMD Ryzen 1700 3GHz</td>\n",
              "      <td>8</td>\n",
              "      <td>256GB SSD +  1TB HDD</td>\n",
              "      <td>AMD Radeon RX 580</td>\n",
              "      <td>Windows 10</td>\n",
              "      <td>3.20</td>\n",
              "      <td>1299.0</td>\n",
              "    </tr>\n",
              "    <tr>\n",
              "      <th>...</th>\n",
              "      <td>...</td>\n",
              "      <td>...</td>\n",
              "      <td>...</td>\n",
              "      <td>...</td>\n",
              "      <td>...</td>\n",
              "      <td>...</td>\n",
              "      <td>...</td>\n",
              "      <td>...</td>\n",
              "      <td>...</td>\n",
              "      <td>...</td>\n",
              "      <td>...</td>\n",
              "      <td>...</td>\n",
              "    </tr>\n",
              "    <tr>\n",
              "      <th>1238</th>\n",
              "      <td>MSI</td>\n",
              "      <td>GL62 6QF</td>\n",
              "      <td>Gaming</td>\n",
              "      <td>15.6</td>\n",
              "      <td>Full HD 1920x1080</td>\n",
              "      <td>Intel Core i7 6700HQ 2.6GHz</td>\n",
              "      <td>8</td>\n",
              "      <td>128GB SSD +  1TB HDD</td>\n",
              "      <td>Nvidia GeForce GTX 960M</td>\n",
              "      <td>Windows 10</td>\n",
              "      <td>2.30</td>\n",
              "      <td>1169.0</td>\n",
              "    </tr>\n",
              "    <tr>\n",
              "      <th>1245</th>\n",
              "      <td>Asus</td>\n",
              "      <td>Rog GL553VE-FY052T</td>\n",
              "      <td>Gaming</td>\n",
              "      <td>15.6</td>\n",
              "      <td>IPS Panel Full HD 1920x1080</td>\n",
              "      <td>Intel Core i7 7700HQ 2.8GHz</td>\n",
              "      <td>16</td>\n",
              "      <td>256GB SSD +  1TB HDD</td>\n",
              "      <td>Nvidia GeForce GTX 1050 Ti</td>\n",
              "      <td>Windows 10</td>\n",
              "      <td>2.50</td>\n",
              "      <td>1600.0</td>\n",
              "    </tr>\n",
              "    <tr>\n",
              "      <th>1247</th>\n",
              "      <td>Asus</td>\n",
              "      <td>Rog GL502VS</td>\n",
              "      <td>Gaming</td>\n",
              "      <td>15.6</td>\n",
              "      <td>IPS Panel Full HD 1920x1080</td>\n",
              "      <td>Intel Core i7 6700HQ 2.6GHz</td>\n",
              "      <td>16</td>\n",
              "      <td>256GB SSD +  1TB HDD</td>\n",
              "      <td>Nvidia GeForce GTX 1070</td>\n",
              "      <td>Windows 10</td>\n",
              "      <td>2.34</td>\n",
              "      <td>2325.0</td>\n",
              "    </tr>\n",
              "    <tr>\n",
              "      <th>1256</th>\n",
              "      <td>Asus</td>\n",
              "      <td>Rog G752VT-GC073T</td>\n",
              "      <td>Gaming</td>\n",
              "      <td>17.3</td>\n",
              "      <td>IPS Panel Full HD 1920x1080</td>\n",
              "      <td>Intel Core i7 6700HQ 2.6GHz</td>\n",
              "      <td>16</td>\n",
              "      <td>128GB SSD +  1TB HDD</td>\n",
              "      <td>Nvidia GeForce GTX 970M</td>\n",
              "      <td>Windows 10</td>\n",
              "      <td>4.00</td>\n",
              "      <td>1900.0</td>\n",
              "    </tr>\n",
              "    <tr>\n",
              "      <th>1259</th>\n",
              "      <td>MSI</td>\n",
              "      <td>GE62 Apache</td>\n",
              "      <td>Gaming</td>\n",
              "      <td>15.6</td>\n",
              "      <td>Full HD 1920x1080</td>\n",
              "      <td>Intel Core i7 6700HQ 2.6GHz</td>\n",
              "      <td>8</td>\n",
              "      <td>128GB SSD +  1TB HDD</td>\n",
              "      <td>Nvidia GeForce GTX 960M</td>\n",
              "      <td>Windows 10</td>\n",
              "      <td>2.40</td>\n",
              "      <td>1229.0</td>\n",
              "    </tr>\n",
              "  </tbody>\n",
              "</table>\n",
              "<p>208 rows × 12 columns</p>\n",
              "</div>"
            ],
            "text/plain": [
              "     Company             Product  ... Weight(Kg)  Price_euros\n",
              "21    Lenovo  Legion Y520-15IKBN  ...       2.50        999.0\n",
              "28      Dell       Latitude 5590  ...       1.88       1298.0\n",
              "37      Dell       Inspiron 5770  ...       2.80        979.0\n",
              "41      Dell       Inspiron 7577  ...       2.65       1499.0\n",
              "47      Asus           Rog Strix  ...       3.20       1299.0\n",
              "...      ...                 ...  ...        ...          ...\n",
              "1238     MSI            GL62 6QF  ...       2.30       1169.0\n",
              "1245    Asus  Rog GL553VE-FY052T  ...       2.50       1600.0\n",
              "1247    Asus         Rog GL502VS  ...       2.34       2325.0\n",
              "1256    Asus   Rog G752VT-GC073T  ...       4.00       1900.0\n",
              "1259     MSI         GE62 Apache  ...       2.40       1229.0\n",
              "\n",
              "[208 rows x 12 columns]"
            ]
          },
          "metadata": {
            "tags": []
          },
          "execution_count": 13
        }
      ]
    },
    {
      "cell_type": "markdown",
      "metadata": {
        "id": "6F2na1E3-jj1"
      },
      "source": [
        "Contamos con 4 tipos de memoria: \n",
        "* SSD\n",
        "* Flash Storage\n",
        "* HDD\n",
        "* Hybrid\n",
        "\n",
        "Que se presentan de forma única o con las siguientes combinaciones:\n",
        "* SSD +  SSD\n",
        "* HDD +  HDD\n",
        "* SSD +  HDD\n",
        "* Flash Storage +  HDD\n",
        "* SSD +  Hybrid\n",
        "\n",
        "Teniendo estas en cuenta, se elaborará una serie para cada una de ellas, con el fin de tener controlado tanto el tipo de memoria como su valor. Se había pensado también en juntar los valores de ambas memorias en tan solo una columna, indicando en el tipo de memoria el conjunto de memorias a las que pertenece. Sin embargo, al realizar esto, se perdería información relevante, ya que no es lo mismo una memoria SSD y una HDD!\n",
        "\n",
        "Adicionalmente, se escogerá la unidad de medida de GB, ya que es la que más presente está. Se deberá de tener en cuenta que 1TB serán 1024GB, ya que son las dos medidas que aparecen."
      ]
    },
    {
      "cell_type": "code",
      "metadata": {
        "colab": {
          "base_uri": "https://localhost:8080/"
        },
        "id": "9Dmuf_fj_MrY",
        "outputId": "11b500e5-57fb-4c47-cd3d-c64c6a0f96f9"
      },
      "source": [
        "#Se crea un objeto serie para almacenar cada tipo de memoria\n",
        "ssd_value = pandas.Series([])\n",
        "flash_value = pandas.Series([])\n",
        "hdd_value = pandas.Series([])\n",
        "hybrid_value = pandas.Series([])\n",
        "\n",
        "#Devuelve los GB a partir de la unidad de memoria proporcionada \n",
        "def convert_GB(memoryNumber):\n",
        "  if \"GB\" in memoryNumber:\n",
        "    return (float(memoryNumber.split('GB')[0]))\n",
        "  else:\n",
        "    return (float(memoryNumber.split('TB')[0])*1024)\n",
        "\n",
        "#Devuelve el tipo de memoria principal (la que aparece en primer lugar)\n",
        "def get_primary_type(secondaryMemory):\n",
        "  secondaryMemory_split_plus = secondaryMemory.split(' +  ')\n",
        "  return secondaryMemory_split_plus[0]\n",
        "\n",
        "#Devuelve el tipo de memoria secundaria (la que aparece en segundo lugar)\n",
        "def get_secondary_type(secondaryMemory):\n",
        "  secondaryMemory_split_plus = secondaryMemory.split(' +  ')\n",
        "  secondaryMemory_split_value =secondaryMemory_split_plus[1].split(' ')\n",
        "  return secondaryMemory_split_value[1]\n",
        "\n",
        "#Devuelve el valor de memoria secundaria (la que aparece en segundo lugar)\n",
        "def get_secondary_value(secondaryMemory):\n",
        "  secondaryMemory_split_plus = secondaryMemory.split(' +  ')\n",
        "  secondaryMemory_split_value =secondaryMemory_split_plus[1].split(' ')\n",
        "  return secondaryMemory_split_value[0]\n",
        "\n",
        "\n",
        "#Se recorre la serie con los posibles números resultantes del splitado, y se van añadiendo a la serie creada\n",
        "for index, value in split_memory_value[0].items():\n",
        "  #El primer caso será el que incluya un + en el string, hecho que indica que esta compuesto por dos tipos de memoria\n",
        "  if \" + \" in split_memory_value[1][index]:\n",
        "    #Se extrae el valor y el tipo secundario \n",
        "    primary_type = get_primary_type(split_memory_value[1][index])\n",
        "    secondary_value = get_secondary_value(split_memory_value[1][index])\n",
        "    secondary_type = get_secondary_type(split_memory_value[1][index])\n",
        "    #Se comprueban que si ambos son del mismo tipo (ocurre con SSD o HDD), en cuyo caso habrá que sumar estos valores\n",
        "    if (primary_type == secondary_type):\n",
        "      if (primary_type == 'HDD'):\n",
        "        hdd_value[index] = convert_GB(split_memory_value[0][index]) + convert_GB(secondary_value)\n",
        "        ssd_value[index] = 0\n",
        "        hybrid_value[index] = 0\n",
        "        flash_value[index] = 0\n",
        "      else:\n",
        "        ssd_value[index] = convert_GB(split_memory_value[0][index]) + convert_GB(secondary_value)\n",
        "        hdd_value[index] = 0\n",
        "        hybrid_value[index] = 0\n",
        "        flash_value[index] = 0\n",
        "    #En el caso de que no sean igual, se trata de dos tipos de memorias diferentes, en donde teniendo en cuentas las combinaciones posibles en base a las combinaciones vistas anteriormente\n",
        "    else:\n",
        "      if (primary_type == 'SSD' and secondary_type == 'HDD'):\n",
        "        ssd_value[index] = convert_GB(split_memory_value[0][index])\n",
        "        hdd_value[index] = convert_GB(secondary_value)\n",
        "        hybrid_value[index] = 0\n",
        "        flash_value[index] = 0\n",
        "      elif (primary_type == 'Flash Storage' and secondary_type == 'HDD'):\n",
        "        ssd_value[index] = 0\n",
        "        hdd_value[index] = convert_GB(secondary_value)\n",
        "        hybrid_value[index] = 0\n",
        "        flash_value[index] = convert_GB(split_memory_value[0][index])\n",
        "      elif (primary_type == 'SSD' and secondary_type == 'Hybrid'):\n",
        "        ssd_value[index] = convert_GB(split_memory_value[0][index])\n",
        "        hdd_value[index] = 0\n",
        "        hybrid_value[index] = convert_GB(secondary_value)\n",
        "        flash_value[index] = 0\n",
        "\n",
        "  #En el caso de que no se encuentre la particula +, será porque sólo tiene un tipo de memoria, por lo que buscaremos cual es y lo introduciremos a la serie, dejando el resto de valores\n",
        "  #de la memoria que no corresponda a 0\n",
        "  else:\n",
        "    #Si es SSD, rellenamos la serie de SSD, mientras que en las demás introdimos un 0, al no contar con esa memoria\n",
        "    if split_memory_value[1][index] == 'SSD':\n",
        "      ssd_value[index] = convert_GB(split_memory_value[0][index])\n",
        "      hdd_value[index] = 0\n",
        "      hybrid_value[index] = 0\n",
        "      flash_value[index] = 0\n",
        "    elif split_memory_value[1][index] == 'HDD':\n",
        "      hdd_value[index] = convert_GB(split_memory_value[0][index])\n",
        "      ssd_value[index] = 0\n",
        "      hybrid_value[index] = 0\n",
        "      flash_value[index] = 0\n",
        "    elif split_memory_value[1][index] == 'Hybrid':\n",
        "      hybrid_value[index] = convert_GB(split_memory_value[0][index])\n",
        "      ssd_value[index] = 0\n",
        "      hdd_value[index] = 0\n",
        "      flash_value[index] = 0\n",
        "    elif split_memory_value[1][index] == 'Flash Storage':\n",
        "      flash_value[index] = convert_GB(split_memory_value[0][index])\n",
        "      ssd_value[index] = 0\n",
        "      hdd_value[index] = 0\n",
        "      hybrid_value[index] = 0"
      ],
      "execution_count": 14,
      "outputs": [
        {
          "output_type": "stream",
          "text": [
            "/usr/local/lib/python3.7/dist-packages/ipykernel_launcher.py:2: DeprecationWarning: The default dtype for empty Series will be 'object' instead of 'float64' in a future version. Specify a dtype explicitly to silence this warning.\n",
            "  \n",
            "/usr/local/lib/python3.7/dist-packages/ipykernel_launcher.py:3: DeprecationWarning: The default dtype for empty Series will be 'object' instead of 'float64' in a future version. Specify a dtype explicitly to silence this warning.\n",
            "  This is separate from the ipykernel package so we can avoid doing imports until\n",
            "/usr/local/lib/python3.7/dist-packages/ipykernel_launcher.py:4: DeprecationWarning: The default dtype for empty Series will be 'object' instead of 'float64' in a future version. Specify a dtype explicitly to silence this warning.\n",
            "  after removing the cwd from sys.path.\n",
            "/usr/local/lib/python3.7/dist-packages/ipykernel_launcher.py:5: DeprecationWarning: The default dtype for empty Series will be 'object' instead of 'float64' in a future version. Specify a dtype explicitly to silence this warning.\n",
            "  \"\"\"\n"
          ],
          "name": "stderr"
        }
      ]
    },
    {
      "cell_type": "markdown",
      "metadata": {
        "id": "jYFNVVuPQSzN"
      },
      "source": [
        "Para comprobar que se ha hecho bien el cambio, se imprimirá uno de los casos especiales (que incluyen dos tipos de memoria), y que se ha visto en el printeo de los mismos. Este será la muestra 21, que tiene segun vemos en la tabla: 128GB SSD + 1TB HDD\t"
      ]
    },
    {
      "cell_type": "code",
      "metadata": {
        "colab": {
          "base_uri": "https://localhost:8080/"
        },
        "id": "qjetgWXLQhPa",
        "outputId": "e2de2080-e029-4f9b-c6de-0d8ab5250076"
      },
      "source": [
        "print('Valor SSD en GB: ' + str(ssd_value[21]))\n",
        "print('Valor HDD en GB: ' + str(hdd_value[21]))"
      ],
      "execution_count": 15,
      "outputs": [
        {
          "output_type": "stream",
          "text": [
            "Valor SSD en GB: 128.0\n",
            "Valor HDD en GB: 1024.0\n"
          ],
          "name": "stdout"
        }
      ]
    },
    {
      "cell_type": "markdown",
      "metadata": {
        "id": "jSj8rQxRubm2"
      },
      "source": [
        "Una vez hecho este proceso, se colocarán las 4 nuevas columnas con cada tipo de memoria, siendo este un valor numérico:"
      ]
    },
    {
      "cell_type": "code",
      "metadata": {
        "colab": {
          "base_uri": "https://localhost:8080/",
          "height": 445
        },
        "id": "-SNaSH9ARg-B",
        "outputId": "2b1b2715-998c-4318-b155-9bab57fe9250"
      },
      "source": [
        "#Introducimos las nuevas columnas\n",
        "laptops_initial[\"MemorySSD(GB)\"] = ssd_value\n",
        "laptops_initial[\"MemoryHDD(GB)\"] = hdd_value\n",
        "laptops_initial[\"MemoryFlash(GB)\"] = flash_value\n",
        "laptops_initial[\"MemoryHybrid(GB)\"] = hybrid_value\n",
        "#Las transformamos a numéricas\n",
        "laptops_initial[\"MemorySSD(GB)\"] = pandas.to_numeric(laptops_initial[\"MemorySSD(GB)\"])\n",
        "laptops_initial[\"MemoryHDD(GB)\"] = pandas.to_numeric(laptops_initial[\"MemoryHDD(GB)\"])\n",
        "laptops_initial[\"MemoryFlash(GB)\"] = pandas.to_numeric(laptops_initial[\"MemoryFlash(GB)\"])\n",
        "laptops_initial[\"MemoryHybrid(GB)\"] = pandas.to_numeric(laptops_initial[\"MemoryHybrid(GB)\"])\n",
        "#Eliminamos la columna inicial que tenia los datos de la memoria sin limpiar\n",
        "del laptops_initial[\"Memory\"]\n",
        "#Verificamos la correcta creación\n",
        "laptops_initial.head(5)"
      ],
      "execution_count": 16,
      "outputs": [
        {
          "output_type": "execute_result",
          "data": {
            "text/html": [
              "<div>\n",
              "<style scoped>\n",
              "    .dataframe tbody tr th:only-of-type {\n",
              "        vertical-align: middle;\n",
              "    }\n",
              "\n",
              "    .dataframe tbody tr th {\n",
              "        vertical-align: top;\n",
              "    }\n",
              "\n",
              "    .dataframe thead th {\n",
              "        text-align: right;\n",
              "    }\n",
              "</style>\n",
              "<table border=\"1\" class=\"dataframe\">\n",
              "  <thead>\n",
              "    <tr style=\"text-align: right;\">\n",
              "      <th></th>\n",
              "      <th>Company</th>\n",
              "      <th>Product</th>\n",
              "      <th>TypeName</th>\n",
              "      <th>Inches</th>\n",
              "      <th>ScreenResolution</th>\n",
              "      <th>Cpu</th>\n",
              "      <th>Ram(GB)</th>\n",
              "      <th>Gpu</th>\n",
              "      <th>OpSys</th>\n",
              "      <th>Weight(Kg)</th>\n",
              "      <th>Price_euros</th>\n",
              "      <th>MemorySSD(GB)</th>\n",
              "      <th>MemoryHDD(GB)</th>\n",
              "      <th>MemoryFlash(GB)</th>\n",
              "      <th>MemoryHybrid(GB)</th>\n",
              "    </tr>\n",
              "  </thead>\n",
              "  <tbody>\n",
              "    <tr>\n",
              "      <th>0</th>\n",
              "      <td>Apple</td>\n",
              "      <td>MacBook Pro</td>\n",
              "      <td>Ultrabook</td>\n",
              "      <td>13.3</td>\n",
              "      <td>IPS Panel Retina Display 2560x1600</td>\n",
              "      <td>Intel Core i5 2.3GHz</td>\n",
              "      <td>8</td>\n",
              "      <td>Intel Iris Plus Graphics 640</td>\n",
              "      <td>macOS</td>\n",
              "      <td>1.37</td>\n",
              "      <td>1339.69</td>\n",
              "      <td>128.0</td>\n",
              "      <td>0.0</td>\n",
              "      <td>0.0</td>\n",
              "      <td>0.0</td>\n",
              "    </tr>\n",
              "    <tr>\n",
              "      <th>1</th>\n",
              "      <td>Apple</td>\n",
              "      <td>Macbook Air</td>\n",
              "      <td>Ultrabook</td>\n",
              "      <td>13.3</td>\n",
              "      <td>1440x900</td>\n",
              "      <td>Intel Core i5 1.8GHz</td>\n",
              "      <td>8</td>\n",
              "      <td>Intel HD Graphics 6000</td>\n",
              "      <td>macOS</td>\n",
              "      <td>1.34</td>\n",
              "      <td>898.94</td>\n",
              "      <td>0.0</td>\n",
              "      <td>0.0</td>\n",
              "      <td>128.0</td>\n",
              "      <td>0.0</td>\n",
              "    </tr>\n",
              "    <tr>\n",
              "      <th>2</th>\n",
              "      <td>HP</td>\n",
              "      <td>250 G6</td>\n",
              "      <td>Notebook</td>\n",
              "      <td>15.6</td>\n",
              "      <td>Full HD 1920x1080</td>\n",
              "      <td>Intel Core i5 7200U 2.5GHz</td>\n",
              "      <td>8</td>\n",
              "      <td>Intel HD Graphics 620</td>\n",
              "      <td>No OS</td>\n",
              "      <td>1.86</td>\n",
              "      <td>575.00</td>\n",
              "      <td>256.0</td>\n",
              "      <td>0.0</td>\n",
              "      <td>0.0</td>\n",
              "      <td>0.0</td>\n",
              "    </tr>\n",
              "    <tr>\n",
              "      <th>3</th>\n",
              "      <td>Apple</td>\n",
              "      <td>MacBook Pro</td>\n",
              "      <td>Ultrabook</td>\n",
              "      <td>15.4</td>\n",
              "      <td>IPS Panel Retina Display 2880x1800</td>\n",
              "      <td>Intel Core i7 2.7GHz</td>\n",
              "      <td>16</td>\n",
              "      <td>AMD Radeon Pro 455</td>\n",
              "      <td>macOS</td>\n",
              "      <td>1.83</td>\n",
              "      <td>2537.45</td>\n",
              "      <td>512.0</td>\n",
              "      <td>0.0</td>\n",
              "      <td>0.0</td>\n",
              "      <td>0.0</td>\n",
              "    </tr>\n",
              "    <tr>\n",
              "      <th>4</th>\n",
              "      <td>Apple</td>\n",
              "      <td>MacBook Pro</td>\n",
              "      <td>Ultrabook</td>\n",
              "      <td>13.3</td>\n",
              "      <td>IPS Panel Retina Display 2560x1600</td>\n",
              "      <td>Intel Core i5 3.1GHz</td>\n",
              "      <td>8</td>\n",
              "      <td>Intel Iris Plus Graphics 650</td>\n",
              "      <td>macOS</td>\n",
              "      <td>1.37</td>\n",
              "      <td>1803.60</td>\n",
              "      <td>256.0</td>\n",
              "      <td>0.0</td>\n",
              "      <td>0.0</td>\n",
              "      <td>0.0</td>\n",
              "    </tr>\n",
              "  </tbody>\n",
              "</table>\n",
              "</div>"
            ],
            "text/plain": [
              "  Company      Product  ... MemoryFlash(GB)  MemoryHybrid(GB)\n",
              "0   Apple  MacBook Pro  ...             0.0               0.0\n",
              "1   Apple  Macbook Air  ...           128.0               0.0\n",
              "2      HP       250 G6  ...             0.0               0.0\n",
              "3   Apple  MacBook Pro  ...             0.0               0.0\n",
              "4   Apple  MacBook Pro  ...             0.0               0.0\n",
              "\n",
              "[5 rows x 15 columns]"
            ]
          },
          "metadata": {
            "tags": []
          },
          "execution_count": 16
        }
      ]
    },
    {
      "cell_type": "markdown",
      "metadata": {
        "id": "YzQlxcMxS-M-"
      },
      "source": [
        "//TODO: Borrar si te parece OK mi solucion"
      ]
    },
    {
      "cell_type": "code",
      "metadata": {
        "id": "Dx3Yc5POjwh0"
      },
      "source": [
        "# Limpieza columna Memory (se dejan los valores que indican únicamente la resolución en píxeles)\n",
        "#laptops_initial[\"Memory(Type)\"] = laptops_initial.Memory.str.extract(\"^(\\d+)(\\w+).(SSD|HDD|Flash)\", expand=False)[2]\n",
        "#laptops_initial[\"Memory\"] = laptops_initial.Memory.str.extract(\"^(\\d+)(\\w+).(SSD|HDD|Flash)\", expand=False)[0]\n",
        "\n",
        "# Se convierte la variable Memory(GB) a tipo numérico\n",
        "#laptops_initial[\"Memory\"] = pandas.to_numeric(laptops_initial[\"Memory\"])\n",
        "\n",
        "# Consideramos que los que tienen un valor inferior a 5 son TB y los convertimos a GB\n",
        "#laptops_initial.loc[laptops_initial['Memory'] <= 5, 'Memory'] = laptops_initial['Memory']*1000\n",
        "#laptops_initial.head(5)"
      ],
      "execution_count": 17,
      "outputs": []
    },
    {
      "cell_type": "markdown",
      "metadata": {
        "id": "arhv5YisTfWi"
      },
      "source": [
        "Se procederá ahora a realizar una sepación de la CPU. Aparentemente, parece que en una primera partaparece la empresa que la proporciona, en segundo la versión que se proporciona, y por último, la velocidad del mismo. Como siempre, se comprueba gracias a la programación que para todos ocurre esto (ya que al contar con 1303 muestras, no nos podemos fijar tan solo en las 5 primeras)\n"
      ]
    },
    {
      "cell_type": "code",
      "metadata": {
        "colab": {
          "base_uri": "https://localhost:8080/"
        },
        "id": "zsGrsBSHUCYr",
        "outputId": "075c6b23-4008-4ea0-877b-ca9e413ea565"
      },
      "source": [
        "#Se realiza un splitado en base al primer espacio, dejando en la primera parte la supuesta marca, mientras que en la segunda el resto\n",
        "split_cpu_company_value = laptops_initial['Cpu'].str.split(' ', 1, expand=True)\n",
        "#Almacenamos las marcas de cpu\n",
        "company_cpu = split_cpu_company_value[0]\n",
        "#Comprobamos que efectivamente todas ellas corresponden a marcas\n",
        "company_cpu.unique()"
      ],
      "execution_count": 18,
      "outputs": [
        {
          "output_type": "execute_result",
          "data": {
            "text/plain": [
              "array(['Intel', 'AMD', 'Samsung'], dtype=object)"
            ]
          },
          "metadata": {
            "tags": []
          },
          "execution_count": 18
        }
      ]
    },
    {
      "cell_type": "markdown",
      "metadata": {
        "id": "tOwAsWHeWQUQ"
      },
      "source": [
        "Se aprecia como en esta ocasión, se está en lo cierto y tan solo hay 3 marcas. Procederemos ahora a ver los tipos de productos trabajando con la parte del splitado anterior no usada"
      ]
    },
    {
      "cell_type": "code",
      "metadata": {
        "colab": {
          "base_uri": "https://localhost:8080/"
        },
        "id": "pxTMtqvCVbxT",
        "outputId": "9648b53a-d53b-41ad-c617-4cf4e6b3aebd"
      },
      "source": [
        "#Se realiza un splitado de la segunda parte, en donde el mismo se realizará en base al último espacio, al ser la estructura VERSION + ' ' + VELOCIDAD\n",
        "split_cpu_version_and_speed_value = split_cpu_company_value[1].str.rsplit(' ', 1, expand=True)\n",
        "#Sacamos las versiones, que estarán en la primera parte del splitado\n",
        "version_cpu=split_cpu_version_and_speed_value[0]\n",
        "#Comprobamos que todas ellas son versiones\n",
        "version_cpu.unique()"
      ],
      "execution_count": 19,
      "outputs": [
        {
          "output_type": "execute_result",
          "data": {
            "text/plain": [
              "array(['Core i5', 'Core i5 7200U', 'Core i7', 'A9-Series 9420',\n",
              "       'Core i7 8550U', 'Core i5 8250U', 'Core i3 6006U', 'Core M m3',\n",
              "       'Core i7 7500U', 'Core i3 7100U', 'Atom x5-Z8350',\n",
              "       'Core i5 7300HQ', 'E-Series E2-9000e', 'Core i7 8650U',\n",
              "       'Atom x5-Z8300', 'E-Series E2-6110', 'A6-Series 9220',\n",
              "       'Celeron Dual Core N3350', 'Core i3 7130U', 'Core i7 7700HQ',\n",
              "       'Ryzen 1700', 'Pentium Quad Core N4200', 'Atom x5-Z8550',\n",
              "       'Celeron Dual Core N3060', 'FX 9830P', 'Core i7 7560U',\n",
              "       'E-Series 6110', 'Core i5 6200U', 'Core M 6Y75', 'Core i5 7500U',\n",
              "       'Core i7 6920HQ', 'Core i5 7Y54', 'Core i7 7820HK',\n",
              "       'Xeon E3-1505M V6', 'Core i7 6500U', 'E-Series 9000e',\n",
              "       'A10-Series A10-9620P', 'A6-Series A6-9220', 'Core i7 6600U',\n",
              "       'Celeron Dual Core 3205U', 'Core i7 7820HQ', 'A10-Series 9600P',\n",
              "       'Core i7 7600U', 'A8-Series 7410', 'Celeron Dual Core 3855U',\n",
              "       'Pentium Quad Core N3710', 'A12-Series 9720P', 'Core i5 7300U',\n",
              "       'Celeron Quad Core N3450', 'Core i5 6440HQ', 'Core i7 6820HQ',\n",
              "       'Ryzen 1600', 'Core i7 7Y75', 'Core i5 7440HQ', 'Core i7 7660U',\n",
              "       'Core M m3-7Y30', 'Core i5 7Y57', 'Core i7 6700HQ',\n",
              "       'Core i3 6100U', 'A10-Series 9620P', 'E-Series 7110',\n",
              "       'A9-Series A9-9420', 'Core i7 6820HK', 'Core M 7Y30',\n",
              "       'Xeon E3-1535M v6', 'Celeron Quad Core N3160', 'Core i5 6300U',\n",
              "       'E-Series E2-9000', 'Celeron Dual Core N3050', 'Core M M3-6Y30',\n",
              "       'Core i5 6300HQ', 'A6-Series 7310', 'Atom Z8350',\n",
              "       'Xeon E3-1535M v5', 'Core i5 6260U', 'Pentium Dual Core N4200',\n",
              "       'Celeron Quad Core N3710', 'Core M', 'A12-Series 9700P',\n",
              "       'Pentium Dual Core 4405U', 'A4-Series 7210', 'Core i7 6560U',\n",
              "       'Core M m7-6Y75', 'FX 8800P', 'Core M M7-6Y75', 'Atom X5-Z8350',\n",
              "       'Pentium Dual Core 4405Y', 'Pentium Quad Core N3700',\n",
              "       'Core M 6Y54', 'Cortex A72&A53', 'E-Series 9000', 'Core M 6Y30',\n",
              "       'A9-Series 9410'], dtype=object)"
            ]
          },
          "metadata": {
            "tags": []
          },
          "execution_count": 19
        }
      ]
    },
    {
      "cell_type": "markdown",
      "metadata": {
        "id": "uLb-zAIxXI_H"
      },
      "source": [
        "En este caso tenemos más versiones que marcas, pero vemos como todas ellas son versiones de los diferentes proveedores, por lo que tan solo quedará comprobar que, efectivamente, el final de este string coincide en todos casos con velocidades"
      ]
    },
    {
      "cell_type": "code",
      "metadata": {
        "colab": {
          "base_uri": "https://localhost:8080/"
        },
        "id": "tPW4rLWHWDwP",
        "outputId": "9dd338c9-326d-4cb4-9aa8-f282ca0a0784"
      },
      "source": [
        "#Sacamos las velocidades, que estarán en la seguna parte del splitado anterior\n",
        "speed_cpu=split_cpu_version_and_speed_value[1]\n",
        "speed_cpu.unique()"
      ],
      "execution_count": 20,
      "outputs": [
        {
          "output_type": "execute_result",
          "data": {
            "text/plain": [
              "array(['2.3GHz', '1.8GHz', '2.5GHz', '2.7GHz', '3.1GHz', '3GHz', '2.2GHz',\n",
              "       '1.6GHz', '2GHz', '2.8GHz', '1.2GHz', '2.9GHz', '2.4GHz',\n",
              "       '1.44GHz', '1.5GHz', '1.9GHz', '1.1GHz', '2.0GHz', '1.3GHz',\n",
              "       '2.6GHz', '3.6GHz', '1.60GHz', '3.2GHz', '1.0GHz', '2.1GHz',\n",
              "       '0.9GHz', '1.92GHz', '2.50GHz', '2.70GHz'], dtype=object)"
            ]
          },
          "metadata": {
            "tags": []
          },
          "execution_count": 20
        }
      ]
    },
    {
      "cell_type": "markdown",
      "metadata": {
        "id": "I9KVYrSVXgxV"
      },
      "source": [
        "También se aprecia que todas son frecuencias y además en la misma medida, por lo que parece ser que estábamos en lo cierto en base a que lo que ocurre con las 5 primeras muestras, se replica para el resto de ellas. Por tanto, se dividirá esta columna en 3, ya que será más eficiente a la hora de hacer análisis y gráficas. Para le valor numérico, como en casos anteriores, se eliminará la unidad de medida de las muestras poniendo esta en la cabecera"
      ]
    },
    {
      "cell_type": "code",
      "metadata": {
        "id": "8k3-8rviYD1D"
      },
      "source": [
        "#Se realiza un splitado en base a 'GHz'\n",
        "speed_cpu_split = speed_cpu.str.split('GHz', 0, expand=True)\n",
        "#Se crea la serie sin medidas\n",
        "speed_cpu_GHz = speed_cpu_split[0]"
      ],
      "execution_count": 21,
      "outputs": []
    },
    {
      "cell_type": "markdown",
      "metadata": {
        "id": "IPY44qhqYqjd"
      },
      "source": [
        "Finalmente, se crean estas columnas y se le da el tipo numérico a la última de ellas"
      ]
    },
    {
      "cell_type": "code",
      "metadata": {
        "colab": {
          "base_uri": "https://localhost:8080/",
          "height": 428
        },
        "id": "2Kc6WRiNYvKz",
        "outputId": "9c8f48f0-f263-408b-a641-72a31ec2d404"
      },
      "source": [
        "#Introducimos las nuevas columnas\n",
        "laptops_initial[\"CPU_Company\"] = company_cpu\n",
        "laptops_initial[\"CPU_Version\"] = version_cpu\n",
        "laptops_initial[\"CPU_Speed(GHz)\"] = speed_cpu_GHz\n",
        "#La transformamos a numéricas\n",
        "laptops_initial[\"CPU_Speed(GHz)\"] = pandas.to_numeric(laptops_initial[\"CPU_Speed(GHz)\"])\n",
        "#Eliminamos la columna inicial que tenia los datos de la CPU sin limpiar\n",
        "del laptops_initial[\"Cpu\"]\n",
        "#Verificamos la correcta creación\n",
        "laptops_initial.head(5)"
      ],
      "execution_count": 22,
      "outputs": [
        {
          "output_type": "execute_result",
          "data": {
            "text/html": [
              "<div>\n",
              "<style scoped>\n",
              "    .dataframe tbody tr th:only-of-type {\n",
              "        vertical-align: middle;\n",
              "    }\n",
              "\n",
              "    .dataframe tbody tr th {\n",
              "        vertical-align: top;\n",
              "    }\n",
              "\n",
              "    .dataframe thead th {\n",
              "        text-align: right;\n",
              "    }\n",
              "</style>\n",
              "<table border=\"1\" class=\"dataframe\">\n",
              "  <thead>\n",
              "    <tr style=\"text-align: right;\">\n",
              "      <th></th>\n",
              "      <th>Company</th>\n",
              "      <th>Product</th>\n",
              "      <th>TypeName</th>\n",
              "      <th>Inches</th>\n",
              "      <th>ScreenResolution</th>\n",
              "      <th>Ram(GB)</th>\n",
              "      <th>Gpu</th>\n",
              "      <th>OpSys</th>\n",
              "      <th>Weight(Kg)</th>\n",
              "      <th>Price_euros</th>\n",
              "      <th>MemorySSD(GB)</th>\n",
              "      <th>MemoryHDD(GB)</th>\n",
              "      <th>MemoryFlash(GB)</th>\n",
              "      <th>MemoryHybrid(GB)</th>\n",
              "      <th>CPU_Company</th>\n",
              "      <th>CPU_Version</th>\n",
              "      <th>CPU_Speed(GHz)</th>\n",
              "    </tr>\n",
              "  </thead>\n",
              "  <tbody>\n",
              "    <tr>\n",
              "      <th>0</th>\n",
              "      <td>Apple</td>\n",
              "      <td>MacBook Pro</td>\n",
              "      <td>Ultrabook</td>\n",
              "      <td>13.3</td>\n",
              "      <td>IPS Panel Retina Display 2560x1600</td>\n",
              "      <td>8</td>\n",
              "      <td>Intel Iris Plus Graphics 640</td>\n",
              "      <td>macOS</td>\n",
              "      <td>1.37</td>\n",
              "      <td>1339.69</td>\n",
              "      <td>128.0</td>\n",
              "      <td>0.0</td>\n",
              "      <td>0.0</td>\n",
              "      <td>0.0</td>\n",
              "      <td>Intel</td>\n",
              "      <td>Core i5</td>\n",
              "      <td>2.3</td>\n",
              "    </tr>\n",
              "    <tr>\n",
              "      <th>1</th>\n",
              "      <td>Apple</td>\n",
              "      <td>Macbook Air</td>\n",
              "      <td>Ultrabook</td>\n",
              "      <td>13.3</td>\n",
              "      <td>1440x900</td>\n",
              "      <td>8</td>\n",
              "      <td>Intel HD Graphics 6000</td>\n",
              "      <td>macOS</td>\n",
              "      <td>1.34</td>\n",
              "      <td>898.94</td>\n",
              "      <td>0.0</td>\n",
              "      <td>0.0</td>\n",
              "      <td>128.0</td>\n",
              "      <td>0.0</td>\n",
              "      <td>Intel</td>\n",
              "      <td>Core i5</td>\n",
              "      <td>1.8</td>\n",
              "    </tr>\n",
              "    <tr>\n",
              "      <th>2</th>\n",
              "      <td>HP</td>\n",
              "      <td>250 G6</td>\n",
              "      <td>Notebook</td>\n",
              "      <td>15.6</td>\n",
              "      <td>Full HD 1920x1080</td>\n",
              "      <td>8</td>\n",
              "      <td>Intel HD Graphics 620</td>\n",
              "      <td>No OS</td>\n",
              "      <td>1.86</td>\n",
              "      <td>575.00</td>\n",
              "      <td>256.0</td>\n",
              "      <td>0.0</td>\n",
              "      <td>0.0</td>\n",
              "      <td>0.0</td>\n",
              "      <td>Intel</td>\n",
              "      <td>Core i5 7200U</td>\n",
              "      <td>2.5</td>\n",
              "    </tr>\n",
              "    <tr>\n",
              "      <th>3</th>\n",
              "      <td>Apple</td>\n",
              "      <td>MacBook Pro</td>\n",
              "      <td>Ultrabook</td>\n",
              "      <td>15.4</td>\n",
              "      <td>IPS Panel Retina Display 2880x1800</td>\n",
              "      <td>16</td>\n",
              "      <td>AMD Radeon Pro 455</td>\n",
              "      <td>macOS</td>\n",
              "      <td>1.83</td>\n",
              "      <td>2537.45</td>\n",
              "      <td>512.0</td>\n",
              "      <td>0.0</td>\n",
              "      <td>0.0</td>\n",
              "      <td>0.0</td>\n",
              "      <td>Intel</td>\n",
              "      <td>Core i7</td>\n",
              "      <td>2.7</td>\n",
              "    </tr>\n",
              "    <tr>\n",
              "      <th>4</th>\n",
              "      <td>Apple</td>\n",
              "      <td>MacBook Pro</td>\n",
              "      <td>Ultrabook</td>\n",
              "      <td>13.3</td>\n",
              "      <td>IPS Panel Retina Display 2560x1600</td>\n",
              "      <td>8</td>\n",
              "      <td>Intel Iris Plus Graphics 650</td>\n",
              "      <td>macOS</td>\n",
              "      <td>1.37</td>\n",
              "      <td>1803.60</td>\n",
              "      <td>256.0</td>\n",
              "      <td>0.0</td>\n",
              "      <td>0.0</td>\n",
              "      <td>0.0</td>\n",
              "      <td>Intel</td>\n",
              "      <td>Core i5</td>\n",
              "      <td>3.1</td>\n",
              "    </tr>\n",
              "  </tbody>\n",
              "</table>\n",
              "</div>"
            ],
            "text/plain": [
              "  Company      Product   TypeName  ...  CPU_Company    CPU_Version  CPU_Speed(GHz)\n",
              "0   Apple  MacBook Pro  Ultrabook  ...        Intel        Core i5             2.3\n",
              "1   Apple  Macbook Air  Ultrabook  ...        Intel        Core i5             1.8\n",
              "2      HP       250 G6   Notebook  ...        Intel  Core i5 7200U             2.5\n",
              "3   Apple  MacBook Pro  Ultrabook  ...        Intel        Core i7             2.7\n",
              "4   Apple  MacBook Pro  Ultrabook  ...        Intel        Core i5             3.1\n",
              "\n",
              "[5 rows x 17 columns]"
            ]
          },
          "metadata": {
            "tags": []
          },
          "execution_count": 22
        }
      ]
    },
    {
      "cell_type": "markdown",
      "metadata": {
        "id": "V8uXKtiKaNXt"
      },
      "source": [
        "Se aprecia que para la GPU parece seguir una estructura similar: VENDEDOR + VERSION. Siguiendo el mismo proceso que el anterior, nos encontraríamos:"
      ]
    },
    {
      "cell_type": "code",
      "metadata": {
        "colab": {
          "base_uri": "https://localhost:8080/"
        },
        "id": "g8L0a-PfaYIb",
        "outputId": "ca7689ac-8282-4353-bacd-4619662339d0"
      },
      "source": [
        "#Se realiza un splitado en base al primer espacio, dejando en la primera parte la supuesta marca, mientras que en la segunda la versión\n",
        "split_gpu_company_and_model = laptops_initial['Gpu'].str.split(' ', 1, expand=True)\n",
        "#Almacenamos las marcas de Gpu\n",
        "company_gpu = split_gpu_company_and_model[0]\n",
        "#Comprobamos que efectivamente todas ellas corresponden a marcas\n",
        "company_gpu.unique()"
      ],
      "execution_count": 23,
      "outputs": [
        {
          "output_type": "execute_result",
          "data": {
            "text/plain": [
              "array(['Intel', 'AMD', 'Nvidia', 'ARM'], dtype=object)"
            ]
          },
          "metadata": {
            "tags": []
          },
          "execution_count": 23
        }
      ]
    },
    {
      "cell_type": "code",
      "metadata": {
        "colab": {
          "base_uri": "https://localhost:8080/"
        },
        "id": "vGvvCmTyaln6",
        "outputId": "c7b6ff27-2ebb-4a44-b0fc-050f1bc8597a"
      },
      "source": [
        "#Almacenamos las versiones de Gpu\n",
        "version_gpu = split_gpu_company_and_model[1]\n",
        "#Comprobamos que efectivamente todas ellas corresponden a marcas\n",
        "version_gpu.unique()"
      ],
      "execution_count": 24,
      "outputs": [
        {
          "output_type": "execute_result",
          "data": {
            "text/plain": [
              "array(['Iris Plus Graphics 640', 'HD Graphics 6000', 'HD Graphics 620',\n",
              "       'Radeon Pro 455', 'Iris Plus Graphics 650', 'Radeon R5',\n",
              "       'Iris Pro Graphics', 'GeForce MX150', 'UHD Graphics 620',\n",
              "       'HD Graphics 520', 'Radeon Pro 555', 'Radeon R5 M430',\n",
              "       'HD Graphics 615', 'Radeon Pro 560', 'GeForce 940MX',\n",
              "       'HD Graphics 400', 'GeForce GTX 1050', 'Radeon R2', 'Radeon 530',\n",
              "       'GeForce 930MX', 'HD Graphics', 'HD Graphics 500',\n",
              "       'GeForce 930MX ', 'GeForce GTX 1060', 'GeForce 150MX',\n",
              "       'Iris Graphics 540', 'Radeon RX 580', 'GeForce 920MX',\n",
              "       'Radeon R4 Graphics', 'Radeon 520', 'GeForce GTX 1070',\n",
              "       'GeForce GTX 1050 Ti', 'GeForce MX130', 'R4 Graphics',\n",
              "       'GeForce GTX 940MX', 'Radeon RX 560', 'GeForce 920M',\n",
              "       'Radeon R7 M445', 'Radeon RX 550', 'GeForce GTX 1050M',\n",
              "       'HD Graphics 515', 'Radeon R5 M420', 'HD Graphics 505',\n",
              "       'GTX 980 SLI', 'R17M-M1-70', 'GeForce GTX 1080', 'Quadro M1200',\n",
              "       'GeForce 920MX ', 'GeForce GTX 950M', 'FirePro W4190M ',\n",
              "       'GeForce GTX 980M', 'Iris Graphics 550', 'GeForce 930M',\n",
              "       'HD Graphics 630', 'Radeon R5 430', 'GeForce GTX 940M',\n",
              "       'HD Graphics 510', 'HD Graphics 405', 'Radeon RX 540',\n",
              "       'GeForce GT 940MX', 'FirePro W5130M', 'Quadro M2200M', 'Radeon R4',\n",
              "       'Quadro M620', 'Radeon R7 M460', 'HD Graphics 530',\n",
              "       'GeForce GTX 965M', 'GeForce GTX1080', 'GeForce GTX1050 Ti',\n",
              "       'GeForce GTX 960M', 'Radeon R2 Graphics', 'Quadro M620M',\n",
              "       'GeForce GTX 970M', 'GeForce GTX 960<U+039C>', 'Graphics 620',\n",
              "       'GeForce GTX 960', 'Radeon R5 520', 'Radeon R7 M440', 'Radeon R7',\n",
              "       'Quadro M520M', 'Quadro M2200', 'Quadro M2000M', 'HD Graphics 540',\n",
              "       'Quadro M1000M', 'Radeon 540', 'GeForce GTX 1070M',\n",
              "       'GeForce GTX1060', 'HD Graphics 5300', 'Radeon R5 M420X',\n",
              "       'Radeon R7 Graphics', 'GeForce 920', 'GeForce 940M',\n",
              "       'GeForce GTX 930MX', 'Radeon R7 M465', 'Radeon R3',\n",
              "       'GeForce GTX 1050Ti', 'Radeon R7 M365X', 'Radeon R9 M385',\n",
              "       'HD Graphics 620 ', 'Quadro 3000M', 'GeForce GTX 980 ',\n",
              "       'Radeon R5 M330', 'FirePro W4190M', 'FirePro W6150M',\n",
              "       'Radeon R5 M315', 'Quadro M500M', 'Radeon R7 M360',\n",
              "       'Quadro M3000M', 'GeForce 960M', 'Mali T860 MP4'], dtype=object)"
            ]
          },
          "metadata": {
            "tags": []
          },
          "execution_count": 24
        }
      ]
    },
    {
      "cell_type": "markdown",
      "metadata": {
        "id": "CNjjEI37a0Mb"
      },
      "source": [
        "Vemos como de esta manera facilitamos análsisi posteriores, sobre todo en lo referente a la marca, en donde podremos estudiar si la misma influye en el precio. Añadiendo estas columnas a nuestro dataFrame"
      ]
    },
    {
      "cell_type": "code",
      "metadata": {
        "colab": {
          "base_uri": "https://localhost:8080/",
          "height": 309
        },
        "id": "JfnFj48Fa87r",
        "outputId": "f2ce52ea-aab9-4981-f094-7ccba41713cf"
      },
      "source": [
        "#Introducimos las nuevas columnas\n",
        "laptops_initial[\"GPU_Company\"] = company_gpu\n",
        "laptops_initial[\"GPU_Version\"] = version_gpu\n",
        "#Eliminamos la columna inicial que tenia los datos de la GPU sin limpiar\n",
        "del laptops_initial[\"Gpu\"]\n",
        "#Verificamos la correcta creación\n",
        "laptops_initial.head(5)"
      ],
      "execution_count": 25,
      "outputs": [
        {
          "output_type": "execute_result",
          "data": {
            "text/html": [
              "<div>\n",
              "<style scoped>\n",
              "    .dataframe tbody tr th:only-of-type {\n",
              "        vertical-align: middle;\n",
              "    }\n",
              "\n",
              "    .dataframe tbody tr th {\n",
              "        vertical-align: top;\n",
              "    }\n",
              "\n",
              "    .dataframe thead th {\n",
              "        text-align: right;\n",
              "    }\n",
              "</style>\n",
              "<table border=\"1\" class=\"dataframe\">\n",
              "  <thead>\n",
              "    <tr style=\"text-align: right;\">\n",
              "      <th></th>\n",
              "      <th>Company</th>\n",
              "      <th>Product</th>\n",
              "      <th>TypeName</th>\n",
              "      <th>Inches</th>\n",
              "      <th>ScreenResolution</th>\n",
              "      <th>Ram(GB)</th>\n",
              "      <th>OpSys</th>\n",
              "      <th>Weight(Kg)</th>\n",
              "      <th>Price_euros</th>\n",
              "      <th>MemorySSD(GB)</th>\n",
              "      <th>MemoryHDD(GB)</th>\n",
              "      <th>MemoryFlash(GB)</th>\n",
              "      <th>MemoryHybrid(GB)</th>\n",
              "      <th>CPU_Company</th>\n",
              "      <th>CPU_Version</th>\n",
              "      <th>CPU_Speed(GHz)</th>\n",
              "      <th>GPU_Company</th>\n",
              "      <th>GPU_Version</th>\n",
              "    </tr>\n",
              "  </thead>\n",
              "  <tbody>\n",
              "    <tr>\n",
              "      <th>0</th>\n",
              "      <td>Apple</td>\n",
              "      <td>MacBook Pro</td>\n",
              "      <td>Ultrabook</td>\n",
              "      <td>13.3</td>\n",
              "      <td>IPS Panel Retina Display 2560x1600</td>\n",
              "      <td>8</td>\n",
              "      <td>macOS</td>\n",
              "      <td>1.37</td>\n",
              "      <td>1339.69</td>\n",
              "      <td>128.0</td>\n",
              "      <td>0.0</td>\n",
              "      <td>0.0</td>\n",
              "      <td>0.0</td>\n",
              "      <td>Intel</td>\n",
              "      <td>Core i5</td>\n",
              "      <td>2.3</td>\n",
              "      <td>Intel</td>\n",
              "      <td>Iris Plus Graphics 640</td>\n",
              "    </tr>\n",
              "    <tr>\n",
              "      <th>1</th>\n",
              "      <td>Apple</td>\n",
              "      <td>Macbook Air</td>\n",
              "      <td>Ultrabook</td>\n",
              "      <td>13.3</td>\n",
              "      <td>1440x900</td>\n",
              "      <td>8</td>\n",
              "      <td>macOS</td>\n",
              "      <td>1.34</td>\n",
              "      <td>898.94</td>\n",
              "      <td>0.0</td>\n",
              "      <td>0.0</td>\n",
              "      <td>128.0</td>\n",
              "      <td>0.0</td>\n",
              "      <td>Intel</td>\n",
              "      <td>Core i5</td>\n",
              "      <td>1.8</td>\n",
              "      <td>Intel</td>\n",
              "      <td>HD Graphics 6000</td>\n",
              "    </tr>\n",
              "    <tr>\n",
              "      <th>2</th>\n",
              "      <td>HP</td>\n",
              "      <td>250 G6</td>\n",
              "      <td>Notebook</td>\n",
              "      <td>15.6</td>\n",
              "      <td>Full HD 1920x1080</td>\n",
              "      <td>8</td>\n",
              "      <td>No OS</td>\n",
              "      <td>1.86</td>\n",
              "      <td>575.00</td>\n",
              "      <td>256.0</td>\n",
              "      <td>0.0</td>\n",
              "      <td>0.0</td>\n",
              "      <td>0.0</td>\n",
              "      <td>Intel</td>\n",
              "      <td>Core i5 7200U</td>\n",
              "      <td>2.5</td>\n",
              "      <td>Intel</td>\n",
              "      <td>HD Graphics 620</td>\n",
              "    </tr>\n",
              "    <tr>\n",
              "      <th>3</th>\n",
              "      <td>Apple</td>\n",
              "      <td>MacBook Pro</td>\n",
              "      <td>Ultrabook</td>\n",
              "      <td>15.4</td>\n",
              "      <td>IPS Panel Retina Display 2880x1800</td>\n",
              "      <td>16</td>\n",
              "      <td>macOS</td>\n",
              "      <td>1.83</td>\n",
              "      <td>2537.45</td>\n",
              "      <td>512.0</td>\n",
              "      <td>0.0</td>\n",
              "      <td>0.0</td>\n",
              "      <td>0.0</td>\n",
              "      <td>Intel</td>\n",
              "      <td>Core i7</td>\n",
              "      <td>2.7</td>\n",
              "      <td>AMD</td>\n",
              "      <td>Radeon Pro 455</td>\n",
              "    </tr>\n",
              "    <tr>\n",
              "      <th>4</th>\n",
              "      <td>Apple</td>\n",
              "      <td>MacBook Pro</td>\n",
              "      <td>Ultrabook</td>\n",
              "      <td>13.3</td>\n",
              "      <td>IPS Panel Retina Display 2560x1600</td>\n",
              "      <td>8</td>\n",
              "      <td>macOS</td>\n",
              "      <td>1.37</td>\n",
              "      <td>1803.60</td>\n",
              "      <td>256.0</td>\n",
              "      <td>0.0</td>\n",
              "      <td>0.0</td>\n",
              "      <td>0.0</td>\n",
              "      <td>Intel</td>\n",
              "      <td>Core i5</td>\n",
              "      <td>3.1</td>\n",
              "      <td>Intel</td>\n",
              "      <td>Iris Plus Graphics 650</td>\n",
              "    </tr>\n",
              "  </tbody>\n",
              "</table>\n",
              "</div>"
            ],
            "text/plain": [
              "  Company      Product  ... GPU_Company             GPU_Version\n",
              "0   Apple  MacBook Pro  ...       Intel  Iris Plus Graphics 640\n",
              "1   Apple  Macbook Air  ...       Intel        HD Graphics 6000\n",
              "2      HP       250 G6  ...       Intel         HD Graphics 620\n",
              "3   Apple  MacBook Pro  ...         AMD          Radeon Pro 455\n",
              "4   Apple  MacBook Pro  ...       Intel  Iris Plus Graphics 650\n",
              "\n",
              "[5 rows x 18 columns]"
            ]
          },
          "metadata": {
            "tags": []
          },
          "execution_count": 25
        }
      ]
    },
    {
      "cell_type": "markdown",
      "metadata": {
        "id": "5I5qziUBdfLU"
      },
      "source": [
        "Finalmente, para la resulución, la divideremos en dos partes. La primera de ellas, de extraer la resolución en píxeles por una expresión regex:"
      ]
    },
    {
      "cell_type": "code",
      "metadata": {
        "colab": {
          "base_uri": "https://localhost:8080/"
        },
        "id": "4Y4PrLEvdemu",
        "outputId": "4f94b488-2ebd-4793-c16a-037932ea8bb0"
      },
      "source": [
        "# Limpieza columna ScreenResolution (se dejan los valores que indican únicamente la resolución en píxeles)\n",
        "pixels_ScreenResolution = laptops_initial.ScreenResolution.str.extract(\"(\\d+x\\d+)\", expand=False)\n",
        "#Se comprueba que no hay nulos (que para todos los valores se ha conseguido obtener los pixeles)\n",
        "pixels_ScreenResolution.isnull().sum()\n"
      ],
      "execution_count": 26,
      "outputs": [
        {
          "output_type": "execute_result",
          "data": {
            "text/plain": [
              "0"
            ]
          },
          "metadata": {
            "tags": []
          },
          "execution_count": 26
        }
      ]
    },
    {
      "cell_type": "markdown",
      "metadata": {
        "id": "D3X3AtyufCIv"
      },
      "source": [
        "En donde, una vez extraido, para poder tratarlas numéricamente, se extraerá el la parte de los píxeles a lo alto y a lo ancho, separados en todas las medidas por una x"
      ]
    },
    {
      "cell_type": "code",
      "metadata": {
        "id": "kGzctoaIfQsF"
      },
      "source": [
        "#Se realiza un splitado en base a la x\n",
        "split_pixels_value = pixels_ScreenResolution.str.split('x', 0, expand=True)\n",
        "#Se separan en ancho (width) y alto (high)\n",
        "split_pixels_width = split_pixels_value[0]\n",
        "split_pixels_high = split_pixels_value[1]"
      ],
      "execution_count": 27,
      "outputs": []
    },
    {
      "cell_type": "markdown",
      "metadata": {
        "id": "87jUbQgrjNgo"
      },
      "source": [
        "Una vez realizado este hecho, se extraerá también tipo de resolución que presenta el ordenador. Mientras que todas las muestras traían los pixeles, en este caso no ocurrirá lo mismo, ya que se ve en las 5 primeras muestras como en la segunda (id 1), no se presenta el tipo. "
      ]
    },
    {
      "cell_type": "code",
      "metadata": {
        "colab": {
          "base_uri": "https://localhost:8080/"
        },
        "id": "IefwsmnNiUch",
        "outputId": "2a2bac48-4496-49b9-da6d-777f6db67ef3"
      },
      "source": [
        "#Se realiza un splitado en base al último espacio, ya que si tiene tipo, en la primera variable de este splitado estará el mismo\n",
        "#y si no lo tiene, estarán los píxeles sacados anteriormente\n",
        "split_pixels_by_last_space = laptops_initial.ScreenResolution.str.rsplit(' ', 1, expand=True)\n",
        "#Se crea un objeto serie para almacenar los tipos\n",
        "type_pixels = pandas.Series([])\n",
        "#Comprobamos uno a uno si son igualas a los píxeles (no tiene tipo) o si no lo son (tiene el tipo)\n",
        "for index, value in split_pixels_by_last_space[0].items():\n",
        "  if (split_pixels_by_last_space[0][index] == pixels_ScreenResolution[index]):\n",
        "    type_pixels[index]=np.NaN\n",
        "  else:\n",
        "    type_pixels[index]=split_pixels_by_last_space[0][index]"
      ],
      "execution_count": 28,
      "outputs": [
        {
          "output_type": "stream",
          "text": [
            "/usr/local/lib/python3.7/dist-packages/ipykernel_launcher.py:5: DeprecationWarning: The default dtype for empty Series will be 'object' instead of 'float64' in a future version. Specify a dtype explicitly to silence this warning.\n",
            "  \"\"\"\n"
          ],
          "name": "stderr"
        }
      ]
    },
    {
      "cell_type": "markdown",
      "metadata": {
        "id": "QUiyAsutkqbN"
      },
      "source": [
        "En este caso, como es de esperar aparecerán nulos que serán tratados en la sección Elementos vacíos II. Introducimos los nuevos valores en el dataframe "
      ]
    },
    {
      "cell_type": "code",
      "metadata": {
        "colab": {
          "base_uri": "https://localhost:8080/",
          "height": 309
        },
        "id": "KREjX3vok6v8",
        "outputId": "8cdaea8a-e2d5-481b-86d6-78b49e7b2d7b"
      },
      "source": [
        "#Introducimos las nuevas columnas\n",
        "laptops_initial[\"ScreenResolution_Type\"] = type_pixels\n",
        "laptops_initial[\"ScreenResolution_Width\"] = split_pixels_width\n",
        "laptops_initial[\"ScreenResolution_High\"] = split_pixels_high\n",
        "#La transformamos a numéricas las dos últimas\n",
        "laptops_initial[\"ScreenResolution_Width\"] = pandas.to_numeric(laptops_initial[\"ScreenResolution_Width\"])\n",
        "laptops_initial[\"ScreenResolution_High\"] = pandas.to_numeric(laptops_initial[\"ScreenResolution_High\"])\n",
        "#Eliminamos la columna inicial que tenia los datos de ScreenResolution sin limpiar\n",
        "del laptops_initial[\"ScreenResolution\"]\n",
        "#Verificamos la correcta creación\n",
        "laptops_initial.head(5)"
      ],
      "execution_count": 29,
      "outputs": [
        {
          "output_type": "execute_result",
          "data": {
            "text/html": [
              "<div>\n",
              "<style scoped>\n",
              "    .dataframe tbody tr th:only-of-type {\n",
              "        vertical-align: middle;\n",
              "    }\n",
              "\n",
              "    .dataframe tbody tr th {\n",
              "        vertical-align: top;\n",
              "    }\n",
              "\n",
              "    .dataframe thead th {\n",
              "        text-align: right;\n",
              "    }\n",
              "</style>\n",
              "<table border=\"1\" class=\"dataframe\">\n",
              "  <thead>\n",
              "    <tr style=\"text-align: right;\">\n",
              "      <th></th>\n",
              "      <th>Company</th>\n",
              "      <th>Product</th>\n",
              "      <th>TypeName</th>\n",
              "      <th>Inches</th>\n",
              "      <th>Ram(GB)</th>\n",
              "      <th>OpSys</th>\n",
              "      <th>Weight(Kg)</th>\n",
              "      <th>Price_euros</th>\n",
              "      <th>MemorySSD(GB)</th>\n",
              "      <th>MemoryHDD(GB)</th>\n",
              "      <th>MemoryFlash(GB)</th>\n",
              "      <th>MemoryHybrid(GB)</th>\n",
              "      <th>CPU_Company</th>\n",
              "      <th>CPU_Version</th>\n",
              "      <th>CPU_Speed(GHz)</th>\n",
              "      <th>GPU_Company</th>\n",
              "      <th>GPU_Version</th>\n",
              "      <th>ScreenResolution_Type</th>\n",
              "      <th>ScreenResolution_Width</th>\n",
              "      <th>ScreenResolution_High</th>\n",
              "    </tr>\n",
              "  </thead>\n",
              "  <tbody>\n",
              "    <tr>\n",
              "      <th>0</th>\n",
              "      <td>Apple</td>\n",
              "      <td>MacBook Pro</td>\n",
              "      <td>Ultrabook</td>\n",
              "      <td>13.3</td>\n",
              "      <td>8</td>\n",
              "      <td>macOS</td>\n",
              "      <td>1.37</td>\n",
              "      <td>1339.69</td>\n",
              "      <td>128.0</td>\n",
              "      <td>0.0</td>\n",
              "      <td>0.0</td>\n",
              "      <td>0.0</td>\n",
              "      <td>Intel</td>\n",
              "      <td>Core i5</td>\n",
              "      <td>2.3</td>\n",
              "      <td>Intel</td>\n",
              "      <td>Iris Plus Graphics 640</td>\n",
              "      <td>IPS Panel Retina Display</td>\n",
              "      <td>2560</td>\n",
              "      <td>1600</td>\n",
              "    </tr>\n",
              "    <tr>\n",
              "      <th>1</th>\n",
              "      <td>Apple</td>\n",
              "      <td>Macbook Air</td>\n",
              "      <td>Ultrabook</td>\n",
              "      <td>13.3</td>\n",
              "      <td>8</td>\n",
              "      <td>macOS</td>\n",
              "      <td>1.34</td>\n",
              "      <td>898.94</td>\n",
              "      <td>0.0</td>\n",
              "      <td>0.0</td>\n",
              "      <td>128.0</td>\n",
              "      <td>0.0</td>\n",
              "      <td>Intel</td>\n",
              "      <td>Core i5</td>\n",
              "      <td>1.8</td>\n",
              "      <td>Intel</td>\n",
              "      <td>HD Graphics 6000</td>\n",
              "      <td>NaN</td>\n",
              "      <td>1440</td>\n",
              "      <td>900</td>\n",
              "    </tr>\n",
              "    <tr>\n",
              "      <th>2</th>\n",
              "      <td>HP</td>\n",
              "      <td>250 G6</td>\n",
              "      <td>Notebook</td>\n",
              "      <td>15.6</td>\n",
              "      <td>8</td>\n",
              "      <td>No OS</td>\n",
              "      <td>1.86</td>\n",
              "      <td>575.00</td>\n",
              "      <td>256.0</td>\n",
              "      <td>0.0</td>\n",
              "      <td>0.0</td>\n",
              "      <td>0.0</td>\n",
              "      <td>Intel</td>\n",
              "      <td>Core i5 7200U</td>\n",
              "      <td>2.5</td>\n",
              "      <td>Intel</td>\n",
              "      <td>HD Graphics 620</td>\n",
              "      <td>Full HD</td>\n",
              "      <td>1920</td>\n",
              "      <td>1080</td>\n",
              "    </tr>\n",
              "    <tr>\n",
              "      <th>3</th>\n",
              "      <td>Apple</td>\n",
              "      <td>MacBook Pro</td>\n",
              "      <td>Ultrabook</td>\n",
              "      <td>15.4</td>\n",
              "      <td>16</td>\n",
              "      <td>macOS</td>\n",
              "      <td>1.83</td>\n",
              "      <td>2537.45</td>\n",
              "      <td>512.0</td>\n",
              "      <td>0.0</td>\n",
              "      <td>0.0</td>\n",
              "      <td>0.0</td>\n",
              "      <td>Intel</td>\n",
              "      <td>Core i7</td>\n",
              "      <td>2.7</td>\n",
              "      <td>AMD</td>\n",
              "      <td>Radeon Pro 455</td>\n",
              "      <td>IPS Panel Retina Display</td>\n",
              "      <td>2880</td>\n",
              "      <td>1800</td>\n",
              "    </tr>\n",
              "    <tr>\n",
              "      <th>4</th>\n",
              "      <td>Apple</td>\n",
              "      <td>MacBook Pro</td>\n",
              "      <td>Ultrabook</td>\n",
              "      <td>13.3</td>\n",
              "      <td>8</td>\n",
              "      <td>macOS</td>\n",
              "      <td>1.37</td>\n",
              "      <td>1803.60</td>\n",
              "      <td>256.0</td>\n",
              "      <td>0.0</td>\n",
              "      <td>0.0</td>\n",
              "      <td>0.0</td>\n",
              "      <td>Intel</td>\n",
              "      <td>Core i5</td>\n",
              "      <td>3.1</td>\n",
              "      <td>Intel</td>\n",
              "      <td>Iris Plus Graphics 650</td>\n",
              "      <td>IPS Panel Retina Display</td>\n",
              "      <td>2560</td>\n",
              "      <td>1600</td>\n",
              "    </tr>\n",
              "  </tbody>\n",
              "</table>\n",
              "</div>"
            ],
            "text/plain": [
              "  Company      Product  ... ScreenResolution_Width  ScreenResolution_High\n",
              "0   Apple  MacBook Pro  ...                   2560                   1600\n",
              "1   Apple  Macbook Air  ...                   1440                    900\n",
              "2      HP       250 G6  ...                   1920                   1080\n",
              "3   Apple  MacBook Pro  ...                   2880                   1800\n",
              "4   Apple  MacBook Pro  ...                   2560                   1600\n",
              "\n",
              "[5 rows x 20 columns]"
            ]
          },
          "metadata": {
            "tags": []
          },
          "execution_count": 29
        }
      ]
    },
    {
      "cell_type": "markdown",
      "metadata": {
        "id": "Euv_FP0ss-mj"
      },
      "source": [
        "## **Elementos vacíos II**"
      ]
    },
    {
      "cell_type": "markdown",
      "metadata": {
        "id": "A7_SnuzrkXce"
      },
      "source": [
        "En este momento, se comprobará si se han introducido valores nulos en el dataFrame. Tan sólo sería esperado en el apartado de tipo de resolución de pantalla, en donde se ha visto que algunas no disponían de esta información"
      ]
    },
    {
      "cell_type": "code",
      "metadata": {
        "colab": {
          "base_uri": "https://localhost:8080/"
        },
        "id": "S1c-X2r1rnaA",
        "outputId": "1816d728-bb6c-421a-ab79-c4a3fe0cd3dc"
      },
      "source": [
        "laptops_initial.isnull().sum()"
      ],
      "execution_count": 30,
      "outputs": [
        {
          "output_type": "execute_result",
          "data": {
            "text/plain": [
              "Company                     0\n",
              "Product                     0\n",
              "TypeName                    0\n",
              "Inches                      0\n",
              "Ram(GB)                     0\n",
              "OpSys                       0\n",
              "Weight(Kg)                  0\n",
              "Price_euros                 0\n",
              "MemorySSD(GB)               0\n",
              "MemoryHDD(GB)               0\n",
              "MemoryFlash(GB)             0\n",
              "MemoryHybrid(GB)            0\n",
              "CPU_Company                 0\n",
              "CPU_Version                 0\n",
              "CPU_Speed(GHz)              0\n",
              "GPU_Company                 0\n",
              "GPU_Version                 0\n",
              "ScreenResolution_Type     314\n",
              "ScreenResolution_Width      0\n",
              "ScreenResolution_High       0\n",
              "dtype: int64"
            ]
          },
          "metadata": {
            "tags": []
          },
          "execution_count": 30
        }
      ]
    },
    {
      "cell_type": "markdown",
      "metadata": {
        "id": "BWrMJzIcs1si"
      },
      "source": [
        "Efectivamente, se aprecia como para este caso se encuentran solo valores vacíos en la variable ScreenResolution_Type. Para su tratamiento, se realizará el método de indiciar los valores perdidos como la sustitución por una misma constante o etiqueta, en este caso, \"Unknown\". Esto se hace ya que falta un gran número de registro (un 33%), y el uso de otras técnicas como la moda harían que tuvieramos muchísimos datos 'no reales'. Otras técnicas basadas en modelos que lo predicen, tampoco las vemos oportunadas, ya que siendo un atributo como es el tipo de resolución, podría darse el caso de que dos ordenadores tuvieran las mismas características, y sin embargo, un tipo de resolución diferencia. Por tanto, aplicando esto al dataFrame:"
      ]
    },
    {
      "cell_type": "code",
      "metadata": {
        "colab": {
          "base_uri": "https://localhost:8080/"
        },
        "id": "_qURaNFl2wYO",
        "outputId": "3e9fd65b-71f5-46b4-cd23-cef87560bb7e"
      },
      "source": [
        "#Cambiamos los valores nulos por el literal Unknow\n",
        "laptops_initial[\"ScreenResolution_Type\"].fillna(\"Unknown\", inplace = True)\n",
        "#Verificamos que no queda ningún valor nulo\n",
        "laptops_initial.ScreenResolution_Type.isnull().sum()\n"
      ],
      "execution_count": 31,
      "outputs": [
        {
          "output_type": "execute_result",
          "data": {
            "text/plain": [
              "0"
            ]
          },
          "metadata": {
            "tags": []
          },
          "execution_count": 31
        }
      ]
    },
    {
      "cell_type": "markdown",
      "metadata": {
        "id": "Cdd_uPGltmK7"
      },
      "source": [
        "Finalemente, para las variables con las que se han tratado, se ha visto como no hay valores que indiquen valores nulos o vacíos. Faltaría tratar ver los valores de las columnas que no se han tratado todavía: \n",
        "* Company\t\n",
        "* Product\n",
        "* TypeName\n",
        "* OpSys\n",
        "\n",
        "Para comprobar que no hay valores nulos en estas variables, se imprimirán los diferentes valores que contiene cada una"
      ]
    },
    {
      "cell_type": "code",
      "metadata": {
        "colab": {
          "base_uri": "https://localhost:8080/"
        },
        "id": "Lz9I5wImFIyS",
        "outputId": "3adb9d10-116d-4280-91de-d1db193197f9"
      },
      "source": [
        "laptops_initial['Company'].unique()"
      ],
      "execution_count": 32,
      "outputs": [
        {
          "output_type": "execute_result",
          "data": {
            "text/plain": [
              "array(['Apple', 'HP', 'Acer', 'Asus', 'Dell', 'Lenovo', 'Chuwi', 'MSI',\n",
              "       'Microsoft', 'Toshiba', 'Huawei', 'Xiaomi', 'Vero', 'Razer',\n",
              "       'Mediacom', 'Samsung', 'Google', 'Fujitsu', 'LG'], dtype=object)"
            ]
          },
          "metadata": {
            "tags": []
          },
          "execution_count": 32
        }
      ]
    },
    {
      "cell_type": "code",
      "metadata": {
        "id": "8n9Q69fUGgO4"
      },
      "source": [
        "#laptops_initial['Product'].unique()"
      ],
      "execution_count": 33,
      "outputs": []
    },
    {
      "cell_type": "code",
      "metadata": {
        "colab": {
          "base_uri": "https://localhost:8080/"
        },
        "id": "Y8TmOMW-GgS4",
        "outputId": "a5005e75-3599-48fd-d5f5-c7fff46b1a4c"
      },
      "source": [
        "laptops_initial['TypeName'].unique()"
      ],
      "execution_count": 34,
      "outputs": [
        {
          "output_type": "execute_result",
          "data": {
            "text/plain": [
              "array(['Ultrabook', 'Notebook', 'Netbook', 'Gaming', '2 in 1 Convertible',\n",
              "       'Workstation'], dtype=object)"
            ]
          },
          "metadata": {
            "tags": []
          },
          "execution_count": 34
        }
      ]
    },
    {
      "cell_type": "code",
      "metadata": {
        "colab": {
          "base_uri": "https://localhost:8080/"
        },
        "id": "1Uqscj9iGgYd",
        "outputId": "190addc6-8794-4e2e-d79c-00e48436837d"
      },
      "source": [
        "laptops_initial['OpSys'].unique()"
      ],
      "execution_count": 35,
      "outputs": [
        {
          "output_type": "execute_result",
          "data": {
            "text/plain": [
              "array(['macOS', 'No OS', 'Windows 10', 'Mac OS X', 'Linux', 'Android',\n",
              "       'Windows 10 S', 'Chrome OS', 'Windows 7'], dtype=object)"
            ]
          },
          "metadata": {
            "tags": []
          },
          "execution_count": 35
        }
      ]
    },
    {
      "cell_type": "markdown",
      "metadata": {
        "id": "yG6EO7qCGr6I"
      },
      "source": [
        "Se puede apreciar como para todos los casos se encuentran valores no vacíos. Si bien es verdad que para sistema operativo encontramos 'No OS', que puede dar lugar a confusión. Sin embargo, este valor es válido, ya que algunos ordenadores pueden no tener sistema operativo integradado, y por tanto, posiblemente, abarate el coste del mismo"
      ]
    },
    {
      "cell_type": "markdown",
      "metadata": {
        "id": "4ZieCWojVkw_"
      },
      "source": [
        "## **Valores extremos**"
      ]
    },
    {
      "cell_type": "markdown",
      "metadata": {
        "id": "TIq_1PBIbE3u"
      },
      "source": [
        "Se analizarán a continuación los valores extremos, empezando por la variable más relevante para el estudio: price_euros. En un primer momento, se realizará un análisis descriptivo de esta variable numérica, estudiando sus diferentes percentiles:"
      ]
    },
    {
      "cell_type": "code",
      "metadata": {
        "colab": {
          "base_uri": "https://localhost:8080/"
        },
        "id": "ceRgavQIZNWL",
        "outputId": "0e890d52-78b3-4499-a651-73252a655edb"
      },
      "source": [
        "#Percentiles y resumen estadístico de la columna de precios\n",
        "laptops_initial[\"Price_euros\"].describe()"
      ],
      "execution_count": 46,
      "outputs": [
        {
          "output_type": "execute_result",
          "data": {
            "text/plain": [
              "count    1303.000000\n",
              "mean     1123.686992\n",
              "std       699.009043\n",
              "min       174.000000\n",
              "25%       599.000000\n",
              "50%       977.000000\n",
              "75%      1487.880000\n",
              "max      6099.000000\n",
              "Name: Price_euros, dtype: float64"
            ]
          },
          "metadata": {
            "tags": []
          },
          "execution_count": 46
        }
      ]
    },
    {
      "cell_type": "markdown",
      "metadata": {
        "id": "RYV0gHaFcIdp"
      },
      "source": [
        "Se aprecia como aparentemente, aunque el percentil 50 está en 977 y su 75 en 1487, la media es de 1123, lo que es indicio de que, tras el percentil 75 encontraremos algún valor más elevado, hasta llegar al máximo de 6099. Estudiaremos gráficamente en una recta la situación de estos datos"
      ]
    },
    {
      "cell_type": "code",
      "metadata": {
        "colab": {
          "base_uri": "https://localhost:8080/",
          "height": 265
        },
        "id": "Kg3eP_G7ZqGV",
        "outputId": "7e05491f-38a9-4651-b9c6-b15f2ab346a9"
      },
      "source": [
        "#Extraemos cada precio y el número de veces que salen\n",
        "price_unique, counts = np.unique(laptops_initial['Price_euros'], return_counts=True)\n",
        "# Representamos de azul los valores en donde se concentran la mayoría de las filas\n",
        "# y en rojo las que se alejan de esta\n",
        "sizes = counts*100\n",
        "colors = ['blue']*len(price_unique)\n",
        "colors[-1] = 'red'\n",
        "plt.axhline(1, color='k', linestyle='--')\n",
        "plt.scatter(price_unique, np.ones(len(price_unique)), s=sizes, color=colors)\n",
        "plt.yticks([])\n",
        "plt.show()"
      ],
      "execution_count": 48,
      "outputs": [
        {
          "output_type": "display_data",
          "data": {
            "image/png": "[encoded data removed]",
            "text/plain": [
              "<Figure size 432x288 with 1 Axes>"
            ]
          },
          "metadata": {
            "tags": [],
            "needs_background": "light"
          }
        }
      ]
    },
    {
      "cell_type": "markdown",
      "metadata": {
        "id": "eaF9tFkec8_E"
      },
      "source": [
        "Se aprecia como hay una gran concentración de datos en la zona en torno a 1000 euros, y que va disminuyendo hasta llegar hasta los 3000, en donde los precios a partir de este punto empiezan a encontrarse más distantes hasta llegar a los 6000, que la función cataloga como punto alejado o outlier. Una forma más visual y algo más matemática de verlo sería por medio de los boxplots:"
      ]
    },
    {
      "cell_type": "code",
      "metadata": {
        "colab": {
          "base_uri": "https://localhost:8080/",
          "height": 417
        },
        "id": "ryag_CV1W_NJ",
        "outputId": "4b8d687c-f13b-4f2b-9987-f1d1e9159863"
      },
      "source": [
        "#Construción de boxplot\n",
        "green_diamond = dict(markerfacecolor='g', marker='D')\n",
        "fig, ax = plt.subplots()\n",
        "ax.set_title('Boxplot por Precios')\n",
        "ax.boxplot(laptops_initial['Price_euros'], flierprops=green_diamond, labels=[\"Precio\"])"
      ],
      "execution_count": 44,
      "outputs": [
        {
          "output_type": "execute_result",
          "data": {
            "text/plain": [
              "{'boxes': [<matplotlib.lines.Line2D at 0x7f9fab3ede50>],\n",
              " 'caps': [<matplotlib.lines.Line2D at 0x7f9fab3f4e90>,\n",
              "  <matplotlib.lines.Line2D at 0x7f9fab3fc410>],\n",
              " 'fliers': [<matplotlib.lines.Line2D at 0x7f9fab3fced0>],\n",
              " 'means': [],\n",
              " 'medians': [<matplotlib.lines.Line2D at 0x7f9fab3fc990>],\n",
              " 'whiskers': [<matplotlib.lines.Line2D at 0x7f9fab3f4410>,\n",
              "  <matplotlib.lines.Line2D at 0x7f9fab3f4950>]}"
            ]
          },
          "metadata": {
            "tags": []
          },
          "execution_count": 44
        },
        {
          "output_type": "display_data",
          "data": {
            "image/png": "[encoded data removed]",
            "text/plain": [
              "<Figure size 432x288 with 1 Axes>"
            ]
          },
          "metadata": {
            "tags": [],
            "needs_background": "light"
          }
        }
      ]
    },
    {
      "cell_type": "markdown",
      "metadata": {
        "id": "uY9Ja7UTdmZs"
      },
      "source": [
        "En este, se aprecia información como la que se ha comentado en párrafos anteriores. En esta gráfica se aprecia como, los puntos por encima de la T, son catalogados como extremos o anómalos. Estudiemos en el dataSet estos casos, para ver si efectivamente se tratan de outliers que debemos de eliminar o tratar al ser posibles valores incorrectos o los mismos son puntos de interés de nuestro análisis y han de estar presentes."
      ]
    },
    {
      "cell_type": "code",
      "metadata": {
        "colab": {
          "base_uri": "https://localhost:8080/",
          "height": 566
        },
        "id": "w0He3atwZ_6-",
        "outputId": "57340690-da46-4f46-a908-4479691f4435"
      },
      "source": [
        "#Ordenar los ordenadores por precio, e imprimir las columnas más caras\n",
        "laptops_initial.sort_values('Price_euros').tail(10)"
      ],
      "execution_count": 52,
      "outputs": [
        {
          "output_type": "execute_result",
          "data": {
            "text/html": [
              "<div>\n",
              "<style scoped>\n",
              "    .dataframe tbody tr th:only-of-type {\n",
              "        vertical-align: middle;\n",
              "    }\n",
              "\n",
              "    .dataframe tbody tr th {\n",
              "        vertical-align: top;\n",
              "    }\n",
              "\n",
              "    .dataframe thead th {\n",
              "        text-align: right;\n",
              "    }\n",
              "</style>\n",
              "<table border=\"1\" class=\"dataframe\">\n",
              "  <thead>\n",
              "    <tr style=\"text-align: right;\">\n",
              "      <th></th>\n",
              "      <th>Company</th>\n",
              "      <th>Product</th>\n",
              "      <th>TypeName</th>\n",
              "      <th>Inches</th>\n",
              "      <th>Ram(GB)</th>\n",
              "      <th>OpSys</th>\n",
              "      <th>Weight(Kg)</th>\n",
              "      <th>Price_euros</th>\n",
              "      <th>MemorySSD(GB)</th>\n",
              "      <th>MemoryHDD(GB)</th>\n",
              "      <th>MemoryFlash(GB)</th>\n",
              "      <th>MemoryHybrid(GB)</th>\n",
              "      <th>CPU_Company</th>\n",
              "      <th>CPU_Version</th>\n",
              "      <th>CPU_Speed(GHz)</th>\n",
              "      <th>GPU_Company</th>\n",
              "      <th>GPU_Version</th>\n",
              "      <th>ScreenResolution_Type</th>\n",
              "      <th>ScreenResolution_Width</th>\n",
              "      <th>ScreenResolution_High</th>\n",
              "    </tr>\n",
              "  </thead>\n",
              "  <tbody>\n",
              "    <tr>\n",
              "      <th>1231</th>\n",
              "      <td>Razer</td>\n",
              "      <td>Blade Pro</td>\n",
              "      <td>Gaming</td>\n",
              "      <td>14.0</td>\n",
              "      <td>16</td>\n",
              "      <td>Windows 10</td>\n",
              "      <td>1.95</td>\n",
              "      <td>3499.0</td>\n",
              "      <td>1024.0</td>\n",
              "      <td>0.0</td>\n",
              "      <td>0.0</td>\n",
              "      <td>0.0</td>\n",
              "      <td>Intel</td>\n",
              "      <td>Core i7 7700HQ</td>\n",
              "      <td>2.8</td>\n",
              "      <td>Nvidia</td>\n",
              "      <td>GeForce GTX 1060</td>\n",
              "      <td>Full HD</td>\n",
              "      <td>1920</td>\n",
              "      <td>1080</td>\n",
              "    </tr>\n",
              "    <tr>\n",
              "      <th>780</th>\n",
              "      <td>Dell</td>\n",
              "      <td>Alienware 17</td>\n",
              "      <td>Gaming</td>\n",
              "      <td>17.3</td>\n",
              "      <td>32</td>\n",
              "      <td>Windows 10</td>\n",
              "      <td>4.42</td>\n",
              "      <td>3588.8</td>\n",
              "      <td>1024.0</td>\n",
              "      <td>1024.0</td>\n",
              "      <td>0.0</td>\n",
              "      <td>0.0</td>\n",
              "      <td>Intel</td>\n",
              "      <td>Core i7 7700HQ</td>\n",
              "      <td>2.8</td>\n",
              "      <td>Nvidia</td>\n",
              "      <td>GeForce GTX 1070M</td>\n",
              "      <td>IPS Panel Full HD</td>\n",
              "      <td>1920</td>\n",
              "      <td>1080</td>\n",
              "    </tr>\n",
              "    <tr>\n",
              "      <th>723</th>\n",
              "      <td>Dell</td>\n",
              "      <td>Alienware 17</td>\n",
              "      <td>Gaming</td>\n",
              "      <td>17.3</td>\n",
              "      <td>32</td>\n",
              "      <td>Windows 10</td>\n",
              "      <td>4.36</td>\n",
              "      <td>3659.4</td>\n",
              "      <td>1024.0</td>\n",
              "      <td>1024.0</td>\n",
              "      <td>0.0</td>\n",
              "      <td>0.0</td>\n",
              "      <td>Intel</td>\n",
              "      <td>Core i7 7700HQ</td>\n",
              "      <td>2.8</td>\n",
              "      <td>Nvidia</td>\n",
              "      <td>GeForce GTX 1070</td>\n",
              "      <td>4K Ultra HD</td>\n",
              "      <td>3840</td>\n",
              "      <td>2160</td>\n",
              "    </tr>\n",
              "    <tr>\n",
              "      <th>238</th>\n",
              "      <td>Asus</td>\n",
              "      <td>ROG G703VI-E5062T</td>\n",
              "      <td>Gaming</td>\n",
              "      <td>17.3</td>\n",
              "      <td>32</td>\n",
              "      <td>Windows 10</td>\n",
              "      <td>4.70</td>\n",
              "      <td>3890.0</td>\n",
              "      <td>512.0</td>\n",
              "      <td>1024.0</td>\n",
              "      <td>0.0</td>\n",
              "      <td>0.0</td>\n",
              "      <td>Intel</td>\n",
              "      <td>Core i7 7820HK</td>\n",
              "      <td>2.9</td>\n",
              "      <td>Nvidia</td>\n",
              "      <td>GeForce GTX 1080</td>\n",
              "      <td>Full HD</td>\n",
              "      <td>1920</td>\n",
              "      <td>1080</td>\n",
              "    </tr>\n",
              "    <tr>\n",
              "      <th>1136</th>\n",
              "      <td>HP</td>\n",
              "      <td>ZBook 17</td>\n",
              "      <td>Workstation</td>\n",
              "      <td>17.3</td>\n",
              "      <td>8</td>\n",
              "      <td>Windows 7</td>\n",
              "      <td>3.00</td>\n",
              "      <td>3949.4</td>\n",
              "      <td>256.0</td>\n",
              "      <td>0.0</td>\n",
              "      <td>0.0</td>\n",
              "      <td>0.0</td>\n",
              "      <td>Intel</td>\n",
              "      <td>Core i7 6700HQ</td>\n",
              "      <td>2.6</td>\n",
              "      <td>Nvidia</td>\n",
              "      <td>Quadro M3000M</td>\n",
              "      <td>IPS Panel Full HD</td>\n",
              "      <td>1920</td>\n",
              "      <td>1080</td>\n",
              "    </tr>\n",
              "    <tr>\n",
              "      <th>1066</th>\n",
              "      <td>Asus</td>\n",
              "      <td>ROG G701VO</td>\n",
              "      <td>Gaming</td>\n",
              "      <td>17.3</td>\n",
              "      <td>64</td>\n",
              "      <td>Windows 10</td>\n",
              "      <td>3.58</td>\n",
              "      <td>3975.0</td>\n",
              "      <td>1024.0</td>\n",
              "      <td>0.0</td>\n",
              "      <td>0.0</td>\n",
              "      <td>0.0</td>\n",
              "      <td>Intel</td>\n",
              "      <td>Core i7 6820HK</td>\n",
              "      <td>2.7</td>\n",
              "      <td>Nvidia</td>\n",
              "      <td>GeForce GTX 980</td>\n",
              "      <td>IPS Panel Full HD</td>\n",
              "      <td>1920</td>\n",
              "      <td>1080</td>\n",
              "    </tr>\n",
              "    <tr>\n",
              "      <th>749</th>\n",
              "      <td>HP</td>\n",
              "      <td>Zbook 17</td>\n",
              "      <td>Workstation</td>\n",
              "      <td>17.3</td>\n",
              "      <td>16</td>\n",
              "      <td>Windows 7</td>\n",
              "      <td>3.00</td>\n",
              "      <td>4389.0</td>\n",
              "      <td>256.0</td>\n",
              "      <td>0.0</td>\n",
              "      <td>0.0</td>\n",
              "      <td>0.0</td>\n",
              "      <td>Intel</td>\n",
              "      <td>Xeon E3-1535M v5</td>\n",
              "      <td>2.9</td>\n",
              "      <td>Nvidia</td>\n",
              "      <td>Quadro M2000M</td>\n",
              "      <td>IPS Panel Full HD</td>\n",
              "      <td>1920</td>\n",
              "      <td>1080</td>\n",
              "    </tr>\n",
              "    <tr>\n",
              "      <th>610</th>\n",
              "      <td>Lenovo</td>\n",
              "      <td>Thinkpad P51</td>\n",
              "      <td>Notebook</td>\n",
              "      <td>15.6</td>\n",
              "      <td>32</td>\n",
              "      <td>Windows 10</td>\n",
              "      <td>2.50</td>\n",
              "      <td>4899.0</td>\n",
              "      <td>1024.0</td>\n",
              "      <td>0.0</td>\n",
              "      <td>0.0</td>\n",
              "      <td>0.0</td>\n",
              "      <td>Intel</td>\n",
              "      <td>Xeon E3-1535M v6</td>\n",
              "      <td>3.1</td>\n",
              "      <td>Nvidia</td>\n",
              "      <td>Quadro M2200M</td>\n",
              "      <td>IPS Panel 4K Ultra HD</td>\n",
              "      <td>3840</td>\n",
              "      <td>2160</td>\n",
              "    </tr>\n",
              "    <tr>\n",
              "      <th>830</th>\n",
              "      <td>Razer</td>\n",
              "      <td>Blade Pro</td>\n",
              "      <td>Gaming</td>\n",
              "      <td>17.3</td>\n",
              "      <td>32</td>\n",
              "      <td>Windows 10</td>\n",
              "      <td>3.49</td>\n",
              "      <td>5499.0</td>\n",
              "      <td>512.0</td>\n",
              "      <td>0.0</td>\n",
              "      <td>0.0</td>\n",
              "      <td>0.0</td>\n",
              "      <td>Intel</td>\n",
              "      <td>Core i7 7820HK</td>\n",
              "      <td>2.9</td>\n",
              "      <td>Nvidia</td>\n",
              "      <td>GeForce GTX 1080</td>\n",
              "      <td>4K Ultra HD / Touchscreen</td>\n",
              "      <td>3840</td>\n",
              "      <td>2160</td>\n",
              "    </tr>\n",
              "    <tr>\n",
              "      <th>196</th>\n",
              "      <td>Razer</td>\n",
              "      <td>Blade Pro</td>\n",
              "      <td>Gaming</td>\n",
              "      <td>17.3</td>\n",
              "      <td>32</td>\n",
              "      <td>Windows 10</td>\n",
              "      <td>3.49</td>\n",
              "      <td>6099.0</td>\n",
              "      <td>1024.0</td>\n",
              "      <td>0.0</td>\n",
              "      <td>0.0</td>\n",
              "      <td>0.0</td>\n",
              "      <td>Intel</td>\n",
              "      <td>Core i7 7820HK</td>\n",
              "      <td>2.9</td>\n",
              "      <td>Nvidia</td>\n",
              "      <td>GeForce GTX 1080</td>\n",
              "      <td>4K Ultra HD / Touchscreen</td>\n",
              "      <td>3840</td>\n",
              "      <td>2160</td>\n",
              "    </tr>\n",
              "  </tbody>\n",
              "</table>\n",
              "</div>"
            ],
            "text/plain": [
              "     Company            Product  ... ScreenResolution_Width  ScreenResolution_High\n",
              "1231   Razer          Blade Pro  ...                   1920                   1080\n",
              "780     Dell       Alienware 17  ...                   1920                   1080\n",
              "723     Dell       Alienware 17  ...                   3840                   2160\n",
              "238     Asus  ROG G703VI-E5062T  ...                   1920                   1080\n",
              "1136      HP           ZBook 17  ...                   1920                   1080\n",
              "1066    Asus         ROG G701VO  ...                   1920                   1080\n",
              "749       HP           Zbook 17  ...                   1920                   1080\n",
              "610   Lenovo       Thinkpad P51  ...                   3840                   2160\n",
              "830    Razer          Blade Pro  ...                   3840                   2160\n",
              "196    Razer          Blade Pro  ...                   3840                   2160\n",
              "\n",
              "[10 rows x 20 columns]"
            ]
          },
          "metadata": {
            "tags": []
          },
          "execution_count": 52
        }
      ]
    },
    {
      "cell_type": "markdown",
      "metadata": {
        "id": "XleYxURCepw2"
      },
      "source": [
        "Se aprecia como sin duda, en la gran mayoría encontramos en esta sección ordenadores Gaming, los cuales necesitan una capacidad mayores que los ordenadores estándar para el día a día. Además, vemos por ejemplo que la diferencia entre los dos últimos reside en la diferencia de la memoria SSD, ya que las demás características son iguales. Por lo general, vemos que todos estos ordenadores, presentan una CPU y GPU muy potente, que consultando el precio de estas en el mercado, parece ser un elemento que aumentará bastante el precio. Para confirmar este hecho, vamos a realizar un resumen de estos ordenadores\n"
      ]
    },
    {
      "cell_type": "code",
      "metadata": {
        "colab": {
          "base_uri": "https://localhost:8080/",
          "height": 317
        },
        "id": "eBNNFxgctLtb",
        "outputId": "7e246f06-b087-4192-e574-a6d76292fa52"
      },
      "source": [
        " laptops_initial[laptops_initial['TypeName']=='Gaming'].describe()"
      ],
      "execution_count": 58,
      "outputs": [
        {
          "output_type": "execute_result",
          "data": {
            "text/html": [
              "<div>\n",
              "<style scoped>\n",
              "    .dataframe tbody tr th:only-of-type {\n",
              "        vertical-align: middle;\n",
              "    }\n",
              "\n",
              "    .dataframe tbody tr th {\n",
              "        vertical-align: top;\n",
              "    }\n",
              "\n",
              "    .dataframe thead th {\n",
              "        text-align: right;\n",
              "    }\n",
              "</style>\n",
              "<table border=\"1\" class=\"dataframe\">\n",
              "  <thead>\n",
              "    <tr style=\"text-align: right;\">\n",
              "      <th></th>\n",
              "      <th>Inches</th>\n",
              "      <th>Ram(GB)</th>\n",
              "      <th>Weight(Kg)</th>\n",
              "      <th>Price_euros</th>\n",
              "      <th>MemorySSD(GB)</th>\n",
              "      <th>MemoryHDD(GB)</th>\n",
              "      <th>MemoryFlash(GB)</th>\n",
              "      <th>MemoryHybrid(GB)</th>\n",
              "      <th>CPU_Speed(GHz)</th>\n",
              "      <th>ScreenResolution_Width</th>\n",
              "      <th>ScreenResolution_High</th>\n",
              "    </tr>\n",
              "  </thead>\n",
              "  <tbody>\n",
              "    <tr>\n",
              "      <th>count</th>\n",
              "      <td>205.000000</td>\n",
              "      <td>205.000000</td>\n",
              "      <td>205.000000</td>\n",
              "      <td>205.000000</td>\n",
              "      <td>205.000000</td>\n",
              "      <td>205.000000</td>\n",
              "      <td>205.0</td>\n",
              "      <td>205.000000</td>\n",
              "      <td>205.000000</td>\n",
              "      <td>205.000000</td>\n",
              "      <td>205.000000</td>\n",
              "    </tr>\n",
              "    <tr>\n",
              "      <th>mean</th>\n",
              "      <td>16.345854</td>\n",
              "      <td>14.048780</td>\n",
              "      <td>2.949761</td>\n",
              "      <td>1731.380634</td>\n",
              "      <td>236.019512</td>\n",
              "      <td>879.141463</td>\n",
              "      <td>0.0</td>\n",
              "      <td>19.980488</td>\n",
              "      <td>2.722439</td>\n",
              "      <td>2048.000000</td>\n",
              "      <td>1152.000000</td>\n",
              "    </tr>\n",
              "    <tr>\n",
              "      <th>std</th>\n",
              "      <td>0.927174</td>\n",
              "      <td>7.234013</td>\n",
              "      <td>0.759205</td>\n",
              "      <td>814.174430</td>\n",
              "      <td>189.474608</td>\n",
              "      <td>423.528276</td>\n",
              "      <td>0.0</td>\n",
              "      <td>141.982875</td>\n",
              "      <td>0.142057</td>\n",
              "      <td>471.666216</td>\n",
              "      <td>265.312247</td>\n",
              "    </tr>\n",
              "    <tr>\n",
              "      <th>min</th>\n",
              "      <td>14.000000</td>\n",
              "      <td>4.000000</td>\n",
              "      <td>1.600000</td>\n",
              "      <td>699.000000</td>\n",
              "      <td>0.000000</td>\n",
              "      <td>0.000000</td>\n",
              "      <td>0.0</td>\n",
              "      <td>0.000000</td>\n",
              "      <td>2.100000</td>\n",
              "      <td>1920.000000</td>\n",
              "      <td>1080.000000</td>\n",
              "    </tr>\n",
              "    <tr>\n",
              "      <th>25%</th>\n",
              "      <td>15.600000</td>\n",
              "      <td>8.000000</td>\n",
              "      <td>2.430000</td>\n",
              "      <td>1169.000000</td>\n",
              "      <td>128.000000</td>\n",
              "      <td>1024.000000</td>\n",
              "      <td>0.0</td>\n",
              "      <td>0.000000</td>\n",
              "      <td>2.600000</td>\n",
              "      <td>1920.000000</td>\n",
              "      <td>1080.000000</td>\n",
              "    </tr>\n",
              "    <tr>\n",
              "      <th>50%</th>\n",
              "      <td>15.600000</td>\n",
              "      <td>16.000000</td>\n",
              "      <td>2.700000</td>\n",
              "      <td>1492.800000</td>\n",
              "      <td>256.000000</td>\n",
              "      <td>1024.000000</td>\n",
              "      <td>0.0</td>\n",
              "      <td>0.000000</td>\n",
              "      <td>2.800000</td>\n",
              "      <td>1920.000000</td>\n",
              "      <td>1080.000000</td>\n",
              "    </tr>\n",
              "    <tr>\n",
              "      <th>75%</th>\n",
              "      <td>17.300000</td>\n",
              "      <td>16.000000</td>\n",
              "      <td>3.350000</td>\n",
              "      <td>2199.000000</td>\n",
              "      <td>256.000000</td>\n",
              "      <td>1024.000000</td>\n",
              "      <td>0.0</td>\n",
              "      <td>0.000000</td>\n",
              "      <td>2.800000</td>\n",
              "      <td>1920.000000</td>\n",
              "      <td>1080.000000</td>\n",
              "    </tr>\n",
              "    <tr>\n",
              "      <th>max</th>\n",
              "      <td>18.400000</td>\n",
              "      <td>64.000000</td>\n",
              "      <td>4.700000</td>\n",
              "      <td>6099.000000</td>\n",
              "      <td>1024.000000</td>\n",
              "      <td>2048.000000</td>\n",
              "      <td>0.0</td>\n",
              "      <td>1024.000000</td>\n",
              "      <td>3.200000</td>\n",
              "      <td>3840.000000</td>\n",
              "      <td>2160.000000</td>\n",
              "    </tr>\n",
              "  </tbody>\n",
              "</table>\n",
              "</div>"
            ],
            "text/plain": [
              "           Inches     Ram(GB)  ...  ScreenResolution_Width  ScreenResolution_High\n",
              "count  205.000000  205.000000  ...              205.000000             205.000000\n",
              "mean    16.345854   14.048780  ...             2048.000000            1152.000000\n",
              "std      0.927174    7.234013  ...              471.666216             265.312247\n",
              "min     14.000000    4.000000  ...             1920.000000            1080.000000\n",
              "25%     15.600000    8.000000  ...             1920.000000            1080.000000\n",
              "50%     15.600000   16.000000  ...             1920.000000            1080.000000\n",
              "75%     17.300000   16.000000  ...             1920.000000            1080.000000\n",
              "max     18.400000   64.000000  ...             3840.000000            2160.000000\n",
              "\n",
              "[8 rows x 11 columns]"
            ]
          },
          "metadata": {
            "tags": []
          },
          "execution_count": 58
        }
      ]
    },
    {
      "cell_type": "markdown",
      "metadata": {
        "id": "Frc9e2U6tsH2"
      },
      "source": [
        "Se aprecia que aunque encontramos también algún ordenador barato de estas características (699), la mayoría, incrementan todos los percentiles vistos anteriormente. Además, con el resto de característimas de rendimiento como la CPU, presentan valores altos en donde desde el percentil 50 toma el valor de 2.8, llegando a tomar 3.2 en su máximo.\n",
        "\n"
      ]
    },
    {
      "cell_type": "markdown",
      "metadata": {
        "id": "9kiRQF57u0Bd"
      },
      "source": [
        "Centrando ahora el estudio para el caso del peso:\n"
      ]
    },
    {
      "cell_type": "code",
      "metadata": {
        "colab": {
          "base_uri": "https://localhost:8080/",
          "height": 417
        },
        "id": "tXRlkgTxvNfe",
        "outputId": "afdfd867-16d7-44c0-d72d-cd11a4e947b2"
      },
      "source": [
        "#Construción de boxplot\n",
        "green_diamond = dict(markerfacecolor='g', marker='D')\n",
        "fig, ax = plt.subplots()\n",
        "ax.set_title('Boxplot por Precios')\n",
        "ax.boxplot(laptops_initial['Weight(Kg)'], flierprops=green_diamond, labels=[\"Peso (Kg)\"])"
      ],
      "execution_count": 65,
      "outputs": [
        {
          "output_type": "execute_result",
          "data": {
            "text/plain": [
              "{'boxes': [<matplotlib.lines.Line2D at 0x7f9fa6bb8790>],\n",
              " 'caps': [<matplotlib.lines.Line2D at 0x7f9fa6b71910>,\n",
              "  <matplotlib.lines.Line2D at 0x7f9fa6b71e50>],\n",
              " 'fliers': [<matplotlib.lines.Line2D at 0x7f9fa6b5c950>],\n",
              " 'means': [],\n",
              " 'medians': [<matplotlib.lines.Line2D at 0x7f9fa6b5c410>],\n",
              " 'whiskers': [<matplotlib.lines.Line2D at 0x7f9fa6bef690>,\n",
              "  <matplotlib.lines.Line2D at 0x7f9fa6b713d0>]}"
            ]
          },
          "metadata": {
            "tags": []
          },
          "execution_count": 65
        },
        {
          "output_type": "display_data",
          "data": {
            "image/png": "[encoded data removed]",
            "text/plain": [
              "<Figure size 432x288 with 1 Axes>"
            ]
          },
          "metadata": {
            "tags": [],
            "needs_background": "light"
          }
        }
      ]
    },
    {
      "cell_type": "markdown",
      "metadata": {
        "id": "sl20QUdQv0N3"
      },
      "source": [
        "Se aprecia como se vuelven a tener varios registros que se alejan \"por arriba\" del conjunto de los demás datos. Para ello, volveremos a ver de que ordenadores se trata:"
      ]
    },
    {
      "cell_type": "code",
      "metadata": {
        "colab": {
          "base_uri": "https://localhost:8080/",
          "height": 1000
        },
        "id": "uwPb6sFLvdWg",
        "outputId": "2a15203e-dd4b-485a-a858-b1c265882dba"
      },
      "source": [
        " laptops_initial[laptops_initial['Weight(Kg)']>3.5]"
      ],
      "execution_count": 61,
      "outputs": [
        {
          "output_type": "execute_result",
          "data": {
            "text/html": [
              "<div>\n",
              "<style scoped>\n",
              "    .dataframe tbody tr th:only-of-type {\n",
              "        vertical-align: middle;\n",
              "    }\n",
              "\n",
              "    .dataframe tbody tr th {\n",
              "        vertical-align: top;\n",
              "    }\n",
              "\n",
              "    .dataframe thead th {\n",
              "        text-align: right;\n",
              "    }\n",
              "</style>\n",
              "<table border=\"1\" class=\"dataframe\">\n",
              "  <thead>\n",
              "    <tr style=\"text-align: right;\">\n",
              "      <th></th>\n",
              "      <th>Company</th>\n",
              "      <th>Product</th>\n",
              "      <th>TypeName</th>\n",
              "      <th>Inches</th>\n",
              "      <th>Ram(GB)</th>\n",
              "      <th>OpSys</th>\n",
              "      <th>Weight(Kg)</th>\n",
              "      <th>Price_euros</th>\n",
              "      <th>MemorySSD(GB)</th>\n",
              "      <th>MemoryHDD(GB)</th>\n",
              "      <th>MemoryFlash(GB)</th>\n",
              "      <th>MemoryHybrid(GB)</th>\n",
              "      <th>CPU_Company</th>\n",
              "      <th>CPU_Version</th>\n",
              "      <th>CPU_Speed(GHz)</th>\n",
              "      <th>GPU_Company</th>\n",
              "      <th>GPU_Version</th>\n",
              "      <th>ScreenResolution_Type</th>\n",
              "      <th>ScreenResolution_Width</th>\n",
              "      <th>ScreenResolution_High</th>\n",
              "    </tr>\n",
              "  </thead>\n",
              "  <tbody>\n",
              "    <tr>\n",
              "      <th>177</th>\n",
              "      <td>MSI</td>\n",
              "      <td>GT80S 6QF-074US</td>\n",
              "      <td>Gaming</td>\n",
              "      <td>18.4</td>\n",
              "      <td>32</td>\n",
              "      <td>Windows 10</td>\n",
              "      <td>4.40</td>\n",
              "      <td>2799.00</td>\n",
              "      <td>512.0</td>\n",
              "      <td>1024.0</td>\n",
              "      <td>0.0</td>\n",
              "      <td>0.0</td>\n",
              "      <td>Intel</td>\n",
              "      <td>Core i7 6920HQ</td>\n",
              "      <td>2.9</td>\n",
              "      <td>Nvidia</td>\n",
              "      <td>GTX 980 SLI</td>\n",
              "      <td>Full HD</td>\n",
              "      <td>1920</td>\n",
              "      <td>1080</td>\n",
              "    </tr>\n",
              "    <tr>\n",
              "      <th>224</th>\n",
              "      <td>Dell</td>\n",
              "      <td>Alienware 17</td>\n",
              "      <td>Gaming</td>\n",
              "      <td>17.3</td>\n",
              "      <td>16</td>\n",
              "      <td>Windows 10</td>\n",
              "      <td>4.42</td>\n",
              "      <td>2456.34</td>\n",
              "      <td>256.0</td>\n",
              "      <td>1024.0</td>\n",
              "      <td>0.0</td>\n",
              "      <td>0.0</td>\n",
              "      <td>Intel</td>\n",
              "      <td>Core i7 7700HQ</td>\n",
              "      <td>2.8</td>\n",
              "      <td>Nvidia</td>\n",
              "      <td>GeForce GTX 1060</td>\n",
              "      <td>IPS Panel Full HD</td>\n",
              "      <td>1920</td>\n",
              "      <td>1080</td>\n",
              "    </tr>\n",
              "    <tr>\n",
              "      <th>238</th>\n",
              "      <td>Asus</td>\n",
              "      <td>ROG G703VI-E5062T</td>\n",
              "      <td>Gaming</td>\n",
              "      <td>17.3</td>\n",
              "      <td>32</td>\n",
              "      <td>Windows 10</td>\n",
              "      <td>4.70</td>\n",
              "      <td>3890.00</td>\n",
              "      <td>512.0</td>\n",
              "      <td>1024.0</td>\n",
              "      <td>0.0</td>\n",
              "      <td>0.0</td>\n",
              "      <td>Intel</td>\n",
              "      <td>Core i7 7820HK</td>\n",
              "      <td>2.9</td>\n",
              "      <td>Nvidia</td>\n",
              "      <td>GeForce GTX 1080</td>\n",
              "      <td>Full HD</td>\n",
              "      <td>1920</td>\n",
              "      <td>1080</td>\n",
              "    </tr>\n",
              "    <tr>\n",
              "      <th>247</th>\n",
              "      <td>Asus</td>\n",
              "      <td>Rog G701VIK-BA060T</td>\n",
              "      <td>Gaming</td>\n",
              "      <td>17.3</td>\n",
              "      <td>16</td>\n",
              "      <td>Windows 10</td>\n",
              "      <td>3.60</td>\n",
              "      <td>2999.00</td>\n",
              "      <td>256.0</td>\n",
              "      <td>0.0</td>\n",
              "      <td>0.0</td>\n",
              "      <td>0.0</td>\n",
              "      <td>Intel</td>\n",
              "      <td>Core i7 7820HK</td>\n",
              "      <td>2.9</td>\n",
              "      <td>Nvidia</td>\n",
              "      <td>GeForce GTX 1080</td>\n",
              "      <td>Full HD</td>\n",
              "      <td>1920</td>\n",
              "      <td>1080</td>\n",
              "    </tr>\n",
              "    <tr>\n",
              "      <th>251</th>\n",
              "      <td>Asus</td>\n",
              "      <td>ROG G752VSK-GC493T</td>\n",
              "      <td>Gaming</td>\n",
              "      <td>17.3</td>\n",
              "      <td>16</td>\n",
              "      <td>Windows 10</td>\n",
              "      <td>4.30</td>\n",
              "      <td>1799.00</td>\n",
              "      <td>256.0</td>\n",
              "      <td>1024.0</td>\n",
              "      <td>0.0</td>\n",
              "      <td>0.0</td>\n",
              "      <td>Intel</td>\n",
              "      <td>Core i7 7700HQ</td>\n",
              "      <td>2.8</td>\n",
              "      <td>Nvidia</td>\n",
              "      <td>GeForce GTX 980M</td>\n",
              "      <td>Full HD</td>\n",
              "      <td>1920</td>\n",
              "      <td>1080</td>\n",
              "    </tr>\n",
              "    <tr>\n",
              "      <th>258</th>\n",
              "      <td>MSI</td>\n",
              "      <td>GT73EVR 7RE</td>\n",
              "      <td>Gaming</td>\n",
              "      <td>17.3</td>\n",
              "      <td>16</td>\n",
              "      <td>Windows 10</td>\n",
              "      <td>4.14</td>\n",
              "      <td>2499.00</td>\n",
              "      <td>512.0</td>\n",
              "      <td>1024.0</td>\n",
              "      <td>0.0</td>\n",
              "      <td>0.0</td>\n",
              "      <td>Intel</td>\n",
              "      <td>Core i7 7700HQ</td>\n",
              "      <td>2.8</td>\n",
              "      <td>Nvidia</td>\n",
              "      <td>GeForce GTX 1070</td>\n",
              "      <td>Full HD</td>\n",
              "      <td>1920</td>\n",
              "      <td>1080</td>\n",
              "    </tr>\n",
              "    <tr>\n",
              "      <th>424</th>\n",
              "      <td>Dell</td>\n",
              "      <td>Alienware 17</td>\n",
              "      <td>Gaming</td>\n",
              "      <td>17.3</td>\n",
              "      <td>16</td>\n",
              "      <td>Windows 10</td>\n",
              "      <td>4.42</td>\n",
              "      <td>2799.00</td>\n",
              "      <td>256.0</td>\n",
              "      <td>1024.0</td>\n",
              "      <td>0.0</td>\n",
              "      <td>0.0</td>\n",
              "      <td>Intel</td>\n",
              "      <td>Core i7 7820HK</td>\n",
              "      <td>2.9</td>\n",
              "      <td>Nvidia</td>\n",
              "      <td>GeForce GTX 1070</td>\n",
              "      <td>IPS Panel</td>\n",
              "      <td>2560</td>\n",
              "      <td>1440</td>\n",
              "    </tr>\n",
              "    <tr>\n",
              "      <th>456</th>\n",
              "      <td>Dell</td>\n",
              "      <td>Alienware 17</td>\n",
              "      <td>Notebook</td>\n",
              "      <td>17.3</td>\n",
              "      <td>8</td>\n",
              "      <td>Windows 10</td>\n",
              "      <td>4.42</td>\n",
              "      <td>2046.00</td>\n",
              "      <td>0.0</td>\n",
              "      <td>1024.0</td>\n",
              "      <td>0.0</td>\n",
              "      <td>0.0</td>\n",
              "      <td>Intel</td>\n",
              "      <td>Core i7 7700HQ</td>\n",
              "      <td>2.7</td>\n",
              "      <td>Nvidia</td>\n",
              "      <td>GeForce GTX 1060</td>\n",
              "      <td>IPS Panel Full HD</td>\n",
              "      <td>1920</td>\n",
              "      <td>1080</td>\n",
              "    </tr>\n",
              "    <tr>\n",
              "      <th>468</th>\n",
              "      <td>HP</td>\n",
              "      <td>Omen 17-an006nv</td>\n",
              "      <td>Gaming</td>\n",
              "      <td>17.3</td>\n",
              "      <td>12</td>\n",
              "      <td>Windows 10</td>\n",
              "      <td>3.78</td>\n",
              "      <td>1699.00</td>\n",
              "      <td>0.0</td>\n",
              "      <td>1024.0</td>\n",
              "      <td>0.0</td>\n",
              "      <td>0.0</td>\n",
              "      <td>Intel</td>\n",
              "      <td>Core i7 7700HQ</td>\n",
              "      <td>2.8</td>\n",
              "      <td>Nvidia</td>\n",
              "      <td>GeForce GTX 1060</td>\n",
              "      <td>IPS Panel Full HD</td>\n",
              "      <td>1920</td>\n",
              "      <td>1080</td>\n",
              "    </tr>\n",
              "    <tr>\n",
              "      <th>494</th>\n",
              "      <td>Asus</td>\n",
              "      <td>Rog G752VL-UH71T</td>\n",
              "      <td>Gaming</td>\n",
              "      <td>17.3</td>\n",
              "      <td>24</td>\n",
              "      <td>Windows 10</td>\n",
              "      <td>4.33</td>\n",
              "      <td>1269.00</td>\n",
              "      <td>256.0</td>\n",
              "      <td>1024.0</td>\n",
              "      <td>0.0</td>\n",
              "      <td>0.0</td>\n",
              "      <td>Intel</td>\n",
              "      <td>Core i7 6700HQ</td>\n",
              "      <td>2.6</td>\n",
              "      <td>Nvidia</td>\n",
              "      <td>GeForce GTX 965M</td>\n",
              "      <td>IPS Panel Full HD / Touchscreen</td>\n",
              "      <td>1920</td>\n",
              "      <td>1080</td>\n",
              "    </tr>\n",
              "    <tr>\n",
              "      <th>530</th>\n",
              "      <td>Dell</td>\n",
              "      <td>Alienware 17</td>\n",
              "      <td>Gaming</td>\n",
              "      <td>17.3</td>\n",
              "      <td>16</td>\n",
              "      <td>Windows 10</td>\n",
              "      <td>4.42</td>\n",
              "      <td>3012.77</td>\n",
              "      <td>128.0</td>\n",
              "      <td>1024.0</td>\n",
              "      <td>0.0</td>\n",
              "      <td>0.0</td>\n",
              "      <td>Intel</td>\n",
              "      <td>Core i7 7700HQ</td>\n",
              "      <td>2.8</td>\n",
              "      <td>Nvidia</td>\n",
              "      <td>GeForce GTX 1070</td>\n",
              "      <td>IPS Panel Full HD</td>\n",
              "      <td>1920</td>\n",
              "      <td>1080</td>\n",
              "    </tr>\n",
              "    <tr>\n",
              "      <th>552</th>\n",
              "      <td>Dell</td>\n",
              "      <td>Alienware 17</td>\n",
              "      <td>Gaming</td>\n",
              "      <td>17.3</td>\n",
              "      <td>16</td>\n",
              "      <td>Windows 10</td>\n",
              "      <td>4.42</td>\n",
              "      <td>2699.00</td>\n",
              "      <td>256.0</td>\n",
              "      <td>1024.0</td>\n",
              "      <td>0.0</td>\n",
              "      <td>0.0</td>\n",
              "      <td>Intel</td>\n",
              "      <td>Core i7 7700HQ</td>\n",
              "      <td>2.8</td>\n",
              "      <td>Nvidia</td>\n",
              "      <td>GeForce GTX 1070</td>\n",
              "      <td>IPS Panel Full HD</td>\n",
              "      <td>1920</td>\n",
              "      <td>1080</td>\n",
              "    </tr>\n",
              "    <tr>\n",
              "      <th>577</th>\n",
              "      <td>Lenovo</td>\n",
              "      <td>IdeaPad Y910-17ISK</td>\n",
              "      <td>Gaming</td>\n",
              "      <td>17.3</td>\n",
              "      <td>32</td>\n",
              "      <td>Windows 10</td>\n",
              "      <td>4.60</td>\n",
              "      <td>2663.00</td>\n",
              "      <td>256.0</td>\n",
              "      <td>1024.0</td>\n",
              "      <td>0.0</td>\n",
              "      <td>0.0</td>\n",
              "      <td>Intel</td>\n",
              "      <td>Core i7 6820HK</td>\n",
              "      <td>2.7</td>\n",
              "      <td>Nvidia</td>\n",
              "      <td>GeForce GTX 1070</td>\n",
              "      <td>IPS Panel Full HD</td>\n",
              "      <td>1920</td>\n",
              "      <td>1080</td>\n",
              "    </tr>\n",
              "    <tr>\n",
              "      <th>578</th>\n",
              "      <td>MSI</td>\n",
              "      <td>GT73VR Titan</td>\n",
              "      <td>Gaming</td>\n",
              "      <td>17.3</td>\n",
              "      <td>16</td>\n",
              "      <td>Windows 10</td>\n",
              "      <td>4.14</td>\n",
              "      <td>2729.00</td>\n",
              "      <td>512.0</td>\n",
              "      <td>1024.0</td>\n",
              "      <td>0.0</td>\n",
              "      <td>0.0</td>\n",
              "      <td>Intel</td>\n",
              "      <td>Core i7 7820HK</td>\n",
              "      <td>2.9</td>\n",
              "      <td>Nvidia</td>\n",
              "      <td>GeForce GTX 1070</td>\n",
              "      <td>Full HD</td>\n",
              "      <td>1920</td>\n",
              "      <td>1080</td>\n",
              "    </tr>\n",
              "    <tr>\n",
              "      <th>585</th>\n",
              "      <td>MSI</td>\n",
              "      <td>GT80S 6QE</td>\n",
              "      <td>Gaming</td>\n",
              "      <td>17.3</td>\n",
              "      <td>16</td>\n",
              "      <td>Windows 10</td>\n",
              "      <td>4.50</td>\n",
              "      <td>2349.00</td>\n",
              "      <td>128.0</td>\n",
              "      <td>1024.0</td>\n",
              "      <td>0.0</td>\n",
              "      <td>0.0</td>\n",
              "      <td>Intel</td>\n",
              "      <td>Core i7 6820HK</td>\n",
              "      <td>2.7</td>\n",
              "      <td>Nvidia</td>\n",
              "      <td>GeForce GTX 980M</td>\n",
              "      <td>Full HD</td>\n",
              "      <td>1920</td>\n",
              "      <td>1080</td>\n",
              "    </tr>\n",
              "    <tr>\n",
              "      <th>586</th>\n",
              "      <td>HP</td>\n",
              "      <td>Omen 17-AN010nv</td>\n",
              "      <td>Gaming</td>\n",
              "      <td>17.3</td>\n",
              "      <td>16</td>\n",
              "      <td>Windows 10</td>\n",
              "      <td>3.78</td>\n",
              "      <td>1498.00</td>\n",
              "      <td>256.0</td>\n",
              "      <td>1024.0</td>\n",
              "      <td>0.0</td>\n",
              "      <td>0.0</td>\n",
              "      <td>Intel</td>\n",
              "      <td>Core i7 7700HQ</td>\n",
              "      <td>2.8</td>\n",
              "      <td>Nvidia</td>\n",
              "      <td>GeForce GTX 1050</td>\n",
              "      <td>IPS Panel Full HD</td>\n",
              "      <td>1920</td>\n",
              "      <td>1080</td>\n",
              "    </tr>\n",
              "    <tr>\n",
              "      <th>603</th>\n",
              "      <td>MSI</td>\n",
              "      <td>Laptop MSI</td>\n",
              "      <td>Gaming</td>\n",
              "      <td>17.3</td>\n",
              "      <td>16</td>\n",
              "      <td>Windows 10</td>\n",
              "      <td>4.14</td>\n",
              "      <td>2199.00</td>\n",
              "      <td>128.0</td>\n",
              "      <td>1024.0</td>\n",
              "      <td>0.0</td>\n",
              "      <td>0.0</td>\n",
              "      <td>Intel</td>\n",
              "      <td>Core i7 6820HK</td>\n",
              "      <td>2.7</td>\n",
              "      <td>Nvidia</td>\n",
              "      <td>GeForce GTX 970M</td>\n",
              "      <td>Full HD</td>\n",
              "      <td>1920</td>\n",
              "      <td>1080</td>\n",
              "    </tr>\n",
              "    <tr>\n",
              "      <th>650</th>\n",
              "      <td>Asus</td>\n",
              "      <td>ROG G701VI</td>\n",
              "      <td>Gaming</td>\n",
              "      <td>17.3</td>\n",
              "      <td>32</td>\n",
              "      <td>Windows 10</td>\n",
              "      <td>3.80</td>\n",
              "      <td>2799.00</td>\n",
              "      <td>512.0</td>\n",
              "      <td>0.0</td>\n",
              "      <td>0.0</td>\n",
              "      <td>0.0</td>\n",
              "      <td>Intel</td>\n",
              "      <td>Core i7 6820HK</td>\n",
              "      <td>2.7</td>\n",
              "      <td>Nvidia</td>\n",
              "      <td>GeForce GTX 1080</td>\n",
              "      <td>IPS Panel Full HD</td>\n",
              "      <td>1920</td>\n",
              "      <td>1080</td>\n",
              "    </tr>\n",
              "    <tr>\n",
              "      <th>659</th>\n",
              "      <td>Dell</td>\n",
              "      <td>Alienware 17</td>\n",
              "      <td>Gaming</td>\n",
              "      <td>17.3</td>\n",
              "      <td>32</td>\n",
              "      <td>Windows 10</td>\n",
              "      <td>4.42</td>\n",
              "      <td>3147.37</td>\n",
              "      <td>512.0</td>\n",
              "      <td>1024.0</td>\n",
              "      <td>0.0</td>\n",
              "      <td>0.0</td>\n",
              "      <td>Intel</td>\n",
              "      <td>Core i7 7700HQ</td>\n",
              "      <td>2.8</td>\n",
              "      <td>Nvidia</td>\n",
              "      <td>GeForce GTX 1070</td>\n",
              "      <td>IPS Panel 4K Ultra HD</td>\n",
              "      <td>3840</td>\n",
              "      <td>2160</td>\n",
              "    </tr>\n",
              "    <tr>\n",
              "      <th>723</th>\n",
              "      <td>Dell</td>\n",
              "      <td>Alienware 17</td>\n",
              "      <td>Gaming</td>\n",
              "      <td>17.3</td>\n",
              "      <td>32</td>\n",
              "      <td>Windows 10</td>\n",
              "      <td>4.36</td>\n",
              "      <td>3659.40</td>\n",
              "      <td>1024.0</td>\n",
              "      <td>1024.0</td>\n",
              "      <td>0.0</td>\n",
              "      <td>0.0</td>\n",
              "      <td>Intel</td>\n",
              "      <td>Core i7 7700HQ</td>\n",
              "      <td>2.8</td>\n",
              "      <td>Nvidia</td>\n",
              "      <td>GeForce GTX 1070</td>\n",
              "      <td>4K Ultra HD</td>\n",
              "      <td>3840</td>\n",
              "      <td>2160</td>\n",
              "    </tr>\n",
              "    <tr>\n",
              "      <th>730</th>\n",
              "      <td>Acer</td>\n",
              "      <td>Predator 17</td>\n",
              "      <td>Gaming</td>\n",
              "      <td>17.3</td>\n",
              "      <td>16</td>\n",
              "      <td>Windows 10</td>\n",
              "      <td>4.20</td>\n",
              "      <td>1935.00</td>\n",
              "      <td>128.0</td>\n",
              "      <td>1024.0</td>\n",
              "      <td>0.0</td>\n",
              "      <td>0.0</td>\n",
              "      <td>Intel</td>\n",
              "      <td>Core i7 6700HQ</td>\n",
              "      <td>2.6</td>\n",
              "      <td>Nvidia</td>\n",
              "      <td>GeForce GTX 1060</td>\n",
              "      <td>IPS Panel Full HD</td>\n",
              "      <td>1920</td>\n",
              "      <td>1080</td>\n",
              "    </tr>\n",
              "    <tr>\n",
              "      <th>758</th>\n",
              "      <td>Dell</td>\n",
              "      <td>Alienware 17</td>\n",
              "      <td>Gaming</td>\n",
              "      <td>15.6</td>\n",
              "      <td>16</td>\n",
              "      <td>Windows 10</td>\n",
              "      <td>4.42</td>\n",
              "      <td>2868.99</td>\n",
              "      <td>256.0</td>\n",
              "      <td>1024.0</td>\n",
              "      <td>0.0</td>\n",
              "      <td>0.0</td>\n",
              "      <td>Intel</td>\n",
              "      <td>Core i7 7700HQ</td>\n",
              "      <td>2.8</td>\n",
              "      <td>Nvidia</td>\n",
              "      <td>GeForce GTX 1070</td>\n",
              "      <td>IPS Panel 4K Ultra HD</td>\n",
              "      <td>3840</td>\n",
              "      <td>2160</td>\n",
              "    </tr>\n",
              "    <tr>\n",
              "      <th>780</th>\n",
              "      <td>Dell</td>\n",
              "      <td>Alienware 17</td>\n",
              "      <td>Gaming</td>\n",
              "      <td>17.3</td>\n",
              "      <td>32</td>\n",
              "      <td>Windows 10</td>\n",
              "      <td>4.42</td>\n",
              "      <td>3588.80</td>\n",
              "      <td>1024.0</td>\n",
              "      <td>1024.0</td>\n",
              "      <td>0.0</td>\n",
              "      <td>0.0</td>\n",
              "      <td>Intel</td>\n",
              "      <td>Core i7 7700HQ</td>\n",
              "      <td>2.8</td>\n",
              "      <td>Nvidia</td>\n",
              "      <td>GeForce GTX 1070M</td>\n",
              "      <td>IPS Panel Full HD</td>\n",
              "      <td>1920</td>\n",
              "      <td>1080</td>\n",
              "    </tr>\n",
              "    <tr>\n",
              "      <th>781</th>\n",
              "      <td>Asus</td>\n",
              "      <td>Rog G752VS-BA171T</td>\n",
              "      <td>Gaming</td>\n",
              "      <td>17.3</td>\n",
              "      <td>16</td>\n",
              "      <td>Windows 10</td>\n",
              "      <td>4.30</td>\n",
              "      <td>2350.00</td>\n",
              "      <td>256.0</td>\n",
              "      <td>1024.0</td>\n",
              "      <td>0.0</td>\n",
              "      <td>0.0</td>\n",
              "      <td>Intel</td>\n",
              "      <td>Core i7 6700HQ</td>\n",
              "      <td>2.6</td>\n",
              "      <td>Nvidia</td>\n",
              "      <td>GeForce GTX 1070</td>\n",
              "      <td>IPS Panel Full HD</td>\n",
              "      <td>1920</td>\n",
              "      <td>1080</td>\n",
              "    </tr>\n",
              "    <tr>\n",
              "      <th>788</th>\n",
              "      <td>Acer</td>\n",
              "      <td>Predator G9-793</td>\n",
              "      <td>Gaming</td>\n",
              "      <td>17.3</td>\n",
              "      <td>16</td>\n",
              "      <td>Windows 10</td>\n",
              "      <td>4.20</td>\n",
              "      <td>2299.00</td>\n",
              "      <td>256.0</td>\n",
              "      <td>1024.0</td>\n",
              "      <td>0.0</td>\n",
              "      <td>0.0</td>\n",
              "      <td>Intel</td>\n",
              "      <td>Core i7 7700HQ</td>\n",
              "      <td>2.8</td>\n",
              "      <td>Nvidia</td>\n",
              "      <td>GeForce GTX 1060</td>\n",
              "      <td>IPS Panel Full HD</td>\n",
              "      <td>1920</td>\n",
              "      <td>1080</td>\n",
              "    </tr>\n",
              "    <tr>\n",
              "      <th>810</th>\n",
              "      <td>HP</td>\n",
              "      <td>Omen 17-an012dx</td>\n",
              "      <td>Gaming</td>\n",
              "      <td>17.3</td>\n",
              "      <td>12</td>\n",
              "      <td>Windows 10</td>\n",
              "      <td>3.74</td>\n",
              "      <td>1749.00</td>\n",
              "      <td>0.0</td>\n",
              "      <td>1024.0</td>\n",
              "      <td>0.0</td>\n",
              "      <td>0.0</td>\n",
              "      <td>Intel</td>\n",
              "      <td>Core i7 7700HQ</td>\n",
              "      <td>2.8</td>\n",
              "      <td>AMD</td>\n",
              "      <td>Radeon RX 580</td>\n",
              "      <td>IPS Panel Full HD</td>\n",
              "      <td>1920</td>\n",
              "      <td>1080</td>\n",
              "    </tr>\n",
              "    <tr>\n",
              "      <th>818</th>\n",
              "      <td>Dell</td>\n",
              "      <td>Alienware 17</td>\n",
              "      <td>Gaming</td>\n",
              "      <td>17.3</td>\n",
              "      <td>16</td>\n",
              "      <td>Windows 10</td>\n",
              "      <td>4.36</td>\n",
              "      <td>2505.02</td>\n",
              "      <td>128.0</td>\n",
              "      <td>1024.0</td>\n",
              "      <td>0.0</td>\n",
              "      <td>0.0</td>\n",
              "      <td>Intel</td>\n",
              "      <td>Core i7 7700HQ</td>\n",
              "      <td>2.8</td>\n",
              "      <td>Nvidia</td>\n",
              "      <td>GeForce GTX 1060</td>\n",
              "      <td>IPS Panel Full HD</td>\n",
              "      <td>1920</td>\n",
              "      <td>1080</td>\n",
              "    </tr>\n",
              "    <tr>\n",
              "      <th>841</th>\n",
              "      <td>Dell</td>\n",
              "      <td>Alienware 17</td>\n",
              "      <td>Gaming</td>\n",
              "      <td>17.3</td>\n",
              "      <td>32</td>\n",
              "      <td>Windows 10</td>\n",
              "      <td>4.42</td>\n",
              "      <td>3072.89</td>\n",
              "      <td>512.0</td>\n",
              "      <td>1024.0</td>\n",
              "      <td>0.0</td>\n",
              "      <td>0.0</td>\n",
              "      <td>Intel</td>\n",
              "      <td>Core i7 7700HQ</td>\n",
              "      <td>2.8</td>\n",
              "      <td>Nvidia</td>\n",
              "      <td>GeForce GTX 1070</td>\n",
              "      <td>IPS Panel Full HD</td>\n",
              "      <td>1920</td>\n",
              "      <td>1080</td>\n",
              "    </tr>\n",
              "    <tr>\n",
              "      <th>901</th>\n",
              "      <td>Asus</td>\n",
              "      <td>G701VO-IH74K (i7-6820HK/32GB/2x</td>\n",
              "      <td>Gaming</td>\n",
              "      <td>17.3</td>\n",
              "      <td>32</td>\n",
              "      <td>Windows 10</td>\n",
              "      <td>3.58</td>\n",
              "      <td>1279.00</td>\n",
              "      <td>512.0</td>\n",
              "      <td>0.0</td>\n",
              "      <td>0.0</td>\n",
              "      <td>0.0</td>\n",
              "      <td>Intel</td>\n",
              "      <td>Core i7 6820HK</td>\n",
              "      <td>2.7</td>\n",
              "      <td>Nvidia</td>\n",
              "      <td>GeForce GTX 980M</td>\n",
              "      <td>IPS Panel Full HD</td>\n",
              "      <td>1920</td>\n",
              "      <td>1080</td>\n",
              "    </tr>\n",
              "    <tr>\n",
              "      <th>939</th>\n",
              "      <td>Dell</td>\n",
              "      <td>Alienware 17</td>\n",
              "      <td>Gaming</td>\n",
              "      <td>17.3</td>\n",
              "      <td>16</td>\n",
              "      <td>Windows 10</td>\n",
              "      <td>4.36</td>\n",
              "      <td>2758.00</td>\n",
              "      <td>512.0</td>\n",
              "      <td>1024.0</td>\n",
              "      <td>0.0</td>\n",
              "      <td>0.0</td>\n",
              "      <td>Intel</td>\n",
              "      <td>Core i7 6820HK</td>\n",
              "      <td>2.7</td>\n",
              "      <td>Nvidia</td>\n",
              "      <td>GeForce GTX 1080</td>\n",
              "      <td>Unknown</td>\n",
              "      <td>2560</td>\n",
              "      <td>1440</td>\n",
              "    </tr>\n",
              "    <tr>\n",
              "      <th>955</th>\n",
              "      <td>Dell</td>\n",
              "      <td>Alienware 17</td>\n",
              "      <td>Gaming</td>\n",
              "      <td>17.3</td>\n",
              "      <td>16</td>\n",
              "      <td>Windows 10</td>\n",
              "      <td>4.36</td>\n",
              "      <td>3154.00</td>\n",
              "      <td>512.0</td>\n",
              "      <td>1024.0</td>\n",
              "      <td>0.0</td>\n",
              "      <td>0.0</td>\n",
              "      <td>Intel</td>\n",
              "      <td>Core i7 7700HQ</td>\n",
              "      <td>2.8</td>\n",
              "      <td>Nvidia</td>\n",
              "      <td>GeForce GTX 1070</td>\n",
              "      <td>IPS Panel 4K Ultra HD</td>\n",
              "      <td>3840</td>\n",
              "      <td>2160</td>\n",
              "    </tr>\n",
              "    <tr>\n",
              "      <th>968</th>\n",
              "      <td>Dell</td>\n",
              "      <td>Alienware 17</td>\n",
              "      <td>Gaming</td>\n",
              "      <td>17.3</td>\n",
              "      <td>32</td>\n",
              "      <td>Windows 10</td>\n",
              "      <td>4.42</td>\n",
              "      <td>3149.00</td>\n",
              "      <td>256.0</td>\n",
              "      <td>1024.0</td>\n",
              "      <td>0.0</td>\n",
              "      <td>0.0</td>\n",
              "      <td>Intel</td>\n",
              "      <td>Core i7 7700HQ</td>\n",
              "      <td>2.8</td>\n",
              "      <td>Nvidia</td>\n",
              "      <td>GeForce GTX 1070</td>\n",
              "      <td>IPS Panel Full HD</td>\n",
              "      <td>1920</td>\n",
              "      <td>1080</td>\n",
              "    </tr>\n",
              "    <tr>\n",
              "      <th>972</th>\n",
              "      <td>Dell</td>\n",
              "      <td>Alienware 17</td>\n",
              "      <td>Gaming</td>\n",
              "      <td>17.3</td>\n",
              "      <td>32</td>\n",
              "      <td>Windows 10</td>\n",
              "      <td>4.42</td>\n",
              "      <td>2800.00</td>\n",
              "      <td>256.0</td>\n",
              "      <td>1024.0</td>\n",
              "      <td>0.0</td>\n",
              "      <td>0.0</td>\n",
              "      <td>Intel</td>\n",
              "      <td>Core i7 6700HQ</td>\n",
              "      <td>2.6</td>\n",
              "      <td>Nvidia</td>\n",
              "      <td>GeForce GTX 1070</td>\n",
              "      <td>Full HD</td>\n",
              "      <td>1920</td>\n",
              "      <td>1080</td>\n",
              "    </tr>\n",
              "    <tr>\n",
              "      <th>1047</th>\n",
              "      <td>MSI</td>\n",
              "      <td>GT72S Dominator</td>\n",
              "      <td>Gaming</td>\n",
              "      <td>17.3</td>\n",
              "      <td>16</td>\n",
              "      <td>Windows 10</td>\n",
              "      <td>3.78</td>\n",
              "      <td>1545.64</td>\n",
              "      <td>256.0</td>\n",
              "      <td>1024.0</td>\n",
              "      <td>0.0</td>\n",
              "      <td>0.0</td>\n",
              "      <td>Intel</td>\n",
              "      <td>Core i7 6820HK</td>\n",
              "      <td>2.7</td>\n",
              "      <td>Nvidia</td>\n",
              "      <td>GeForce GTX 980M</td>\n",
              "      <td>IPS Panel Full HD</td>\n",
              "      <td>1920</td>\n",
              "      <td>1080</td>\n",
              "    </tr>\n",
              "    <tr>\n",
              "      <th>1048</th>\n",
              "      <td>Lenovo</td>\n",
              "      <td>IdeaPad Y900-17ISK</td>\n",
              "      <td>Gaming</td>\n",
              "      <td>17.3</td>\n",
              "      <td>16</td>\n",
              "      <td>Windows 10</td>\n",
              "      <td>4.60</td>\n",
              "      <td>2289.99</td>\n",
              "      <td>128.0</td>\n",
              "      <td>1024.0</td>\n",
              "      <td>0.0</td>\n",
              "      <td>0.0</td>\n",
              "      <td>Intel</td>\n",
              "      <td>Core i7 6700HQ</td>\n",
              "      <td>2.6</td>\n",
              "      <td>Nvidia</td>\n",
              "      <td>GeForce GTX 980M</td>\n",
              "      <td>IPS Panel Full HD</td>\n",
              "      <td>1920</td>\n",
              "      <td>1080</td>\n",
              "    </tr>\n",
              "    <tr>\n",
              "      <th>1061</th>\n",
              "      <td>Asus</td>\n",
              "      <td>Rog G752VL-GC088D</td>\n",
              "      <td>Gaming</td>\n",
              "      <td>17.3</td>\n",
              "      <td>16</td>\n",
              "      <td>No OS</td>\n",
              "      <td>4.00</td>\n",
              "      <td>998.00</td>\n",
              "      <td>0.0</td>\n",
              "      <td>1024.0</td>\n",
              "      <td>0.0</td>\n",
              "      <td>0.0</td>\n",
              "      <td>Intel</td>\n",
              "      <td>Core i7 6700HQ</td>\n",
              "      <td>2.6</td>\n",
              "      <td>Nvidia</td>\n",
              "      <td>GeForce GTX 965M</td>\n",
              "      <td>IPS Panel Full HD</td>\n",
              "      <td>1920</td>\n",
              "      <td>1080</td>\n",
              "    </tr>\n",
              "    <tr>\n",
              "      <th>1066</th>\n",
              "      <td>Asus</td>\n",
              "      <td>ROG G701VO</td>\n",
              "      <td>Gaming</td>\n",
              "      <td>17.3</td>\n",
              "      <td>64</td>\n",
              "      <td>Windows 10</td>\n",
              "      <td>3.58</td>\n",
              "      <td>3975.00</td>\n",
              "      <td>1024.0</td>\n",
              "      <td>0.0</td>\n",
              "      <td>0.0</td>\n",
              "      <td>0.0</td>\n",
              "      <td>Intel</td>\n",
              "      <td>Core i7 6820HK</td>\n",
              "      <td>2.7</td>\n",
              "      <td>Nvidia</td>\n",
              "      <td>GeForce GTX 980</td>\n",
              "      <td>IPS Panel Full HD</td>\n",
              "      <td>1920</td>\n",
              "      <td>1080</td>\n",
              "    </tr>\n",
              "    <tr>\n",
              "      <th>1077</th>\n",
              "      <td>MSI</td>\n",
              "      <td>GT72VR Dominator</td>\n",
              "      <td>Gaming</td>\n",
              "      <td>17.3</td>\n",
              "      <td>16</td>\n",
              "      <td>Windows 10</td>\n",
              "      <td>3.78</td>\n",
              "      <td>2499.00</td>\n",
              "      <td>256.0</td>\n",
              "      <td>1024.0</td>\n",
              "      <td>0.0</td>\n",
              "      <td>0.0</td>\n",
              "      <td>Intel</td>\n",
              "      <td>Core i7 7700HQ</td>\n",
              "      <td>2.8</td>\n",
              "      <td>Nvidia</td>\n",
              "      <td>GeForce GTX 1070</td>\n",
              "      <td>Full HD</td>\n",
              "      <td>1920</td>\n",
              "      <td>1080</td>\n",
              "    </tr>\n",
              "    <tr>\n",
              "      <th>1081</th>\n",
              "      <td>Lenovo</td>\n",
              "      <td>IdeaPad Y900-17ISK</td>\n",
              "      <td>Gaming</td>\n",
              "      <td>17.3</td>\n",
              "      <td>32</td>\n",
              "      <td>Windows 10</td>\n",
              "      <td>4.60</td>\n",
              "      <td>3240.00</td>\n",
              "      <td>512.0</td>\n",
              "      <td>0.0</td>\n",
              "      <td>0.0</td>\n",
              "      <td>1024.0</td>\n",
              "      <td>Intel</td>\n",
              "      <td>Core i7 6820HK</td>\n",
              "      <td>2.7</td>\n",
              "      <td>Nvidia</td>\n",
              "      <td>GeForce GTX 980M</td>\n",
              "      <td>IPS Panel Full HD</td>\n",
              "      <td>1920</td>\n",
              "      <td>1080</td>\n",
              "    </tr>\n",
              "    <tr>\n",
              "      <th>1099</th>\n",
              "      <td>Asus</td>\n",
              "      <td>G752VY-GC162T (i7-6700HQ/16GB/1TB</td>\n",
              "      <td>Gaming</td>\n",
              "      <td>17.3</td>\n",
              "      <td>16</td>\n",
              "      <td>Windows 10</td>\n",
              "      <td>4.30</td>\n",
              "      <td>2299.00</td>\n",
              "      <td>128.0</td>\n",
              "      <td>1024.0</td>\n",
              "      <td>0.0</td>\n",
              "      <td>0.0</td>\n",
              "      <td>Intel</td>\n",
              "      <td>Core i7 6700HQ</td>\n",
              "      <td>2.6</td>\n",
              "      <td>Nvidia</td>\n",
              "      <td>GeForce GTX 980M</td>\n",
              "      <td>IPS Panel Full HD</td>\n",
              "      <td>1920</td>\n",
              "      <td>1080</td>\n",
              "    </tr>\n",
              "    <tr>\n",
              "      <th>1116</th>\n",
              "      <td>Lenovo</td>\n",
              "      <td>IdeaPad Y900-17ISK</td>\n",
              "      <td>Gaming</td>\n",
              "      <td>17.3</td>\n",
              "      <td>16</td>\n",
              "      <td>Windows 10</td>\n",
              "      <td>4.60</td>\n",
              "      <td>2749.99</td>\n",
              "      <td>256.0</td>\n",
              "      <td>0.0</td>\n",
              "      <td>0.0</td>\n",
              "      <td>1024.0</td>\n",
              "      <td>Intel</td>\n",
              "      <td>Core i7 6820HK</td>\n",
              "      <td>2.7</td>\n",
              "      <td>Nvidia</td>\n",
              "      <td>GeForce GTX 980M</td>\n",
              "      <td>IPS Panel Full HD</td>\n",
              "      <td>1920</td>\n",
              "      <td>1080</td>\n",
              "    </tr>\n",
              "    <tr>\n",
              "      <th>1119</th>\n",
              "      <td>Asus</td>\n",
              "      <td>Rog GL752VW-T4308T</td>\n",
              "      <td>Gaming</td>\n",
              "      <td>17.3</td>\n",
              "      <td>8</td>\n",
              "      <td>Windows 10</td>\n",
              "      <td>3.52</td>\n",
              "      <td>1312.49</td>\n",
              "      <td>128.0</td>\n",
              "      <td>1024.0</td>\n",
              "      <td>0.0</td>\n",
              "      <td>0.0</td>\n",
              "      <td>Intel</td>\n",
              "      <td>Core i7 6700HQ</td>\n",
              "      <td>2.6</td>\n",
              "      <td>Nvidia</td>\n",
              "      <td>GeForce GTX 960M</td>\n",
              "      <td>Full HD</td>\n",
              "      <td>1920</td>\n",
              "      <td>1080</td>\n",
              "    </tr>\n",
              "    <tr>\n",
              "      <th>1138</th>\n",
              "      <td>MSI</td>\n",
              "      <td>GT72S Dominator</td>\n",
              "      <td>Gaming</td>\n",
              "      <td>17.3</td>\n",
              "      <td>16</td>\n",
              "      <td>Windows 10</td>\n",
              "      <td>3.78</td>\n",
              "      <td>2399.00</td>\n",
              "      <td>256.0</td>\n",
              "      <td>1024.0</td>\n",
              "      <td>0.0</td>\n",
              "      <td>0.0</td>\n",
              "      <td>Intel</td>\n",
              "      <td>Core i7 6820HQ</td>\n",
              "      <td>2.7</td>\n",
              "      <td>Nvidia</td>\n",
              "      <td>GeForce GTX 980M</td>\n",
              "      <td>Full HD</td>\n",
              "      <td>1920</td>\n",
              "      <td>1080</td>\n",
              "    </tr>\n",
              "    <tr>\n",
              "      <th>1189</th>\n",
              "      <td>Acer</td>\n",
              "      <td>Predator G9-793</td>\n",
              "      <td>Gaming</td>\n",
              "      <td>17.3</td>\n",
              "      <td>16</td>\n",
              "      <td>Windows 10</td>\n",
              "      <td>4.20</td>\n",
              "      <td>2599.00</td>\n",
              "      <td>256.0</td>\n",
              "      <td>1024.0</td>\n",
              "      <td>0.0</td>\n",
              "      <td>0.0</td>\n",
              "      <td>Intel</td>\n",
              "      <td>Core i7 7700HQ</td>\n",
              "      <td>2.8</td>\n",
              "      <td>Nvidia</td>\n",
              "      <td>GeForce GTX 1070</td>\n",
              "      <td>IPS Panel Full HD</td>\n",
              "      <td>1920</td>\n",
              "      <td>1080</td>\n",
              "    </tr>\n",
              "    <tr>\n",
              "      <th>1197</th>\n",
              "      <td>Asus</td>\n",
              "      <td>Rog G752VY-GC229T</td>\n",
              "      <td>Gaming</td>\n",
              "      <td>17.3</td>\n",
              "      <td>16</td>\n",
              "      <td>Windows 10</td>\n",
              "      <td>4.30</td>\n",
              "      <td>2150.00</td>\n",
              "      <td>512.0</td>\n",
              "      <td>1024.0</td>\n",
              "      <td>0.0</td>\n",
              "      <td>0.0</td>\n",
              "      <td>Intel</td>\n",
              "      <td>Core i7 6700HQ</td>\n",
              "      <td>2.6</td>\n",
              "      <td>Nvidia</td>\n",
              "      <td>GeForce GTX 980M</td>\n",
              "      <td>IPS Panel Full HD</td>\n",
              "      <td>1920</td>\n",
              "      <td>1080</td>\n",
              "    </tr>\n",
              "    <tr>\n",
              "      <th>1256</th>\n",
              "      <td>Asus</td>\n",
              "      <td>Rog G752VT-GC073T</td>\n",
              "      <td>Gaming</td>\n",
              "      <td>17.3</td>\n",
              "      <td>16</td>\n",
              "      <td>Windows 10</td>\n",
              "      <td>4.00</td>\n",
              "      <td>1900.00</td>\n",
              "      <td>128.0</td>\n",
              "      <td>1024.0</td>\n",
              "      <td>0.0</td>\n",
              "      <td>0.0</td>\n",
              "      <td>Intel</td>\n",
              "      <td>Core i7 6700HQ</td>\n",
              "      <td>2.6</td>\n",
              "      <td>Nvidia</td>\n",
              "      <td>GeForce GTX 970M</td>\n",
              "      <td>IPS Panel Full HD</td>\n",
              "      <td>1920</td>\n",
              "      <td>1080</td>\n",
              "    </tr>\n",
              "  </tbody>\n",
              "</table>\n",
              "</div>"
            ],
            "text/plain": [
              "     Company  ... ScreenResolution_High\n",
              "177      MSI  ...                  1080\n",
              "224     Dell  ...                  1080\n",
              "238     Asus  ...                  1080\n",
              "247     Asus  ...                  1080\n",
              "251     Asus  ...                  1080\n",
              "258      MSI  ...                  1080\n",
              "424     Dell  ...                  1440\n",
              "456     Dell  ...                  1080\n",
              "468       HP  ...                  1080\n",
              "494     Asus  ...                  1080\n",
              "530     Dell  ...                  1080\n",
              "552     Dell  ...                  1080\n",
              "577   Lenovo  ...                  1080\n",
              "578      MSI  ...                  1080\n",
              "585      MSI  ...                  1080\n",
              "586       HP  ...                  1080\n",
              "603      MSI  ...                  1080\n",
              "650     Asus  ...                  1080\n",
              "659     Dell  ...                  2160\n",
              "723     Dell  ...                  2160\n",
              "730     Acer  ...                  1080\n",
              "758     Dell  ...                  2160\n",
              "780     Dell  ...                  1080\n",
              "781     Asus  ...                  1080\n",
              "788     Acer  ...                  1080\n",
              "810       HP  ...                  1080\n",
              "818     Dell  ...                  1080\n",
              "841     Dell  ...                  1080\n",
              "901     Asus  ...                  1080\n",
              "939     Dell  ...                  1440\n",
              "955     Dell  ...                  2160\n",
              "968     Dell  ...                  1080\n",
              "972     Dell  ...                  1080\n",
              "1047     MSI  ...                  1080\n",
              "1048  Lenovo  ...                  1080\n",
              "1061    Asus  ...                  1080\n",
              "1066    Asus  ...                  1080\n",
              "1077     MSI  ...                  1080\n",
              "1081  Lenovo  ...                  1080\n",
              "1099    Asus  ...                  1080\n",
              "1116  Lenovo  ...                  1080\n",
              "1119    Asus  ...                  1080\n",
              "1138     MSI  ...                  1080\n",
              "1189    Acer  ...                  1080\n",
              "1197    Asus  ...                  1080\n",
              "1256    Asus  ...                  1080\n",
              "\n",
              "[46 rows x 20 columns]"
            ]
          },
          "metadata": {
            "tags": []
          },
          "execution_count": 61
        }
      ]
    },
    {
      "cell_type": "markdown",
      "metadata": {
        "id": "meGj00zbv-y4"
      },
      "source": [
        "Se aprecia como, de nuevo, vuelve a tratarse de ordenadores Gaming, los cuales parece ser que pesan más que los \"normales\", posiblemente, debido a que presentan componentes más pesados y pesados, siendo ordenadores centrados en el rendimiento y no tanto en la portabilidad. \n",
        "Para comprobar cómo estos ordenadores no son mayoría, se realizará un gráfico de barras en función del tipo de ordeandor:"
      ]
    },
    {
      "cell_type": "code",
      "metadata": {
        "colab": {
          "base_uri": "https://localhost:8080/",
          "height": 344
        },
        "id": "4XOdotn5wVFy",
        "outputId": "ac610cab-d981-4537-fb5d-af9a10bdfec6"
      },
      "source": [
        "laptops_initial['TypeName'].value_counts().plot.bar()\n",
        "plt.show()"
      ],
      "execution_count": 64,
      "outputs": [
        {
          "output_type": "display_data",
          "data": {
            "image/png": "[encoded data removed]",
            "text/plain": [
              "<Figure size 432x288 with 1 Axes>"
            ]
          },
          "metadata": {
            "tags": [],
            "needs_background": "light"
          }
        }
      ]
    },
    {
      "cell_type": "markdown",
      "metadata": {
        "id": "qR29JfCIwwPO"
      },
      "source": [
        "Se aprecia como el tipo Notebook es el más presente en el dataSet, y por tanto, el que concetrará más ordeandores de las mismas características. El resto de ordenadores, aunque tienen diferentes funcionalidades, tienen un uso parecido entre ellos (notebook, ultrabook o 2 en 1), en donde sus diferencias en términos de características son pequeñas (que la pantalla sea táctil, que sea mas transportable...). Sin embargo, los gaming, suelen ser ordenadores más potentes, y habitualmente, más grandes, alejándose del resto de los ordenadores que hacen que se presente esta diferencia, y no por ello son datos inválidos. Serán simplemente, como el nombre del apartado indica, valores extremos. "
      ]
    },
    {
      "cell_type": "markdown",
      "metadata": {
        "id": "R8LpueIjupYq"
      },
      "source": [
        "Para el resto de variables numéricas, no tiene tanto sentido elaborar este estudio, ya que aunque son valores numéricos, son valores que no son continuos como tal, ya que las medidas dadas en GB son medidas específicas (8-16-64...), al igual que ocurre con los tamaños de pantalla, en donde suelen ser tamaños estandarizados (alto-ancho) y no llegan a ser continuos como tal. Además, estos valores se han visto en la preparación de datos anteriores, y no ha apreciado ningún valor fuera de lo común o medida desmesurada para un ordenador.\n",
        "\n",
        "//TODO: Lo hacemos para Velocidad y Pulgadas?"
      ]
    },
    {
      "cell_type": "markdown",
      "metadata": {
        "id": "GecxlPcx0-Vo"
      },
      "source": [
        "# **4. Análisis de los datos**\n",
        "\n",
        "## 4.1 Selección de los grupos de datos que se quieren analizar/comparar (planificación de los análisis a aplicar)."
      ]
    },
    {
      "cell_type": "markdown",
      "metadata": {
        "id": "AL8WMdBU1NkU"
      },
      "source": [
        "La variable objetivo de este conjunto de datos es la variable de Price_euros, debido a que en apartados posteriores, realizaremos un contraste de medias y un modelo de regresión lineal.\n",
        "\n",
        "En el contraste de medias, estudiaremos si se puede afirmar que es estadísticamente significativo que los productos de Apple tengan un coste más elevado que el resto de marcas. \n",
        "\n",
        "En la regresión lineal, se realizará un modelo que trate de predecir el precio de un dispositivo teniendo en cuenta sus características técnicas. Para ello, se hará uso de las variables independientes que muestren tener más impacto en el cálculo final del producto, realizando un análisis de sus distribuciones y correlación."
      ]
    },
    {
      "cell_type": "markdown",
      "metadata": {
        "id": "hif8PnpVDJjU"
      },
      "source": [
        "## **Contraste de medias**"
      ]
    },
    {
      "cell_type": "markdown",
      "metadata": {
        "id": "cLeEF46ADRpc"
      },
      "source": [
        "Tal y como se ha indicado anteriormente, procedemos en este apartado a realizar un constraste de medias que nos indicará si los productos de Apple son significativamente más caros, de media, que el resto de productos de otras marcas. \n",
        "\n",
        "Para ello, separaremos primero el dataset en dos de tal forma que contengan respectivamente los precios de los productos de Apple y del resto de marcas."
      ]
    },
    {
      "cell_type": "code",
      "metadata": {
        "colab": {
          "base_uri": "https://localhost:8080/"
        },
        "id": "EpOF6_VbDoEq",
        "outputId": "f0d48bd3-0a3e-454e-b6de-bb4b2cbb8526"
      },
      "source": [
        "apple_prices = laptops_initial[laptops_initial[\"Company\"] == \"Apple\"][\"Price_euros\"]\n",
        "other_prices = laptops_initial[laptops_initial[\"Company\"] != \"Apple\"][\"Price_euros\"]\n",
        "print(apple_prices.head(5))\n",
        "print(other_prices.head(5))\n",
        "\n",
        "print(f'Precio medio de los productos de Apple: {round(st.mean(apple_prices), 2)}.')\n",
        "print(f'Precio medio de los productos de otras marcas: {round(st.mean(other_prices), 2)}.')"
      ],
      "execution_count": 36,
      "outputs": [
        {
          "output_type": "stream",
          "text": [
            "0    1339.69\n",
            "1     898.94\n",
            "3    2537.45\n",
            "4    1803.60\n",
            "6    2139.97\n",
            "Name: Price_euros, dtype: float64\n",
            "2      575.0\n",
            "5      400.0\n",
            "8     1495.0\n",
            "9      770.0\n",
            "10     393.9\n",
            "Name: Price_euros, dtype: float64\n",
            "Precio medio de los productos de Apple: 1564.2.\n",
            "Precio medio de los productos de otras marcas: 1116.47.\n"
          ],
          "name": "stdout"
        }
      ]
    },
    {
      "cell_type": "markdown",
      "metadata": {
        "id": "GGMOT49BGsBC"
      },
      "source": [
        "Una vez separadas las muestras, estudiamos la normalidad de cada una de ellas:"
      ]
    },
    {
      "cell_type": "code",
      "metadata": {
        "colab": {
          "base_uri": "https://localhost:8080/",
          "height": 629
        },
        "id": "TdgWGxEXGwxs",
        "outputId": "8149035b-3d7c-48cb-dc01-1d403e5847c8"
      },
      "source": [
        "# Histograma y gráfico de probabilidad normal de los precios de Apple:\n",
        "\n",
        "sns.distplot(apple_prices, fit = norm);\n",
        "fig = plt.figure()\n",
        "res = stats.probplot(apple_prices, plot = plt)\n",
        "\n",
        "# Prueba de Shapiro-Wilk\n",
        "stat, p = shapiro(apple_prices)\n",
        "stat, p"
      ],
      "execution_count": 37,
      "outputs": [
        {
          "output_type": "stream",
          "text": [
            "/usr/local/lib/python3.7/dist-packages/seaborn/distributions.py:2557: FutureWarning: `distplot` is a deprecated function and will be removed in a future version. Please adapt your code to use either `displot` (a figure-level function with similar flexibility) or `histplot` (an axes-level function for histograms).\n",
            "  warnings.warn(msg, FutureWarning)\n"
          ],
          "name": "stderr"
        },
        {
          "output_type": "execute_result",
          "data": {
            "text/plain": [
              "(0.8930661678314209, 0.025735169649124146)"
            ]
          },
          "metadata": {
            "tags": []
          },
          "execution_count": 37
        },
        {
          "output_type": "display_data",
          "data": {
            "image/png": "[encoded data removed]",
            "text/plain": [
              "<Figure size 432x288 with 1 Axes>"
            ]
          },
          "metadata": {
            "tags": [],
            "needs_background": "light"
          }
        },
        {
          "output_type": "display_data",
          "data": {
            "image/png": "[encoded data removed]",
            "text/plain": [
              "<Figure size 432x288 with 1 Axes>"
            ]
          },
          "metadata": {
            "tags": [],
            "needs_background": "light"
          }
        }
      ]
    },
    {
      "cell_type": "code",
      "metadata": {
        "colab": {
          "base_uri": "https://localhost:8080/",
          "height": 629
        },
        "id": "cfZN8XUnHKza",
        "outputId": "2a2f377a-4814-426d-8073-84faecf011ba"
      },
      "source": [
        "# Histograma y gráfico de probabilidad normal de los precios del resto de marcas:\n",
        "\n",
        "sns.distplot(other_prices, fit = norm);\n",
        "fig = plt.figure()\n",
        "res = stats.probplot(other_prices, plot = plt)\n",
        "\n",
        "# Prueba de Shapiro-Wilk\n",
        "stat, p = shapiro(other_prices)\n",
        "stat, p"
      ],
      "execution_count": 38,
      "outputs": [
        {
          "output_type": "stream",
          "text": [
            "/usr/local/lib/python3.7/dist-packages/seaborn/distributions.py:2557: FutureWarning: `distplot` is a deprecated function and will be removed in a future version. Please adapt your code to use either `displot` (a figure-level function with similar flexibility) or `histplot` (an axes-level function for histograms).\n",
            "  warnings.warn(msg, FutureWarning)\n"
          ],
          "name": "stderr"
        },
        {
          "output_type": "execute_result",
          "data": {
            "text/plain": [
              "(0.8909043669700623, 3.601114643371191e-29)"
            ]
          },
          "metadata": {
            "tags": []
          },
          "execution_count": 38
        },
        {
          "output_type": "display_data",
          "data": {
            "image/png": "[encoded data removed]",
            "text/plain": [
              "<Figure size 432x288 with 1 Axes>"
            ]
          },
          "metadata": {
            "tags": [],
            "needs_background": "light"
          }
        },
        {
          "output_type": "display_data",
          "data": {
            "image/png": "[encoded data removed]",
            "text/plain": [
              "<Figure size 432x288 with 1 Axes>"
            ]
          },
          "metadata": {
            "tags": [],
            "needs_background": "light"
          }
        }
      ]
    },
    {
      "cell_type": "markdown",
      "metadata": {
        "id": "pNIaMWiHHZS8"
      },
      "source": [
        "En base a los resultados obtenidos, no es posible garantizar la normalidad en la distribución de las muestras de precios tanto de apple como de otras marcas dado que el test de Shapiro rechaza la hipótesis nula de normalidad. Asimismo, en el caso del subset de Apple, no sería posible tampoco aplicar el teorema del límite central al no superar las 30 muestras. \n",
        "\n",
        "En este sentido, para poder confirmar si podemos asumir homocedasticidad (igualdad de varianzas entre muestras) debemos aplicar el test de Fligner-Killeen (no paramétrico) al no poder suponer normalidad:"
      ]
    },
    {
      "cell_type": "code",
      "metadata": {
        "colab": {
          "base_uri": "https://localhost:8080/"
        },
        "id": "QEXw4ZiAIJdE",
        "outputId": "78e24384-47d7-40d8-ffd6-531c50f403b1"
      },
      "source": [
        "# Fligner-Killeen test\n",
        "fligner_test = stats.fligner(apple_prices, other_prices, center='median')\n",
        "fligner_test"
      ],
      "execution_count": 39,
      "outputs": [
        {
          "output_type": "execute_result",
          "data": {
            "text/plain": [
              "FlignerResult(statistic=0.9821213321141975, pvalue=0.32167564402079707)"
            ]
          },
          "metadata": {
            "tags": []
          },
          "execution_count": 39
        }
      ]
    },
    {
      "cell_type": "markdown",
      "metadata": {
        "id": "4d9YKNtEIunU"
      },
      "source": [
        "A raíz de los resultados (p value >> 0.05) no podemos descartar la hipótesis nula, por lo que se confirma la homocedasticidad. No obstante, debido a que no hemos podido afirmar que sigan distribuciones normales, no podremos aplicar un contraste de muestras paramétrico (t-Student), si no que tendremos que aplicar uno no paramétrico (Mann-Whitney):"
      ]
    },
    {
      "cell_type": "code",
      "metadata": {
        "colab": {
          "base_uri": "https://localhost:8080/"
        },
        "id": "BEWPNzTWJQG7",
        "outputId": "fe8c5167-eef6-4456-ee30-143b1910f75e"
      },
      "source": [
        "# Mann-Whitney test\n",
        "mannwhitneyu_test = stats.mannwhitneyu(apple_prices, other_prices, alternative=\"greater\")\n",
        "print(mannwhitneyu_test)"
      ],
      "execution_count": 40,
      "outputs": [
        {
          "output_type": "stream",
          "text": [
            "MannwhitneyuResult(statistic=19689.0, pvalue=0.00013581790526573893)\n"
          ],
          "name": "stdout"
        }
      ]
    },
    {
      "cell_type": "markdown",
      "metadata": {
        "id": "gt9xC7hCMk-D"
      },
      "source": [
        "En base a los resultados obtenidos del test de Mann-Whitney (p value << 0.05), podemos rechazar la hipótesis nula en favor de la hipótesis alternativa que, en este caso, correspondía con que el precio de los productos de Apple es superior de media que para el resto de marcas."
      ]
    },
    {
      "cell_type": "markdown",
      "metadata": {
        "id": "iaSIFNQdNCd_"
      },
      "source": [
        "**A partir de aquí los cálculos son provisionales y desordenados.... TODO: Modelo de regresión para predecir el precio de los productos a partir de las variables (hacer correlaciones y escoger mejores variables para despues aplicar al modelo)**"
      ]
    },
    {
      "cell_type": "markdown",
      "metadata": {
        "id": "_2CONJ5KGrxH"
      },
      "source": [
        "## **Relación con variables categóricas**"
      ]
    },
    {
      "cell_type": "code",
      "metadata": {
        "colab": {
          "base_uri": "https://localhost:8080/",
          "height": 433
        },
        "id": "j9cWkw_kBP4L",
        "outputId": "b0ed3996-e4fb-4982-8190-40604f52e145"
      },
      "source": [
        "# Boxplot Company/Price_euros:\n",
        "\n",
        "var = 'Company'\n",
        "data = pandas.concat([laptops_initial['Price_euros'], laptops_initial[var]], axis=1)\n",
        "f, ax = plt.subplots(figsize=(13, 6))\n",
        "fig = sns.boxplot(x=var, y=\"Price_euros\", data = data)\n",
        "fig.axis(ymin=0, ymax=10000);\n",
        "plt.xticks(rotation=90);"
      ],
      "execution_count": 41,
      "outputs": [
        {
          "output_type": "display_data",
          "data": {
            "image/png": "[encoded data removed]",
            "text/plain": [
              "<Figure size 936x432 with 1 Axes>"
            ]
          },
          "metadata": {
            "tags": [],
            "needs_background": "light"
          }
        }
      ]
    },
    {
      "cell_type": "code",
      "metadata": {
        "colab": {
          "base_uri": "https://localhost:8080/",
          "height": 561
        },
        "id": "ZMLp9IUyiuSo",
        "outputId": "0c35aea4-6af1-4aad-c85f-3183de9a4156"
      },
      "source": [
        "# Boxplot ScreenResolution/Price_euros:\n",
        "\n",
        "var = 'ScreenResolution'\n",
        "data = pandas.concat([laptops_initial['Price_euros'], laptops_initial[var]], axis=1)\n",
        "f, ax = plt.subplots(figsize=(13, 6))\n",
        "fig = sns.boxplot(x=var, y=\"Price_euros\", data = data)\n",
        "fig.axis(ymin=0, ymax=10000);\n",
        "plt.xticks(rotation=90);"
      ],
      "execution_count": 42,
      "outputs": [
        {
          "output_type": "error",
          "ename": "KeyError",
          "evalue": "ignored",
          "traceback": [
            "\u001b[0;31m---------------------------------------------------------------------------\u001b[0m",
            "\u001b[0;31mKeyError\u001b[0m                                  Traceback (most recent call last)",
            "\u001b[0;32m/usr/local/lib/python3.7/dist-packages/pandas/core/indexes/base.py\u001b[0m in \u001b[0;36mget_loc\u001b[0;34m(self, key, method, tolerance)\u001b[0m\n\u001b[1;32m   2897\u001b[0m             \u001b[0;32mtry\u001b[0m\u001b[0;34m:\u001b[0m\u001b[0;34m\u001b[0m\u001b[0;34m\u001b[0m\u001b[0m\n\u001b[0;32m-> 2898\u001b[0;31m                 \u001b[0;32mreturn\u001b[0m \u001b[0mself\u001b[0m\u001b[0;34m.\u001b[0m\u001b[0m_engine\u001b[0m\u001b[0;34m.\u001b[0m\u001b[0mget_loc\u001b[0m\u001b[0;34m(\u001b[0m\u001b[0mcasted_key\u001b[0m\u001b[0;34m)\u001b[0m\u001b[0;34m\u001b[0m\u001b[0;34m\u001b[0m\u001b[0m\n\u001b[0m\u001b[1;32m   2899\u001b[0m             \u001b[0;32mexcept\u001b[0m \u001b[0mKeyError\u001b[0m \u001b[0;32mas\u001b[0m \u001b[0merr\u001b[0m\u001b[0;34m:\u001b[0m\u001b[0;34m\u001b[0m\u001b[0;34m\u001b[0m\u001b[0m\n",
            "\u001b[0;32mpandas/_libs/index.pyx\u001b[0m in \u001b[0;36mpandas._libs.index.IndexEngine.get_loc\u001b[0;34m()\u001b[0m\n",
            "\u001b[0;32mpandas/_libs/index.pyx\u001b[0m in \u001b[0;36mpandas._libs.index.IndexEngine.get_loc\u001b[0;34m()\u001b[0m\n",
            "\u001b[0;32mpandas/_libs/hashtable_class_helper.pxi\u001b[0m in \u001b[0;36mpandas._libs.hashtable.PyObjectHashTable.get_item\u001b[0;34m()\u001b[0m\n",
            "\u001b[0;32mpandas/_libs/hashtable_class_helper.pxi\u001b[0m in \u001b[0;36mpandas._libs.hashtable.PyObjectHashTable.get_item\u001b[0;34m()\u001b[0m\n",
            "\u001b[0;31mKeyError\u001b[0m: 'ScreenResolution'",
            "\nThe above exception was the direct cause of the following exception:\n",
            "\u001b[0;31mKeyError\u001b[0m                                  Traceback (most recent call last)",
            "\u001b[0;32m<ipython-input-42-bb4f2a4b6f0e>\u001b[0m in \u001b[0;36m<module>\u001b[0;34m()\u001b[0m\n\u001b[1;32m      2\u001b[0m \u001b[0;34m\u001b[0m\u001b[0m\n\u001b[1;32m      3\u001b[0m \u001b[0mvar\u001b[0m \u001b[0;34m=\u001b[0m \u001b[0;34m'ScreenResolution'\u001b[0m\u001b[0;34m\u001b[0m\u001b[0;34m\u001b[0m\u001b[0m\n\u001b[0;32m----> 4\u001b[0;31m \u001b[0mdata\u001b[0m \u001b[0;34m=\u001b[0m \u001b[0mpandas\u001b[0m\u001b[0;34m.\u001b[0m\u001b[0mconcat\u001b[0m\u001b[0;34m(\u001b[0m\u001b[0;34m[\u001b[0m\u001b[0mlaptops_initial\u001b[0m\u001b[0;34m[\u001b[0m\u001b[0;34m'Price_euros'\u001b[0m\u001b[0;34m]\u001b[0m\u001b[0;34m,\u001b[0m \u001b[0mlaptops_initial\u001b[0m\u001b[0;34m[\u001b[0m\u001b[0mvar\u001b[0m\u001b[0;34m]\u001b[0m\u001b[0;34m]\u001b[0m\u001b[0;34m,\u001b[0m \u001b[0maxis\u001b[0m\u001b[0;34m=\u001b[0m\u001b[0;36m1\u001b[0m\u001b[0;34m)\u001b[0m\u001b[0;34m\u001b[0m\u001b[0;34m\u001b[0m\u001b[0m\n\u001b[0m\u001b[1;32m      5\u001b[0m \u001b[0mf\u001b[0m\u001b[0;34m,\u001b[0m \u001b[0max\u001b[0m \u001b[0;34m=\u001b[0m \u001b[0mplt\u001b[0m\u001b[0;34m.\u001b[0m\u001b[0msubplots\u001b[0m\u001b[0;34m(\u001b[0m\u001b[0mfigsize\u001b[0m\u001b[0;34m=\u001b[0m\u001b[0;34m(\u001b[0m\u001b[0;36m13\u001b[0m\u001b[0;34m,\u001b[0m \u001b[0;36m6\u001b[0m\u001b[0;34m)\u001b[0m\u001b[0;34m)\u001b[0m\u001b[0;34m\u001b[0m\u001b[0;34m\u001b[0m\u001b[0m\n\u001b[1;32m      6\u001b[0m \u001b[0mfig\u001b[0m \u001b[0;34m=\u001b[0m \u001b[0msns\u001b[0m\u001b[0;34m.\u001b[0m\u001b[0mboxplot\u001b[0m\u001b[0;34m(\u001b[0m\u001b[0mx\u001b[0m\u001b[0;34m=\u001b[0m\u001b[0mvar\u001b[0m\u001b[0;34m,\u001b[0m \u001b[0my\u001b[0m\u001b[0;34m=\u001b[0m\u001b[0;34m\"Price_euros\"\u001b[0m\u001b[0;34m,\u001b[0m \u001b[0mdata\u001b[0m \u001b[0;34m=\u001b[0m \u001b[0mdata\u001b[0m\u001b[0;34m)\u001b[0m\u001b[0;34m\u001b[0m\u001b[0;34m\u001b[0m\u001b[0m\n",
            "\u001b[0;32m/usr/local/lib/python3.7/dist-packages/pandas/core/frame.py\u001b[0m in \u001b[0;36m__getitem__\u001b[0;34m(self, key)\u001b[0m\n\u001b[1;32m   2904\u001b[0m             \u001b[0;32mif\u001b[0m \u001b[0mself\u001b[0m\u001b[0;34m.\u001b[0m\u001b[0mcolumns\u001b[0m\u001b[0;34m.\u001b[0m\u001b[0mnlevels\u001b[0m \u001b[0;34m>\u001b[0m \u001b[0;36m1\u001b[0m\u001b[0;34m:\u001b[0m\u001b[0;34m\u001b[0m\u001b[0;34m\u001b[0m\u001b[0m\n\u001b[1;32m   2905\u001b[0m                 \u001b[0;32mreturn\u001b[0m \u001b[0mself\u001b[0m\u001b[0;34m.\u001b[0m\u001b[0m_getitem_multilevel\u001b[0m\u001b[0;34m(\u001b[0m\u001b[0mkey\u001b[0m\u001b[0;34m)\u001b[0m\u001b[0;34m\u001b[0m\u001b[0;34m\u001b[0m\u001b[0m\n\u001b[0;32m-> 2906\u001b[0;31m             \u001b[0mindexer\u001b[0m \u001b[0;34m=\u001b[0m \u001b[0mself\u001b[0m\u001b[0;34m.\u001b[0m\u001b[0mcolumns\u001b[0m\u001b[0;34m.\u001b[0m\u001b[0mget_loc\u001b[0m\u001b[0;34m(\u001b[0m\u001b[0mkey\u001b[0m\u001b[0;34m)\u001b[0m\u001b[0;34m\u001b[0m\u001b[0;34m\u001b[0m\u001b[0m\n\u001b[0m\u001b[1;32m   2907\u001b[0m             \u001b[0;32mif\u001b[0m \u001b[0mis_integer\u001b[0m\u001b[0;34m(\u001b[0m\u001b[0mindexer\u001b[0m\u001b[0;34m)\u001b[0m\u001b[0;34m:\u001b[0m\u001b[0;34m\u001b[0m\u001b[0;34m\u001b[0m\u001b[0m\n\u001b[1;32m   2908\u001b[0m                 \u001b[0mindexer\u001b[0m \u001b[0;34m=\u001b[0m \u001b[0;34m[\u001b[0m\u001b[0mindexer\u001b[0m\u001b[0;34m]\u001b[0m\u001b[0;34m\u001b[0m\u001b[0;34m\u001b[0m\u001b[0m\n",
            "\u001b[0;32m/usr/local/lib/python3.7/dist-packages/pandas/core/indexes/base.py\u001b[0m in \u001b[0;36mget_loc\u001b[0;34m(self, key, method, tolerance)\u001b[0m\n\u001b[1;32m   2898\u001b[0m                 \u001b[0;32mreturn\u001b[0m \u001b[0mself\u001b[0m\u001b[0;34m.\u001b[0m\u001b[0m_engine\u001b[0m\u001b[0;34m.\u001b[0m\u001b[0mget_loc\u001b[0m\u001b[0;34m(\u001b[0m\u001b[0mcasted_key\u001b[0m\u001b[0;34m)\u001b[0m\u001b[0;34m\u001b[0m\u001b[0;34m\u001b[0m\u001b[0m\n\u001b[1;32m   2899\u001b[0m             \u001b[0;32mexcept\u001b[0m \u001b[0mKeyError\u001b[0m \u001b[0;32mas\u001b[0m \u001b[0merr\u001b[0m\u001b[0;34m:\u001b[0m\u001b[0;34m\u001b[0m\u001b[0;34m\u001b[0m\u001b[0m\n\u001b[0;32m-> 2900\u001b[0;31m                 \u001b[0;32mraise\u001b[0m \u001b[0mKeyError\u001b[0m\u001b[0;34m(\u001b[0m\u001b[0mkey\u001b[0m\u001b[0;34m)\u001b[0m \u001b[0;32mfrom\u001b[0m \u001b[0merr\u001b[0m\u001b[0;34m\u001b[0m\u001b[0;34m\u001b[0m\u001b[0m\n\u001b[0m\u001b[1;32m   2901\u001b[0m \u001b[0;34m\u001b[0m\u001b[0m\n\u001b[1;32m   2902\u001b[0m         \u001b[0;32mif\u001b[0m \u001b[0mtolerance\u001b[0m \u001b[0;32mis\u001b[0m \u001b[0;32mnot\u001b[0m \u001b[0;32mNone\u001b[0m\u001b[0;34m:\u001b[0m\u001b[0;34m\u001b[0m\u001b[0;34m\u001b[0m\u001b[0m\n",
            "\u001b[0;31mKeyError\u001b[0m: 'ScreenResolution'"
          ]
        }
      ]
    },
    {
      "cell_type": "code",
      "metadata": {
        "id": "0O-seT_UC0t5"
      },
      "source": [
        "# Boxplot GPU/Price_euros:\n",
        "\n",
        "var = 'Gpu'\n",
        "data = pandas.concat([laptops_initial['Price_euros'], laptops_initial[var]], axis=1)\n",
        "f, ax = plt.subplots(figsize=(30, 6))\n",
        "fig = sns.boxplot(x=var, y=\"Price_euros\", data = data)\n",
        "fig.axis(ymin=0, ymax=10000);\n",
        "plt.xticks(rotation=90);"
      ],
      "execution_count": null,
      "outputs": []
    },
    {
      "cell_type": "code",
      "metadata": {
        "id": "S3wTYIg2F7po"
      },
      "source": [
        "# Boxplot CPU/Price_euros:\n",
        "\n",
        "var = 'Cpu'\n",
        "data = pandas.concat([laptops_initial['Price_euros'], laptops_initial[var]], axis=1)\n",
        "f, ax = plt.subplots(figsize=(30, 6))\n",
        "fig = sns.boxplot(x=var, y=\"Price_euros\", data = data)\n",
        "fig.axis(ymin=0, ymax=10000);\n",
        "plt.xticks(rotation=90);"
      ],
      "execution_count": null,
      "outputs": []
    },
    {
      "cell_type": "markdown",
      "metadata": {
        "id": "tAYJVJvSE4vW"
      },
      "source": [
        "Si bien vemos una diferencia de precios más marcada respecto a las GPU que usa cada dispositivo, también es apreciable una diferencia de precio dada por la marca del producto. \n",
        "\n",
        "En cuanto a marcas, destacan como las más caras Razer y LG y las más baratas Mediacom, Chuwi y Vero. En cuanto a GPU y CPU, son más caros los ordenadores que montan la Nvidia GeForce GTX 1080 y el Intel Core I7 7820HK 2.9GHz."
      ]
    },
    {
      "cell_type": "markdown",
      "metadata": {
        "id": "SntlAtJEGk70"
      },
      "source": [
        "## **Relación con variables numéricas**"
      ]
    },
    {
      "cell_type": "markdown",
      "metadata": {
        "id": "bK_x56pKtpth"
      },
      "source": [
        "Realizamos primero una matriz de correlación, que nos podrá indicar con qué variables tiene más relación el valor del precio:"
      ]
    },
    {
      "cell_type": "code",
      "metadata": {
        "id": "6OvrjUcTtn1c"
      },
      "source": [
        "# Matriz de correlación:\n",
        "\n",
        "corrmat = laptops_initial.corr()\n",
        "f, ax = plt.subplots(figsize=(10, 5))\n",
        "sns.heatmap(corrmat, vmax=.8, square=True);"
      ],
      "execution_count": null,
      "outputs": []
    },
    {
      "cell_type": "markdown",
      "metadata": {
        "id": "NwTE-Mg8tz_F"
      },
      "source": [
        "Tal y como se puede apreciar en el mapa de calor, la variable numérica con la que tiene más correlación el precio es con la cantidad de RAM que tenga el dispositivo.\n",
        "\n",
        "A continuación graficamos los diagramas de dispersión de las variables numéricas para ver la relación que tienen con la variable del precio. "
      ]
    },
    {
      "cell_type": "code",
      "metadata": {
        "id": "JSzt96mts9DP"
      },
      "source": [
        "# Scatter plot:\n",
        "\n",
        "sns.set()\n",
        "cols = ['Price_euros', 'Inches', 'Ram(GB)', 'Memory', 'Weight(Kg)']\n",
        "sns.pairplot(laptops_initial[cols], height = 3)\n",
        "plt.show();"
      ],
      "execution_count": null,
      "outputs": []
    }
  ]
}